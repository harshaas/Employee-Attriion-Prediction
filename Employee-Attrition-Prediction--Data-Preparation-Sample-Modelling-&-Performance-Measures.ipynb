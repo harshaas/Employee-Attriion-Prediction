{
 "cells": [
  {
   "cell_type": "markdown",
   "id": "bcf4dd9a",
   "metadata": {},
   "source": [
    "## Data Preparation and Understanding Sample Modelling and Performance Measure"
   ]
  },
  {
   "cell_type": "code",
   "execution_count": 1,
   "id": "2a2fce35",
   "metadata": {},
   "outputs": [],
   "source": [
    "# Now, Let's prepare the data for ML algorithms"
   ]
  },
  {
   "cell_type": "code",
   "execution_count": 2,
   "id": "28b4ef06",
   "metadata": {},
   "outputs": [],
   "source": [
    "# Importing the necessary libraries\n",
    "\n",
    "import os\n",
    "import numpy as np\n",
    "import pandas as pd"
   ]
  },
  {
   "cell_type": "code",
   "execution_count": 3,
   "id": "6f1b8845",
   "metadata": {},
   "outputs": [],
   "source": [
    "# To display all the columns in the dataframe\n",
    "\n",
    "pd.set_option('display.max_columns', None)"
   ]
  },
  {
   "cell_type": "code",
   "execution_count": 4,
   "id": "d4d8914e",
   "metadata": {},
   "outputs": [],
   "source": [
    "# Reading the train and test sets (These were split before EDA)\n",
    "\n",
    "def read_data(filename):\n",
    "    return pd.read_csv(os.path.join('dataset', filename), index_col='index').rename_axis(None)"
   ]
  },
  {
   "cell_type": "code",
   "execution_count": 5,
   "id": "bbc37f1e",
   "metadata": {},
   "outputs": [],
   "source": [
    "df_train = read_data('df_train.csv')\n",
    "df_test = read_data('df_test.csv')\n",
    "data = read_data('data.csv')"
   ]
  },
  {
   "cell_type": "code",
   "execution_count": 6,
   "id": "9fbd37c7",
   "metadata": {},
   "outputs": [
    {
     "name": "stdout",
     "output_type": "stream",
     "text": [
      "(1176, 35)\n",
      "(294, 35)\n",
      "(1176, 45)\n"
     ]
    }
   ],
   "source": [
    "print(df_train.shape)\n",
    "print(df_test.shape)\n",
    "print(data.shape)"
   ]
  },
  {
   "cell_type": "code",
   "execution_count": 7,
   "id": "b04797c2",
   "metadata": {},
   "outputs": [],
   "source": [
    "# Encoding the target variable in both train and test set\n",
    "\n",
    "from sklearn.preprocessing import LabelEncoder\n",
    "\n",
    "le = LabelEncoder()\n",
    "\n",
    "df_train['Attrition'] = le.fit_transform(df_train['Attrition'])\n",
    "\n",
    "df_test['Attrition'] = le.transform(df_test['Attrition'])"
   ]
  },
  {
   "cell_type": "code",
   "execution_count": 8,
   "id": "9b1896f6",
   "metadata": {},
   "outputs": [],
   "source": [
    "# Separating X and y i.e. the independent tariables and the target variable\n",
    "\n",
    "employees = df_train.drop('Attrition', axis=1)\n",
    "employees_labels = df_train['Attrition'].copy()\n",
    "\n",
    "employees_test = df_test.drop('Attrition', axis=1)\n",
    "employees_test_labels = df_test['Attrition'].copy()"
   ]
  },
  {
   "cell_type": "code",
   "execution_count": 9,
   "id": "e0b39838",
   "metadata": {},
   "outputs": [
    {
     "name": "stdout",
     "output_type": "stream",
     "text": [
      "(1176, 34) (1176,)\n",
      "(294, 34) (294,)\n"
     ]
    }
   ],
   "source": [
    "print(employees.shape, employees_labels.shape)\n",
    "print(employees_test.shape, employees_test_labels.shape)"
   ]
  },
  {
   "cell_type": "code",
   "execution_count": 10,
   "id": "f2f08ab4",
   "metadata": {},
   "outputs": [],
   "source": [
    "# Data Cleaning \n",
    "    # 1. Remove unnecessary attributes\n",
    "    # 2. Handle missing values if any"
   ]
  },
  {
   "cell_type": "code",
   "execution_count": 11,
   "id": "b3513ffa",
   "metadata": {},
   "outputs": [],
   "source": [
    "# 1. Dropping unnecessary variables from both train and test sets\n",
    "\n",
    "unnecessary_vars = ['EmployeeCount', 'EmployeeNumber', 'Over18', 'StandardHours']\n",
    "\n",
    "employees = employees.drop(unnecessary_vars, axis=1)\n",
    "employees_test = employees_test.drop(unnecessary_vars, axis=1)"
   ]
  },
  {
   "cell_type": "code",
   "execution_count": 12,
   "id": "d8c87dec",
   "metadata": {
    "scrolled": true
   },
   "outputs": [
    {
     "data": {
      "text/plain": [
       "Age                         0\n",
       "BusinessTravel              0\n",
       "DailyRate                   0\n",
       "Department                  0\n",
       "DistanceFromHome            0\n",
       "Education                   0\n",
       "EducationField              0\n",
       "EnvironmentSatisfaction     0\n",
       "Gender                      0\n",
       "HourlyRate                  0\n",
       "JobInvolvement              0\n",
       "JobLevel                    0\n",
       "JobRole                     0\n",
       "JobSatisfaction             0\n",
       "MaritalStatus               0\n",
       "MonthlyIncome               0\n",
       "MonthlyRate                 0\n",
       "NumCompaniesWorked          0\n",
       "OverTime                    0\n",
       "PercentSalaryHike           0\n",
       "PerformanceRating           0\n",
       "RelationshipSatisfaction    0\n",
       "StockOptionLevel            0\n",
       "TotalWorkingYears           0\n",
       "TrainingTimesLastYear       0\n",
       "WorkLifeBalance             0\n",
       "YearsAtCompany              0\n",
       "YearsInCurrentRole          0\n",
       "YearsSinceLastPromotion     0\n",
       "YearsWithCurrManager        0\n",
       "dtype: int64"
      ]
     },
     "execution_count": 12,
     "metadata": {},
     "output_type": "execute_result"
    }
   ],
   "source": [
    "# 2. Checking if there are any missing values\n",
    "\n",
    "employees.isnull().sum()"
   ]
  },
  {
   "cell_type": "code",
   "execution_count": 13,
   "id": "1a0a97f4",
   "metadata": {
    "scrolled": true
   },
   "outputs": [
    {
     "data": {
      "text/plain": [
       "Age                         0\n",
       "BusinessTravel              0\n",
       "DailyRate                   0\n",
       "Department                  0\n",
       "DistanceFromHome            0\n",
       "Education                   0\n",
       "EducationField              0\n",
       "EnvironmentSatisfaction     0\n",
       "Gender                      0\n",
       "HourlyRate                  0\n",
       "JobInvolvement              0\n",
       "JobLevel                    0\n",
       "JobRole                     0\n",
       "JobSatisfaction             0\n",
       "MaritalStatus               0\n",
       "MonthlyIncome               0\n",
       "MonthlyRate                 0\n",
       "NumCompaniesWorked          0\n",
       "OverTime                    0\n",
       "PercentSalaryHike           0\n",
       "PerformanceRating           0\n",
       "RelationshipSatisfaction    0\n",
       "StockOptionLevel            0\n",
       "TotalWorkingYears           0\n",
       "TrainingTimesLastYear       0\n",
       "WorkLifeBalance             0\n",
       "YearsAtCompany              0\n",
       "YearsInCurrentRole          0\n",
       "YearsSinceLastPromotion     0\n",
       "YearsWithCurrManager        0\n",
       "dtype: int64"
      ]
     },
     "execution_count": 13,
     "metadata": {},
     "output_type": "execute_result"
    }
   ],
   "source": [
    "employees_test.isnull().sum()"
   ]
  },
  {
   "cell_type": "code",
   "execution_count": 14,
   "id": "4012a588",
   "metadata": {},
   "outputs": [],
   "source": [
    "# There aren't any missing values in any of the variables"
   ]
  },
  {
   "cell_type": "code",
   "execution_count": 15,
   "id": "12427897",
   "metadata": {},
   "outputs": [
    {
     "data": {
      "text/plain": [
       "Index(['Age', 'DailyRate', 'DistanceFromHome', 'Education',\n",
       "       'EnvironmentSatisfaction', 'HourlyRate', 'JobInvolvement', 'JobLevel',\n",
       "       'JobSatisfaction', 'MonthlyIncome', 'MonthlyRate', 'NumCompaniesWorked',\n",
       "       'PercentSalaryHike', 'PerformanceRating', 'RelationshipSatisfaction',\n",
       "       'StockOptionLevel', 'TotalWorkingYears', 'TrainingTimesLastYear',\n",
       "       'WorkLifeBalance', 'YearsAtCompany', 'YearsInCurrentRole',\n",
       "       'YearsSinceLastPromotion', 'YearsWithCurrManager'],\n",
       "      dtype='object')"
      ]
     },
     "execution_count": 15,
     "metadata": {},
     "output_type": "execute_result"
    }
   ],
   "source": [
    "# Handling numeric variables\n",
    "\n",
    "employees_num = employees.select_dtypes(exclude='object')\n",
    "\n",
    "employees_num.columns"
   ]
  },
  {
   "cell_type": "code",
   "execution_count": 16,
   "id": "cb7723e6",
   "metadata": {},
   "outputs": [],
   "source": [
    "# Let's create a custom class to add the derived attribute 'MonthlRateToIncome_Diff'\n",
    "\n",
    "from sklearn.base import BaseEstimator, TransformerMixin\n",
    "\n",
    "monthly_rate_idx, monthly_income_idx = 16, 15\n",
    "\n",
    "class AddDerivedAttributes(BaseEstimator, TransformerMixin):\n",
    "    def __init__(self):\n",
    "        pass\n",
    "    \n",
    "    def fit(self, X, y=None):\n",
    "        return self\n",
    "\n",
    "    def transform(self, X, y=None):\n",
    "        monthly_rate_to_income_diff = X[:, monthly_rate_idx] - X[:, monthly_income_idx]\n",
    "        return np.c_[X, monthly_rate_to_income_diff]"
   ]
  },
  {
   "cell_type": "code",
   "execution_count": 17,
   "id": "55517a1a",
   "metadata": {},
   "outputs": [
    {
     "data": {
      "text/html": [
       "<div>\n",
       "<style scoped>\n",
       "    .dataframe tbody tr th:only-of-type {\n",
       "        vertical-align: middle;\n",
       "    }\n",
       "\n",
       "    .dataframe tbody tr th {\n",
       "        vertical-align: top;\n",
       "    }\n",
       "\n",
       "    .dataframe thead th {\n",
       "        text-align: right;\n",
       "    }\n",
       "</style>\n",
       "<table border=\"1\" class=\"dataframe\">\n",
       "  <thead>\n",
       "    <tr style=\"text-align: right;\">\n",
       "      <th></th>\n",
       "      <th>BusinessTravel</th>\n",
       "      <th>Department</th>\n",
       "      <th>EducationField</th>\n",
       "      <th>Gender</th>\n",
       "      <th>JobRole</th>\n",
       "      <th>MaritalStatus</th>\n",
       "      <th>OverTime</th>\n",
       "    </tr>\n",
       "  </thead>\n",
       "  <tbody>\n",
       "    <tr>\n",
       "      <th>941</th>\n",
       "      <td>Travel_Rarely</td>\n",
       "      <td>Research &amp; Development</td>\n",
       "      <td>Technical Degree</td>\n",
       "      <td>Female</td>\n",
       "      <td>Laboratory Technician</td>\n",
       "      <td>Married</td>\n",
       "      <td>No</td>\n",
       "    </tr>\n",
       "    <tr>\n",
       "      <th>865</th>\n",
       "      <td>Travel_Rarely</td>\n",
       "      <td>Sales</td>\n",
       "      <td>Life Sciences</td>\n",
       "      <td>Male</td>\n",
       "      <td>Sales Executive</td>\n",
       "      <td>Divorced</td>\n",
       "      <td>No</td>\n",
       "    </tr>\n",
       "    <tr>\n",
       "      <th>18</th>\n",
       "      <td>Travel_Rarely</td>\n",
       "      <td>Sales</td>\n",
       "      <td>Life Sciences</td>\n",
       "      <td>Female</td>\n",
       "      <td>Manager</td>\n",
       "      <td>Married</td>\n",
       "      <td>No</td>\n",
       "    </tr>\n",
       "    <tr>\n",
       "      <th>786</th>\n",
       "      <td>Non-Travel</td>\n",
       "      <td>Research &amp; Development</td>\n",
       "      <td>Life Sciences</td>\n",
       "      <td>Male</td>\n",
       "      <td>Laboratory Technician</td>\n",
       "      <td>Married</td>\n",
       "      <td>No</td>\n",
       "    </tr>\n",
       "    <tr>\n",
       "      <th>416</th>\n",
       "      <td>Travel_Frequently</td>\n",
       "      <td>Research &amp; Development</td>\n",
       "      <td>Life Sciences</td>\n",
       "      <td>Male</td>\n",
       "      <td>Laboratory Technician</td>\n",
       "      <td>Married</td>\n",
       "      <td>Yes</td>\n",
       "    </tr>\n",
       "    <tr>\n",
       "      <th>...</th>\n",
       "      <td>...</td>\n",
       "      <td>...</td>\n",
       "      <td>...</td>\n",
       "      <td>...</td>\n",
       "      <td>...</td>\n",
       "      <td>...</td>\n",
       "      <td>...</td>\n",
       "    </tr>\n",
       "    <tr>\n",
       "      <th>1332</th>\n",
       "      <td>Travel_Frequently</td>\n",
       "      <td>Research &amp; Development</td>\n",
       "      <td>Life Sciences</td>\n",
       "      <td>Male</td>\n",
       "      <td>Research Scientist</td>\n",
       "      <td>Single</td>\n",
       "      <td>Yes</td>\n",
       "    </tr>\n",
       "    <tr>\n",
       "      <th>159</th>\n",
       "      <td>Travel_Frequently</td>\n",
       "      <td>Sales</td>\n",
       "      <td>Marketing</td>\n",
       "      <td>Female</td>\n",
       "      <td>Sales Representative</td>\n",
       "      <td>Married</td>\n",
       "      <td>No</td>\n",
       "    </tr>\n",
       "    <tr>\n",
       "      <th>318</th>\n",
       "      <td>Travel_Rarely</td>\n",
       "      <td>Research &amp; Development</td>\n",
       "      <td>Life Sciences</td>\n",
       "      <td>Female</td>\n",
       "      <td>Research Scientist</td>\n",
       "      <td>Single</td>\n",
       "      <td>Yes</td>\n",
       "    </tr>\n",
       "    <tr>\n",
       "      <th>1286</th>\n",
       "      <td>Travel_Rarely</td>\n",
       "      <td>Research &amp; Development</td>\n",
       "      <td>Life Sciences</td>\n",
       "      <td>Female</td>\n",
       "      <td>Laboratory Technician</td>\n",
       "      <td>Married</td>\n",
       "      <td>No</td>\n",
       "    </tr>\n",
       "    <tr>\n",
       "      <th>981</th>\n",
       "      <td>Travel_Frequently</td>\n",
       "      <td>Sales</td>\n",
       "      <td>Marketing</td>\n",
       "      <td>Female</td>\n",
       "      <td>Sales Executive</td>\n",
       "      <td>Married</td>\n",
       "      <td>Yes</td>\n",
       "    </tr>\n",
       "  </tbody>\n",
       "</table>\n",
       "<p>1176 rows × 7 columns</p>\n",
       "</div>"
      ],
      "text/plain": [
       "         BusinessTravel              Department    EducationField  Gender  \\\n",
       "941       Travel_Rarely  Research & Development  Technical Degree  Female   \n",
       "865       Travel_Rarely                   Sales     Life Sciences    Male   \n",
       "18        Travel_Rarely                   Sales     Life Sciences  Female   \n",
       "786          Non-Travel  Research & Development     Life Sciences    Male   \n",
       "416   Travel_Frequently  Research & Development     Life Sciences    Male   \n",
       "...                 ...                     ...               ...     ...   \n",
       "1332  Travel_Frequently  Research & Development     Life Sciences    Male   \n",
       "159   Travel_Frequently                   Sales         Marketing  Female   \n",
       "318       Travel_Rarely  Research & Development     Life Sciences  Female   \n",
       "1286      Travel_Rarely  Research & Development     Life Sciences  Female   \n",
       "981   Travel_Frequently                   Sales         Marketing  Female   \n",
       "\n",
       "                    JobRole MaritalStatus OverTime  \n",
       "941   Laboratory Technician       Married       No  \n",
       "865         Sales Executive      Divorced       No  \n",
       "18                  Manager       Married       No  \n",
       "786   Laboratory Technician       Married       No  \n",
       "416   Laboratory Technician       Married      Yes  \n",
       "...                     ...           ...      ...  \n",
       "1332     Research Scientist        Single      Yes  \n",
       "159    Sales Representative       Married       No  \n",
       "318      Research Scientist        Single      Yes  \n",
       "1286  Laboratory Technician       Married       No  \n",
       "981         Sales Executive       Married      Yes  \n",
       "\n",
       "[1176 rows x 7 columns]"
      ]
     },
     "execution_count": 17,
     "metadata": {},
     "output_type": "execute_result"
    }
   ],
   "source": [
    "# Handling Categorical Attributes\n",
    "\n",
    "employees_cat = employees.select_dtypes(include='object')\n",
    "\n",
    "employees_cat"
   ]
  },
  {
   "cell_type": "code",
   "execution_count": 18,
   "id": "9ba3585a",
   "metadata": {},
   "outputs": [],
   "source": [
    "# Using one hot encoding technique to encode all the categorical variables\n",
    "\n",
    "from sklearn.preprocessing import OneHotEncoder\n",
    "\n",
    "ohe = OneHotEncoder()\n",
    "\n",
    "employees_cat_1hot = ohe.fit_transform(employees_cat)"
   ]
  },
  {
   "cell_type": "code",
   "execution_count": 19,
   "id": "ba638e76",
   "metadata": {},
   "outputs": [
    {
     "data": {
      "text/plain": [
       "28"
      ]
     },
     "execution_count": 19,
     "metadata": {},
     "output_type": "execute_result"
    }
   ],
   "source": [
    "len(employees_cat_1hot.toarray()[0])"
   ]
  },
  {
   "cell_type": "code",
   "execution_count": 20,
   "id": "fb1b54c8",
   "metadata": {},
   "outputs": [],
   "source": [
    "# Building the pipeline for both numeric and categorical attributes\n",
    "\n",
    "from sklearn.pipeline import Pipeline\n",
    "from sklearn.compose import ColumnTransformer, make_column_selector\n",
    "from sklearn.preprocessing import StandardScaler, OneHotEncoder\n",
    "\n",
    "num_attrs = list(employees_num.columns)\n",
    "cat_attrs = list(employees_cat.columns)\n",
    "\n",
    "# Pipeline step to add the derived attribute MonthlyRateToIncomeDiff\n",
    "add_derived_attributes_pipeline = Pipeline([\n",
    "    ('attribute_adder', AddDerivedAttributes())\n",
    "])\n",
    "\n",
    "# Pipeline to scale all the numeric attributes using standard scaler and encode all the categorical attributes using \n",
    "# one-hot-encoding\n",
    "transform_pipeline = ColumnTransformer([\n",
    "    ('scaling', StandardScaler(), make_column_selector(dtype_include=np.number)),\n",
    "    ('one_hot_encoding', OneHotEncoder(), make_column_selector(dtype_include=object))\n",
    "])\n",
    "\n",
    "# Full Pipeline combining above two\n",
    "full_pipeline = Pipeline([\n",
    "    ('transform', transform_pipeline),\n",
    "    ('add_derived_attributes', add_derived_attributes_pipeline),\n",
    "])"
   ]
  },
  {
   "cell_type": "code",
   "execution_count": 21,
   "id": "6d752c9f",
   "metadata": {
    "scrolled": false
   },
   "outputs": [],
   "source": [
    "employees_prepared = full_pipeline.fit_transform(employees)"
   ]
  },
  {
   "cell_type": "code",
   "execution_count": 22,
   "id": "38e7eca4",
   "metadata": {},
   "outputs": [],
   "source": [
    "employees_test_prepared = full_pipeline.transform(employees_test)"
   ]
  },
  {
   "cell_type": "markdown",
   "id": "7ce636c4",
   "metadata": {},
   "source": [
    "# "
   ]
  },
  {
   "cell_type": "markdown",
   "id": "0cd401b4",
   "metadata": {},
   "source": [
    "## Modelling"
   ]
  },
  {
   "cell_type": "code",
   "execution_count": 25,
   "id": "50514ead",
   "metadata": {},
   "outputs": [
    {
     "data": {
      "text/html": [
       "<style>#sk-container-id-1 {color: black;background-color: white;}#sk-container-id-1 pre{padding: 0;}#sk-container-id-1 div.sk-toggleable {background-color: white;}#sk-container-id-1 label.sk-toggleable__label {cursor: pointer;display: block;width: 100%;margin-bottom: 0;padding: 0.3em;box-sizing: border-box;text-align: center;}#sk-container-id-1 label.sk-toggleable__label-arrow:before {content: \"▸\";float: left;margin-right: 0.25em;color: #696969;}#sk-container-id-1 label.sk-toggleable__label-arrow:hover:before {color: black;}#sk-container-id-1 div.sk-estimator:hover label.sk-toggleable__label-arrow:before {color: black;}#sk-container-id-1 div.sk-toggleable__content {max-height: 0;max-width: 0;overflow: hidden;text-align: left;background-color: #f0f8ff;}#sk-container-id-1 div.sk-toggleable__content pre {margin: 0.2em;color: black;border-radius: 0.25em;background-color: #f0f8ff;}#sk-container-id-1 input.sk-toggleable__control:checked~div.sk-toggleable__content {max-height: 200px;max-width: 100%;overflow: auto;}#sk-container-id-1 input.sk-toggleable__control:checked~label.sk-toggleable__label-arrow:before {content: \"▾\";}#sk-container-id-1 div.sk-estimator input.sk-toggleable__control:checked~label.sk-toggleable__label {background-color: #d4ebff;}#sk-container-id-1 div.sk-label input.sk-toggleable__control:checked~label.sk-toggleable__label {background-color: #d4ebff;}#sk-container-id-1 input.sk-hidden--visually {border: 0;clip: rect(1px 1px 1px 1px);clip: rect(1px, 1px, 1px, 1px);height: 1px;margin: -1px;overflow: hidden;padding: 0;position: absolute;width: 1px;}#sk-container-id-1 div.sk-estimator {font-family: monospace;background-color: #f0f8ff;border: 1px dotted black;border-radius: 0.25em;box-sizing: border-box;margin-bottom: 0.5em;}#sk-container-id-1 div.sk-estimator:hover {background-color: #d4ebff;}#sk-container-id-1 div.sk-parallel-item::after {content: \"\";width: 100%;border-bottom: 1px solid gray;flex-grow: 1;}#sk-container-id-1 div.sk-label:hover label.sk-toggleable__label {background-color: #d4ebff;}#sk-container-id-1 div.sk-serial::before {content: \"\";position: absolute;border-left: 1px solid gray;box-sizing: border-box;top: 0;bottom: 0;left: 50%;z-index: 0;}#sk-container-id-1 div.sk-serial {display: flex;flex-direction: column;align-items: center;background-color: white;padding-right: 0.2em;padding-left: 0.2em;position: relative;}#sk-container-id-1 div.sk-item {position: relative;z-index: 1;}#sk-container-id-1 div.sk-parallel {display: flex;align-items: stretch;justify-content: center;background-color: white;position: relative;}#sk-container-id-1 div.sk-item::before, #sk-container-id-1 div.sk-parallel-item::before {content: \"\";position: absolute;border-left: 1px solid gray;box-sizing: border-box;top: 0;bottom: 0;left: 50%;z-index: -1;}#sk-container-id-1 div.sk-parallel-item {display: flex;flex-direction: column;z-index: 1;position: relative;background-color: white;}#sk-container-id-1 div.sk-parallel-item:first-child::after {align-self: flex-end;width: 50%;}#sk-container-id-1 div.sk-parallel-item:last-child::after {align-self: flex-start;width: 50%;}#sk-container-id-1 div.sk-parallel-item:only-child::after {width: 0;}#sk-container-id-1 div.sk-dashed-wrapped {border: 1px dashed gray;margin: 0 0.4em 0.5em 0.4em;box-sizing: border-box;padding-bottom: 0.4em;background-color: white;}#sk-container-id-1 div.sk-label label {font-family: monospace;font-weight: bold;display: inline-block;line-height: 1.2em;}#sk-container-id-1 div.sk-label-container {text-align: center;}#sk-container-id-1 div.sk-container {/* jupyter's `normalize.less` sets `[hidden] { display: none; }` but bootstrap.min.css set `[hidden] { display: none !important; }` so we also need the `!important` here to be able to override the default hidden behavior on the sphinx rendered scikit-learn.org. See: https://github.com/scikit-learn/scikit-learn/issues/21755 */display: inline-block !important;position: relative;}#sk-container-id-1 div.sk-text-repr-fallback {display: none;}</style><div id=\"sk-container-id-1\" class=\"sk-top-container\"><div class=\"sk-text-repr-fallback\"><pre>SGDClassifier(random_state=42)</pre><b>In a Jupyter environment, please rerun this cell to show the HTML representation or trust the notebook. <br />On GitHub, the HTML representation is unable to render, please try loading this page with nbviewer.org.</b></div><div class=\"sk-container\" hidden><div class=\"sk-item\"><div class=\"sk-estimator sk-toggleable\"><input class=\"sk-toggleable__control sk-hidden--visually\" id=\"sk-estimator-id-1\" type=\"checkbox\" checked><label for=\"sk-estimator-id-1\" class=\"sk-toggleable__label sk-toggleable__label-arrow\">SGDClassifier</label><div class=\"sk-toggleable__content\"><pre>SGDClassifier(random_state=42)</pre></div></div></div></div></div>"
      ],
      "text/plain": [
       "SGDClassifier(random_state=42)"
      ]
     },
     "execution_count": 25,
     "metadata": {},
     "output_type": "execute_result"
    }
   ],
   "source": [
    "# Let's start with training a SGD Classifier\n",
    "\n",
    "from sklearn.linear_model import SGDClassifier\n",
    "\n",
    "sgd_clf = SGDClassifier(random_state=42)\n",
    "\n",
    "sgd_clf.fit(employees_prepared, employees_labels)"
   ]
  },
  {
   "cell_type": "code",
   "execution_count": 36,
   "id": "60e84722",
   "metadata": {},
   "outputs": [
    {
     "data": {
      "text/plain": [
       "array([0])"
      ]
     },
     "execution_count": 36,
     "metadata": {},
     "output_type": "execute_result"
    }
   ],
   "source": [
    "# Let's predict for one of the employee's instance\n",
    "\n",
    "sgd_clf.predict([employees_prepared[0]])"
   ]
  },
  {
   "cell_type": "code",
   "execution_count": 40,
   "id": "9e5caed8",
   "metadata": {},
   "outputs": [
    {
     "data": {
      "text/plain": [
       "941    0\n",
       "Name: Attrition, dtype: int32"
      ]
     },
     "execution_count": 40,
     "metadata": {},
     "output_type": "execute_result"
    }
   ],
   "source": [
    "employees_labels.head(1)"
   ]
  },
  {
   "cell_type": "code",
   "execution_count": null,
   "id": "1b075ed4",
   "metadata": {},
   "outputs": [],
   "source": [
    "# The prediction is also 0 and the actual label is also 0. This is a correct prediction"
   ]
  },
  {
   "cell_type": "code",
   "execution_count": 43,
   "id": "6e0772c3",
   "metadata": {},
   "outputs": [
    {
     "data": {
      "text/plain": [
       "941     0\n",
       "865     0\n",
       "18      0\n",
       "786     0\n",
       "416     0\n",
       "1265    0\n",
       "1062    0\n",
       "875     0\n",
       "535     0\n",
       "1217    0\n",
       "1159    0\n",
       "89      1\n",
       "641     0\n",
       "1278    0\n",
       "99      0\n",
       "544     0\n",
       "1298    1\n",
       "797     1\n",
       "906     0\n",
       "266     0\n",
       "Name: Attrition, dtype: int32"
      ]
     },
     "execution_count": 43,
     "metadata": {},
     "output_type": "execute_result"
    }
   ],
   "source": [
    "# Let's predict and see for a positive case\n",
    "\n",
    "employees_labels.head(20)"
   ]
  },
  {
   "cell_type": "code",
   "execution_count": 52,
   "id": "412b6509",
   "metadata": {},
   "outputs": [
    {
     "data": {
      "text/plain": [
       "array([0])"
      ]
     },
     "execution_count": 52,
     "metadata": {},
     "output_type": "execute_result"
    }
   ],
   "source": [
    "# 11th index has positive label let's predict for it\n",
    "\n",
    "sgd_clf.predict([employees_prepared[11]])"
   ]
  },
  {
   "cell_type": "code",
   "execution_count": 53,
   "id": "f3dd9aec",
   "metadata": {},
   "outputs": [
    {
     "data": {
      "text/plain": [
       "array([1])"
      ]
     },
     "execution_count": 53,
     "metadata": {},
     "output_type": "execute_result"
    }
   ],
   "source": [
    "# 17th index is also positive let's see for that\n",
    "\n",
    "sgd_clf.predict([employees_prepared[17]])"
   ]
  },
  {
   "cell_type": "code",
   "execution_count": null,
   "id": "8f8e9265",
   "metadata": {},
   "outputs": [],
   "source": [
    "# With this we can see that our model is able to predict for both the classes but it is not very accurate and it's making\n",
    "# some mistake. Above we can see that it did not predict properly for 11th index"
   ]
  },
  {
   "cell_type": "code",
   "execution_count": 55,
   "id": "60788eef",
   "metadata": {},
   "outputs": [
    {
     "data": {
      "text/plain": [
       "array([0.74744898, 0.78571429, 0.83163265])"
      ]
     },
     "execution_count": 55,
     "metadata": {},
     "output_type": "execute_result"
    }
   ],
   "source": [
    "# Let's now evaluate the model\n",
    "# A good way to evaluate a model is by using cross validation\n",
    "\n",
    "from sklearn.model_selection import cross_val_score\n",
    "\n",
    "cross_val_score(estimator=sgd_clf, X=employees_prepared, y=employees_labels, cv=3, scoring='accuracy')    # 3 folds"
   ]
  },
  {
   "cell_type": "code",
   "execution_count": null,
   "id": "b8126dfb",
   "metadata": {},
   "outputs": [],
   "source": [
    "# We have obtained atleast more than 74% accuracy on all the folds"
   ]
  },
  {
   "cell_type": "code",
   "execution_count": 56,
   "id": "ed7b3ac2",
   "metadata": {},
   "outputs": [],
   "source": [
    "# But wait, We know that we should not evaluate a model based on the accuracy.\n",
    "# So, Let's look at the confusion matrix"
   ]
  },
  {
   "cell_type": "code",
   "execution_count": 57,
   "id": "5c39c3b9",
   "metadata": {},
   "outputs": [],
   "source": [
    "# In order to compute the confustion matrix we need to have the predictions in place. so, let's make the predictions on the\n",
    "# entire train set\n",
    "\n",
    "## Note: DO NOT TOUCH THE TEST SET UNTIL YOU FINALIZE A MODEL AND YOUR ARE READY TO LAUNCH IT"
   ]
  },
  {
   "cell_type": "code",
   "execution_count": 140,
   "id": "9f7214ee",
   "metadata": {},
   "outputs": [
    {
     "data": {
      "text/plain": [
       "array([0, 0, 0, ..., 1, 0, 1])"
      ]
     },
     "execution_count": 140,
     "metadata": {},
     "output_type": "execute_result"
    }
   ],
   "source": [
    "# Let's make the predictions using cross_val_predict\n",
    "\n",
    "from sklearn.model_selection import cross_val_predict\n",
    "\n",
    "y_train_pred = cross_val_predict(estimator=sgd_clf, X=employees_prepared, y=employees_labels, cv=3)\n",
    "\n",
    "y_train_pred"
   ]
  },
  {
   "cell_type": "code",
   "execution_count": 60,
   "id": "19bd9c59",
   "metadata": {},
   "outputs": [
    {
     "data": {
      "text/plain": [
       "array([[819, 167],\n",
       "       [ 82, 108]], dtype=int64)"
      ]
     },
     "execution_count": 60,
     "metadata": {},
     "output_type": "execute_result"
    }
   ],
   "source": [
    "# Let's compute the confusion matrix now\n",
    "\n",
    "from sklearn.metrics import confusion_matrix\n",
    "\n",
    "confusion_matrix(y_true=employees_labels, y_pred=y_train_pred)"
   ]
  },
  {
   "cell_type": "code",
   "execution_count": null,
   "id": "c0b7eb4e",
   "metadata": {},
   "outputs": [],
   "source": [
    "# Confusion Matrix Interpretation:\n",
    "#            Predicted\n",
    "#             0    1\n",
    "# Actual 0 [ TN   FP ]\n",
    "#        1 [ FN   TP ]\n",
    "#"
   ]
  },
  {
   "cell_type": "code",
   "execution_count": null,
   "id": "fde1bda1",
   "metadata": {},
   "outputs": [],
   "source": [
    "# Using confusion matrix we can compute the Precision and Recall scores\n",
    "\n",
    "## Precision: Out of all the predicted positives, how many of them are actually positive\n",
    "## Recall: Out of all the actual positives, how many of them are correctly predicted/identified by our model"
   ]
  },
  {
   "cell_type": "code",
   "execution_count": 61,
   "id": "9eddbe1a",
   "metadata": {},
   "outputs": [
    {
     "name": "stdout",
     "output_type": "stream",
     "text": [
      "Precision: 0.3927272727272727\n",
      "Recall: 0.5684210526315789\n"
     ]
    }
   ],
   "source": [
    "# Let's compute the precision and recall\n",
    "\n",
    "from sklearn.metrics import precision_score, recall_score\n",
    "\n",
    "print(f'Precision: {precision_score(y_true=employees_labels, y_pred=y_train_pred)}')\n",
    "print(f'Recall: {recall_score(y_true=employees_labels, y_pred=y_train_pred)}')"
   ]
  },
  {
   "cell_type": "code",
   "execution_count": null,
   "id": "f930e0da",
   "metadata": {},
   "outputs": [],
   "source": [
    "# So, Now our model does not look as good as it did when we looked at the accuracy "
   ]
  },
  {
   "cell_type": "code",
   "execution_count": null,
   "id": "fd261871",
   "metadata": {},
   "outputs": [],
   "source": [
    "# Our model is able to detect only 56% of the employees who left the company and when our model claims that an\n",
    "# employee has left the company, it is correct only 39% of the times.\n",
    "\n",
    "# With this metrics we can confirm that our model is really bad."
   ]
  },
  {
   "cell_type": "code",
   "execution_count": null,
   "id": "17692669",
   "metadata": {},
   "outputs": [],
   "source": [
    "# NOTE: If we try to increase precision, recall reduces and vice versa so, there is always a tradeoff between \n",
    "#       precision and recall"
   ]
  },
  {
   "cell_type": "code",
   "execution_count": null,
   "id": "f2489c44",
   "metadata": {},
   "outputs": [],
   "source": [
    "# To understand this tradeoff, let’s look at how the SGDClassifier makes its classification\n",
    "# decisions. For each instance, it computes a score based on a decision function,\n",
    "# and if that score is greater than a threshold, it assigns the instance to the positive\n",
    "# class, or else it assigns it to the negative class."
   ]
  },
  {
   "cell_type": "code",
   "execution_count": 72,
   "id": "2b2af8b8",
   "metadata": {},
   "outputs": [
    {
     "data": {
      "text/plain": [
       "array([-10.54515886,  -5.49524793, -13.5161255 , ...,   2.27563743,\n",
       "        -6.60499695,   7.98759106])"
      ]
     },
     "execution_count": 72,
     "metadata": {},
     "output_type": "execute_result"
    }
   ],
   "source": [
    "# how do you decide which threshold to use? For this you will first need to get the\n",
    "# scores of all instances in the training set using the cross_val_predict() function\n",
    "# again, but this time specifying that you want it to return decision scores instead of\n",
    "# predictions\n",
    "\n",
    "y_scores = cross_val_predict(estimator=sgd_clf, X=employees_prepared, y=employees_labels, cv=3, method='decision_function')\n",
    "\n",
    "y_scores"
   ]
  },
  {
   "cell_type": "code",
   "execution_count": 74,
   "id": "97761746",
   "metadata": {},
   "outputs": [],
   "source": [
    "# Now with these scores we can compute precision and recall for all possible thresholds\n",
    "# using the precision_recall_curve() function\n",
    "\n",
    "from sklearn.metrics import precision_recall_curve\n",
    "\n",
    "precisions, recalls, thresholds = precision_recall_curve(y_true=employees_labels, probas_pred=y_scores)"
   ]
  },
  {
   "cell_type": "code",
   "execution_count": 123,
   "id": "07dd4502",
   "metadata": {
    "scrolled": true
   },
   "outputs": [],
   "source": [
    "import matplotlib.pyplot as plt\n",
    "\n",
    "def plot_precision_recall_vs_thresholds(precisions, recalls, thresholds):\n",
    "    plt.plot(thresholds, precisions[:-1], 'b--', label='Precision')\n",
    "    plt.plot(thresholds, recalls[:-1], 'g-', label='Recall')\n",
    "    plt.grid(True)\n",
    "    plt.axis([-60, 40, 0, 1])\n",
    "    plt.xlabel('Threshold')\n",
    "    plt.title('Precision and Recall vs Thresholds')"
   ]
  },
  {
   "cell_type": "code",
   "execution_count": 124,
   "id": "f5295db2",
   "metadata": {},
   "outputs": [
    {
     "data": {
      "image/png": "[encoded data removed]",
      "text/plain": [
       "<Figure size 576x288 with 1 Axes>"
      ]
     },
     "metadata": {
      "needs_background": "light"
     },
     "output_type": "display_data"
    }
   ],
   "source": [
    "plt.figure(figsize=(8,4))\n",
    "plot_precision_recall_vs_thresholds(precisions, recalls, thresholds)\n",
    "plt.show()"
   ]
  },
  {
   "cell_type": "code",
   "execution_count": 125,
   "id": "9470d647",
   "metadata": {},
   "outputs": [
    {
     "data": {
      "image/png": "[encoded data removed]",
      "text/plain": [
       "<Figure size 576x360 with 1 Axes>"
      ]
     },
     "metadata": {
      "needs_background": "light"
     },
     "output_type": "display_data"
    }
   ],
   "source": [
    "# Suppose if we are targetting 90% precision then,\n",
    "\n",
    "recall_90_precision = recalls[np.argmax(precisions >= 0.90)]\n",
    "threshold_90_precision = thresholds[np.argmax(precisions >= 0.90)]\n",
    "\n",
    "plt.figure(figsize=(8,5))\n",
    "plot_precision_recall_vs_thresholds(precisions, recalls, thresholds)\n",
    "plt.plot([threshold_90_precision, threshold_90_precision], [0, 0.9], 'r:')\n",
    "plt.plot([-60, threshold_90_precision], [0.9, 0.9], 'r:')\n",
    "plt.plot([-60, threshold_90_precision], [recall_90_precision, recall_90_precision], 'r:')\n",
    "plt.plot([threshold_90_precision], [0.9], \"ro\")\n",
    "plt.plot([threshold_90_precision], [recall_90_precision], \"ro\") \n",
    "plt.show()"
   ]
  },
  {
   "cell_type": "code",
   "execution_count": null,
   "id": "86b717c0",
   "metadata": {},
   "outputs": [],
   "source": [
    "# So, with this we can see that if we want 90% precision then our threshold should be 20. and with this our recall\n",
    "# will be roughly around 1% or 2%"
   ]
  },
  {
   "cell_type": "code",
   "execution_count": 130,
   "id": "67058fcb",
   "metadata": {},
   "outputs": [
    {
     "data": {
      "image/png": "[encoded data removed]",
      "text/plain": [
       "<Figure size 576x360 with 1 Axes>"
      ]
     },
     "metadata": {
      "needs_background": "light"
     },
     "output_type": "display_data"
    }
   ],
   "source": [
    "# Another way to select a good precision/recall tradeoff is to plot precision directly against recall\n",
    "\n",
    "def plot_precision_vs_recall(recalls, precisions):\n",
    "    plt.plot(recalls, precisions, 'b-')\n",
    "    plt.xlabel('Recall')\n",
    "    plt.ylabel('Precision')\n",
    "    plt.title('Precision vs Recall')\n",
    "    plt.grid(True)\n",
    "    plt.axis([0, 1, 0, 1])\n",
    "\n",
    "plt.figure(figsize=(8,5))\n",
    "plot_precision_vs_recall(recalls, precisions)\n",
    "plt.plot([recall_90_precision, recall_90_precision], [0., 0.9], \"r:\")\n",
    "plt.plot([0.0, recall_90_precision], [0.9, 0.9], \"r:\")\n",
    "plt.plot([recall_90_precision], [0.9], \"ro\")\n",
    "plt.show()"
   ]
  },
  {
   "cell_type": "code",
   "execution_count": 115,
   "id": "b071a49f",
   "metadata": {},
   "outputs": [],
   "source": [
    "# Let's check the above\n",
    "\n",
    "y_train_pred_90 = (y_scores >= threshold_90_precision)"
   ]
  },
  {
   "cell_type": "code",
   "execution_count": 116,
   "id": "103a4878",
   "metadata": {},
   "outputs": [
    {
     "data": {
      "text/plain": [
       "1.0"
      ]
     },
     "execution_count": 116,
     "metadata": {},
     "output_type": "execute_result"
    }
   ],
   "source": [
    "precision_score(y_true=employees_labels, y_pred=y_train_pred_90)"
   ]
  },
  {
   "cell_type": "code",
   "execution_count": 117,
   "id": "72a063eb",
   "metadata": {},
   "outputs": [
    {
     "data": {
      "text/plain": [
       "0.021052631578947368"
      ]
     },
     "execution_count": 117,
     "metadata": {},
     "output_type": "execute_result"
    }
   ],
   "source": [
    "recall_score(y_true=employees_labels, y_pred=y_train_pred_90)"
   ]
  },
  {
   "cell_type": "code",
   "execution_count": null,
   "id": "91840048",
   "metadata": {},
   "outputs": [],
   "source": [
    "# Now we have a model with has 90% precision. But, A high-precision classifier is not very useful if its\n",
    "# recall is too low!"
   ]
  },
  {
   "cell_type": "code",
   "execution_count": null,
   "id": "db2d6bd9",
   "metadata": {},
   "outputs": [],
   "source": [
    "# NOTE: If someone says “let’s reach 99% precision,” you should ask, “at what recall?”"
   ]
  },
  {
   "cell_type": "code",
   "execution_count": 173,
   "id": "40335943",
   "metadata": {
    "scrolled": false
   },
   "outputs": [
    {
     "data": {
      "image/png": "[encoded data removed]",
      "text/plain": [
       "<Figure size 432x288 with 1 Axes>"
      ]
     },
     "metadata": {
      "needs_background": "light"
     },
     "output_type": "display_data"
    }
   ],
   "source": [
    "# The ROC Curve\n",
    "\n",
    "# The receiver operating characteristic (ROC) curve is another common tool used with\n",
    "# binary classifiers. It is very similar to the precision/recall curve, but instead of plotting\n",
    "# precision versus recall, the ROC curve plots the true positive rate against the false positive rate.\n",
    "\n",
    "from sklearn.metrics import roc_curve, roc_auc_score, RocCurveDisplay\n",
    "\n",
    "fpr, tpr, thresholds = roc_curve(y_true=employees_labels, y_score=y_scores)\n",
    "\n",
    "display = RocCurveDisplay(fpr=fpr, \n",
    "                          tpr=tpr, \n",
    "                          roc_auc=roc_auc_score(y_true=employees_labels, y_score=y_scores))\n",
    "display.plot()\n",
    "plt.show()"
   ]
  },
  {
   "cell_type": "code",
   "execution_count": 174,
   "id": "e62688b1",
   "metadata": {},
   "outputs": [
    {
     "data": {
      "text/plain": [
       "0.7571581082523754"
      ]
     },
     "execution_count": 174,
     "metadata": {},
     "output_type": "execute_result"
    }
   ],
   "source": [
    "roc_auc_score(y_true=employees_labels, y_score=y_scores)"
   ]
  },
  {
   "cell_type": "code",
   "execution_count": 176,
   "id": "4aa57ca2",
   "metadata": {},
   "outputs": [],
   "source": [
    "# So, our SGDClassifier model has:\n",
    "# Precision: 39%\n",
    "# Recall: 56%\n",
    "# AUC of 76%"
   ]
  },
  {
   "cell_type": "markdown",
   "id": "f777667d",
   "metadata": {},
   "source": [
    "## "
   ]
  },
  {
   "cell_type": "code",
   "execution_count": 178,
   "id": "9abe5145",
   "metadata": {},
   "outputs": [],
   "source": [
    "# Now, Let's train a RandomForest Classifier\n",
    "\n",
    "from sklearn.ensemble import RandomForestClassifier\n",
    "\n",
    "forest_clf = RandomForestClassifier(random_state=42)\n",
    "\n",
    "y_probas_forest = cross_val_predict(estimator=forest_clf, X=employees_prepared, y=employees_labels, cv=3, \n",
    "                                    method='predict_proba')"
   ]
  },
  {
   "cell_type": "code",
   "execution_count": 182,
   "id": "3ecee774",
   "metadata": {},
   "outputs": [],
   "source": [
    "y_scores_forest = y_probas_forest[:,1]"
   ]
  },
  {
   "cell_type": "code",
   "execution_count": 183,
   "id": "776387a1",
   "metadata": {},
   "outputs": [
    {
     "data": {
      "image/png": "[encoded data removed]",
      "text/plain": [
       "<Figure size 432x288 with 1 Axes>"
      ]
     },
     "metadata": {
      "needs_background": "light"
     },
     "output_type": "display_data"
    }
   ],
   "source": [
    "# Let's plot the ROC Curve\n",
    "\n",
    "fpr_forest, tpr_forest, thresholds_forest = roc_curve(y_true=employees_labels, y_score=y_scores_forest)\n",
    "\n",
    "roc_auc_score_forest = roc_auc_score(y_true=employees_labels, y_score=y_scores_forest)\n",
    "\n",
    "display2 = RocCurveDisplay(fpr=fpr_forest, tpr=tpr_forest, roc_auc=roc_auc_score_forest)\n",
    "display2.plot()\n",
    "plt.show()"
   ]
  },
  {
   "cell_type": "code",
   "execution_count": 184,
   "id": "7a149ff9",
   "metadata": {},
   "outputs": [
    {
     "data": {
      "image/png": "[encoded data removed]",
      "text/plain": [
       "<Figure size 432x288 with 1 Axes>"
      ]
     },
     "metadata": {
      "needs_background": "light"
     },
     "output_type": "display_data"
    }
   ],
   "source": [
    "# Comparing the ROC curves of SGDClassifier and RandomForestClassifier\n",
    "\n",
    "plt.plot(fpr, tpr, 'b:', label='SGD')\n",
    "plt.plot(fpr_forest, tpr_forest, label='RF')\n",
    "plt.show()"
   ]
  },
  {
   "cell_type": "code",
   "execution_count": null,
   "id": "26684a40",
   "metadata": {},
   "outputs": [],
   "source": [
    "# RandomForest Classifier is just slightly better than SGD Classifier"
   ]
  },
  {
   "cell_type": "code",
   "execution_count": 185,
   "id": "b61b3290",
   "metadata": {},
   "outputs": [
    {
     "name": "stdout",
     "output_type": "stream",
     "text": [
      "Precision: 0.7291666666666666\n",
      "Recall: 0.18421052631578946\n"
     ]
    }
   ],
   "source": [
    "# Let's loot at the precision and recall of RandomForest Classifier\n",
    "\n",
    "y_train_pred_forest = cross_val_predict(estimator=forest_clf, X=employees_prepared, y=employees_labels, cv=3, method='predict')\n",
    "\n",
    "print(f'Precision: {precision_score(y_true=employees_labels, y_pred=y_train_pred_forest)}')\n",
    "print(f'Recall: {recall_score(y_true=employees_labels, y_pred=y_train_pred_forest)}')"
   ]
  },
  {
   "cell_type": "code",
   "execution_count": 186,
   "id": "342b593a",
   "metadata": {},
   "outputs": [
    {
     "data": {
      "text/plain": [
       "0.7859506779118182"
      ]
     },
     "execution_count": 186,
     "metadata": {},
     "output_type": "execute_result"
    }
   ],
   "source": [
    "roc_auc_score_forest"
   ]
  },
  {
   "cell_type": "code",
   "execution_count": null,
   "id": "e7b06fd2",
   "metadata": {},
   "outputs": [],
   "source": [
    "# In RF Classifier: Precision is improved but the Recall has reduced and the AUC is just improved by 3% when compared to \n",
    "# SGD classifier"
   ]
  }
 ],
 "metadata": {
  "kernelspec": {
   "display_name": "Python 3 (ipykernel)",
   "language": "python",
   "name": "python3"
  },
  "language_info": {
   "codemirror_mode": {
    "name": "ipython",
    "version": 3
   },
   "file_extension": ".py",
   "mimetype": "text/x-python",
   "name": "python",
   "nbconvert_exporter": "python",
   "pygments_lexer": "ipython3",
   "version": "3.8.2"
  },
  "varInspector": {
   "cols": {
    "lenName": 16,
    "lenType": 16,
    "lenVar": 40
   },
   "kernels_config": {
    "python": {
     "delete_cmd_postfix": "",
     "delete_cmd_prefix": "del ",
     "library": "var_list.py",
     "varRefreshCmd": "print(var_dic_list())"
    },
    "r": {
     "delete_cmd_postfix": ") ",
     "delete_cmd_prefix": "rm(",
     "library": "var_list.r",
     "varRefreshCmd": "cat(var_dic_list()) "
    }
   },
   "types_to_exclude": [
    "module",
    "function",
    "builtin_function_or_method",
    "instance",
    "_Feature"
   ],
   "window_display": false
  }
 },
 "nbformat": 4,
 "nbformat_minor": 5
}
