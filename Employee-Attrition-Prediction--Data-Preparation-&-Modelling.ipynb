{
 "cells": [
  {
   "cell_type": "markdown",
   "id": "7a51f8a6",
   "metadata": {},
   "source": [
    "## Data Preparation & Modelling"
   ]
  },
  {
   "cell_type": "code",
   "execution_count": 75,
   "id": "63a400d1",
   "metadata": {},
   "outputs": [],
   "source": [
    "# Now, Let's prepare the data for ML algorithms"
   ]
  },
  {
   "cell_type": "code",
   "execution_count": 76,
   "id": "90479393",
   "metadata": {},
   "outputs": [],
   "source": [
    "# Importing the necessary libraries\n",
    "\n",
    "import os\n",
    "import numpy as np\n",
    "import pandas as pd"
   ]
  },
  {
   "cell_type": "code",
   "execution_count": 77,
   "id": "fb74bb9a",
   "metadata": {},
   "outputs": [],
   "source": [
    "# To display all the columns in the dataframe\n",
    "\n",
    "pd.set_option('display.max_columns', None)"
   ]
  },
  {
   "cell_type": "code",
   "execution_count": 78,
   "id": "2ad8a831",
   "metadata": {},
   "outputs": [],
   "source": [
    "# To hide the warnings\n",
    "\n",
    "import warnings\n",
    "\n",
    "warnings.filterwarnings('ignore')"
   ]
  },
  {
   "cell_type": "code",
   "execution_count": 79,
   "id": "67fbc9a6",
   "metadata": {},
   "outputs": [],
   "source": [
    "# Reading the train and test sets (These were split before EDA)\n",
    "\n",
    "def read_data(filename):\n",
    "    return pd.read_csv(os.path.join('dataset', filename), index_col='index').rename_axis(None)"
   ]
  },
  {
   "cell_type": "code",
   "execution_count": 80,
   "id": "25946294",
   "metadata": {},
   "outputs": [],
   "source": [
    "df_train = read_data('df_train.csv')\n",
    "df_test = read_data('df_test.csv')\n",
    "data = read_data('data.csv')"
   ]
  },
  {
   "cell_type": "code",
   "execution_count": 81,
   "id": "b7cacedc",
   "metadata": {},
   "outputs": [
    {
     "name": "stdout",
     "output_type": "stream",
     "text": [
      "(1176, 35)\n",
      "(294, 35)\n",
      "(1176, 45)\n"
     ]
    }
   ],
   "source": [
    "print(df_train.shape)\n",
    "print(df_test.shape)\n",
    "print(data.shape)"
   ]
  },
  {
   "cell_type": "code",
   "execution_count": 82,
   "id": "1915590c",
   "metadata": {},
   "outputs": [],
   "source": [
    "# Encoding the target variable in both train and test set\n",
    "\n",
    "from sklearn.preprocessing import LabelEncoder\n",
    "\n",
    "le = LabelEncoder()\n",
    "\n",
    "df_train['Attrition'] = le.fit_transform(df_train['Attrition'])\n",
    "\n",
    "df_test['Attrition'] = le.transform(df_test['Attrition'])"
   ]
  },
  {
   "cell_type": "code",
   "execution_count": 83,
   "id": "cc9aeee2",
   "metadata": {},
   "outputs": [],
   "source": [
    "# Separating X and y i.e. the independent tariables and the target variable\n",
    "\n",
    "employees = df_train.drop('Attrition', axis=1)\n",
    "employees_labels = df_train['Attrition'].copy()\n",
    "\n",
    "employees_test = df_test.drop('Attrition', axis=1)\n",
    "employees_test_labels = df_test['Attrition'].copy()"
   ]
  },
  {
   "cell_type": "code",
   "execution_count": 84,
   "id": "8d151faf",
   "metadata": {},
   "outputs": [
    {
     "name": "stdout",
     "output_type": "stream",
     "text": [
      "(1176, 34) (1176,)\n",
      "(294, 34) (294,)\n"
     ]
    }
   ],
   "source": [
    "print(employees.shape, employees_labels.shape)\n",
    "print(employees_test.shape, employees_test_labels.shape)"
   ]
  },
  {
   "cell_type": "code",
   "execution_count": 85,
   "id": "cc094293",
   "metadata": {},
   "outputs": [],
   "source": [
    "# Data Cleaning \n",
    "    # 1. Remove unnecessary attributes\n",
    "    # 2. Handle missing values if any"
   ]
  },
  {
   "cell_type": "code",
   "execution_count": 86,
   "id": "ad410911",
   "metadata": {},
   "outputs": [],
   "source": [
    "# 1. Dropping unnecessary variables from both train and test sets\n",
    "\n",
    "unnecessary_vars = ['EmployeeCount', 'EmployeeNumber', 'Over18', 'StandardHours']\n",
    "\n",
    "employees = employees.drop(unnecessary_vars, axis=1)\n",
    "employees_test = employees_test.drop(unnecessary_vars, axis=1)"
   ]
  },
  {
   "cell_type": "code",
   "execution_count": 87,
   "id": "bf56b2ed",
   "metadata": {
    "scrolled": true
   },
   "outputs": [
    {
     "data": {
      "text/plain": [
       "Age                         0\n",
       "BusinessTravel              0\n",
       "DailyRate                   0\n",
       "Department                  0\n",
       "DistanceFromHome            0\n",
       "Education                   0\n",
       "EducationField              0\n",
       "EnvironmentSatisfaction     0\n",
       "Gender                      0\n",
       "HourlyRate                  0\n",
       "JobInvolvement              0\n",
       "JobLevel                    0\n",
       "JobRole                     0\n",
       "JobSatisfaction             0\n",
       "MaritalStatus               0\n",
       "MonthlyIncome               0\n",
       "MonthlyRate                 0\n",
       "NumCompaniesWorked          0\n",
       "OverTime                    0\n",
       "PercentSalaryHike           0\n",
       "PerformanceRating           0\n",
       "RelationshipSatisfaction    0\n",
       "StockOptionLevel            0\n",
       "TotalWorkingYears           0\n",
       "TrainingTimesLastYear       0\n",
       "WorkLifeBalance             0\n",
       "YearsAtCompany              0\n",
       "YearsInCurrentRole          0\n",
       "YearsSinceLastPromotion     0\n",
       "YearsWithCurrManager        0\n",
       "dtype: int64"
      ]
     },
     "execution_count": 87,
     "metadata": {},
     "output_type": "execute_result"
    }
   ],
   "source": [
    "# 2. Checking if there are any missing values\n",
    "\n",
    "employees.isnull().sum()"
   ]
  },
  {
   "cell_type": "code",
   "execution_count": 88,
   "id": "167adfdc",
   "metadata": {
    "scrolled": true
   },
   "outputs": [
    {
     "data": {
      "text/plain": [
       "Age                         0\n",
       "BusinessTravel              0\n",
       "DailyRate                   0\n",
       "Department                  0\n",
       "DistanceFromHome            0\n",
       "Education                   0\n",
       "EducationField              0\n",
       "EnvironmentSatisfaction     0\n",
       "Gender                      0\n",
       "HourlyRate                  0\n",
       "JobInvolvement              0\n",
       "JobLevel                    0\n",
       "JobRole                     0\n",
       "JobSatisfaction             0\n",
       "MaritalStatus               0\n",
       "MonthlyIncome               0\n",
       "MonthlyRate                 0\n",
       "NumCompaniesWorked          0\n",
       "OverTime                    0\n",
       "PercentSalaryHike           0\n",
       "PerformanceRating           0\n",
       "RelationshipSatisfaction    0\n",
       "StockOptionLevel            0\n",
       "TotalWorkingYears           0\n",
       "TrainingTimesLastYear       0\n",
       "WorkLifeBalance             0\n",
       "YearsAtCompany              0\n",
       "YearsInCurrentRole          0\n",
       "YearsSinceLastPromotion     0\n",
       "YearsWithCurrManager        0\n",
       "dtype: int64"
      ]
     },
     "execution_count": 88,
     "metadata": {},
     "output_type": "execute_result"
    }
   ],
   "source": [
    "employees_test.isnull().sum()"
   ]
  },
  {
   "cell_type": "code",
   "execution_count": 89,
   "id": "b8666c5c",
   "metadata": {},
   "outputs": [],
   "source": [
    "# There aren't any missing values in any of the variables"
   ]
  },
  {
   "cell_type": "code",
   "execution_count": 90,
   "id": "79d20c63",
   "metadata": {},
   "outputs": [
    {
     "data": {
      "text/plain": [
       "Index(['Age', 'DailyRate', 'DistanceFromHome', 'Education',\n",
       "       'EnvironmentSatisfaction', 'HourlyRate', 'JobInvolvement', 'JobLevel',\n",
       "       'JobSatisfaction', 'MonthlyIncome', 'MonthlyRate', 'NumCompaniesWorked',\n",
       "       'PercentSalaryHike', 'PerformanceRating', 'RelationshipSatisfaction',\n",
       "       'StockOptionLevel', 'TotalWorkingYears', 'TrainingTimesLastYear',\n",
       "       'WorkLifeBalance', 'YearsAtCompany', 'YearsInCurrentRole',\n",
       "       'YearsSinceLastPromotion', 'YearsWithCurrManager'],\n",
       "      dtype='object')"
      ]
     },
     "execution_count": 90,
     "metadata": {},
     "output_type": "execute_result"
    }
   ],
   "source": [
    "# Handling numeric variables\n",
    "\n",
    "employees_num = employees.select_dtypes(exclude='object')\n",
    "\n",
    "employees_num.columns"
   ]
  },
  {
   "cell_type": "code",
   "execution_count": 91,
   "id": "d675b0a8",
   "metadata": {},
   "outputs": [],
   "source": [
    "# Let's create a custom class to add the derived attribute 'MonthlRateToIncome_Diff'\n",
    "\n",
    "from sklearn.base import BaseEstimator, TransformerMixin\n",
    "\n",
    "monthly_rate_idx, monthly_income_idx = 16, 15\n",
    "\n",
    "class AddDerivedAttributes(BaseEstimator, TransformerMixin):\n",
    "    def __init__(self):\n",
    "        pass\n",
    "    \n",
    "    def fit(self, X, y=None):\n",
    "        return self\n",
    "\n",
    "    def transform(self, X, y=None):\n",
    "        monthly_rate_to_income_diff = X[:, monthly_rate_idx] - X[:, monthly_income_idx]\n",
    "        return np.c_[X, monthly_rate_to_income_diff]"
   ]
  },
  {
   "cell_type": "code",
   "execution_count": 92,
   "id": "bd188ba5",
   "metadata": {},
   "outputs": [
    {
     "data": {
      "text/html": [
       "<div>\n",
       "<style scoped>\n",
       "    .dataframe tbody tr th:only-of-type {\n",
       "        vertical-align: middle;\n",
       "    }\n",
       "\n",
       "    .dataframe tbody tr th {\n",
       "        vertical-align: top;\n",
       "    }\n",
       "\n",
       "    .dataframe thead th {\n",
       "        text-align: right;\n",
       "    }\n",
       "</style>\n",
       "<table border=\"1\" class=\"dataframe\">\n",
       "  <thead>\n",
       "    <tr style=\"text-align: right;\">\n",
       "      <th></th>\n",
       "      <th>BusinessTravel</th>\n",
       "      <th>Department</th>\n",
       "      <th>EducationField</th>\n",
       "      <th>Gender</th>\n",
       "      <th>JobRole</th>\n",
       "      <th>MaritalStatus</th>\n",
       "      <th>OverTime</th>\n",
       "    </tr>\n",
       "  </thead>\n",
       "  <tbody>\n",
       "    <tr>\n",
       "      <th>941</th>\n",
       "      <td>Travel_Rarely</td>\n",
       "      <td>Research &amp; Development</td>\n",
       "      <td>Technical Degree</td>\n",
       "      <td>Female</td>\n",
       "      <td>Laboratory Technician</td>\n",
       "      <td>Married</td>\n",
       "      <td>No</td>\n",
       "    </tr>\n",
       "    <tr>\n",
       "      <th>865</th>\n",
       "      <td>Travel_Rarely</td>\n",
       "      <td>Sales</td>\n",
       "      <td>Life Sciences</td>\n",
       "      <td>Male</td>\n",
       "      <td>Sales Executive</td>\n",
       "      <td>Divorced</td>\n",
       "      <td>No</td>\n",
       "    </tr>\n",
       "    <tr>\n",
       "      <th>18</th>\n",
       "      <td>Travel_Rarely</td>\n",
       "      <td>Sales</td>\n",
       "      <td>Life Sciences</td>\n",
       "      <td>Female</td>\n",
       "      <td>Manager</td>\n",
       "      <td>Married</td>\n",
       "      <td>No</td>\n",
       "    </tr>\n",
       "    <tr>\n",
       "      <th>786</th>\n",
       "      <td>Non-Travel</td>\n",
       "      <td>Research &amp; Development</td>\n",
       "      <td>Life Sciences</td>\n",
       "      <td>Male</td>\n",
       "      <td>Laboratory Technician</td>\n",
       "      <td>Married</td>\n",
       "      <td>No</td>\n",
       "    </tr>\n",
       "    <tr>\n",
       "      <th>416</th>\n",
       "      <td>Travel_Frequently</td>\n",
       "      <td>Research &amp; Development</td>\n",
       "      <td>Life Sciences</td>\n",
       "      <td>Male</td>\n",
       "      <td>Laboratory Technician</td>\n",
       "      <td>Married</td>\n",
       "      <td>Yes</td>\n",
       "    </tr>\n",
       "    <tr>\n",
       "      <th>...</th>\n",
       "      <td>...</td>\n",
       "      <td>...</td>\n",
       "      <td>...</td>\n",
       "      <td>...</td>\n",
       "      <td>...</td>\n",
       "      <td>...</td>\n",
       "      <td>...</td>\n",
       "    </tr>\n",
       "    <tr>\n",
       "      <th>1332</th>\n",
       "      <td>Travel_Frequently</td>\n",
       "      <td>Research &amp; Development</td>\n",
       "      <td>Life Sciences</td>\n",
       "      <td>Male</td>\n",
       "      <td>Research Scientist</td>\n",
       "      <td>Single</td>\n",
       "      <td>Yes</td>\n",
       "    </tr>\n",
       "    <tr>\n",
       "      <th>159</th>\n",
       "      <td>Travel_Frequently</td>\n",
       "      <td>Sales</td>\n",
       "      <td>Marketing</td>\n",
       "      <td>Female</td>\n",
       "      <td>Sales Representative</td>\n",
       "      <td>Married</td>\n",
       "      <td>No</td>\n",
       "    </tr>\n",
       "    <tr>\n",
       "      <th>318</th>\n",
       "      <td>Travel_Rarely</td>\n",
       "      <td>Research &amp; Development</td>\n",
       "      <td>Life Sciences</td>\n",
       "      <td>Female</td>\n",
       "      <td>Research Scientist</td>\n",
       "      <td>Single</td>\n",
       "      <td>Yes</td>\n",
       "    </tr>\n",
       "    <tr>\n",
       "      <th>1286</th>\n",
       "      <td>Travel_Rarely</td>\n",
       "      <td>Research &amp; Development</td>\n",
       "      <td>Life Sciences</td>\n",
       "      <td>Female</td>\n",
       "      <td>Laboratory Technician</td>\n",
       "      <td>Married</td>\n",
       "      <td>No</td>\n",
       "    </tr>\n",
       "    <tr>\n",
       "      <th>981</th>\n",
       "      <td>Travel_Frequently</td>\n",
       "      <td>Sales</td>\n",
       "      <td>Marketing</td>\n",
       "      <td>Female</td>\n",
       "      <td>Sales Executive</td>\n",
       "      <td>Married</td>\n",
       "      <td>Yes</td>\n",
       "    </tr>\n",
       "  </tbody>\n",
       "</table>\n",
       "<p>1176 rows × 7 columns</p>\n",
       "</div>"
      ],
      "text/plain": [
       "         BusinessTravel              Department    EducationField  Gender  \\\n",
       "941       Travel_Rarely  Research & Development  Technical Degree  Female   \n",
       "865       Travel_Rarely                   Sales     Life Sciences    Male   \n",
       "18        Travel_Rarely                   Sales     Life Sciences  Female   \n",
       "786          Non-Travel  Research & Development     Life Sciences    Male   \n",
       "416   Travel_Frequently  Research & Development     Life Sciences    Male   \n",
       "...                 ...                     ...               ...     ...   \n",
       "1332  Travel_Frequently  Research & Development     Life Sciences    Male   \n",
       "159   Travel_Frequently                   Sales         Marketing  Female   \n",
       "318       Travel_Rarely  Research & Development     Life Sciences  Female   \n",
       "1286      Travel_Rarely  Research & Development     Life Sciences  Female   \n",
       "981   Travel_Frequently                   Sales         Marketing  Female   \n",
       "\n",
       "                    JobRole MaritalStatus OverTime  \n",
       "941   Laboratory Technician       Married       No  \n",
       "865         Sales Executive      Divorced       No  \n",
       "18                  Manager       Married       No  \n",
       "786   Laboratory Technician       Married       No  \n",
       "416   Laboratory Technician       Married      Yes  \n",
       "...                     ...           ...      ...  \n",
       "1332     Research Scientist        Single      Yes  \n",
       "159    Sales Representative       Married       No  \n",
       "318      Research Scientist        Single      Yes  \n",
       "1286  Laboratory Technician       Married       No  \n",
       "981         Sales Executive       Married      Yes  \n",
       "\n",
       "[1176 rows x 7 columns]"
      ]
     },
     "execution_count": 92,
     "metadata": {},
     "output_type": "execute_result"
    }
   ],
   "source": [
    "# Handling Categorical Attributes\n",
    "\n",
    "employees_cat = employees.select_dtypes(include='object')\n",
    "\n",
    "employees_cat"
   ]
  },
  {
   "cell_type": "code",
   "execution_count": 93,
   "id": "70d8db44",
   "metadata": {},
   "outputs": [],
   "source": [
    "# Using one hot encoding technique to encode all the categorical variables\n",
    "\n",
    "from sklearn.preprocessing import OneHotEncoder\n",
    "\n",
    "ohe = OneHotEncoder()\n",
    "\n",
    "employees_cat_1hot = ohe.fit_transform(employees_cat)"
   ]
  },
  {
   "cell_type": "code",
   "execution_count": 94,
   "id": "bed4ab6d",
   "metadata": {},
   "outputs": [
    {
     "data": {
      "text/plain": [
       "28"
      ]
     },
     "execution_count": 94,
     "metadata": {},
     "output_type": "execute_result"
    }
   ],
   "source": [
    "len(employees_cat_1hot.toarray()[0])"
   ]
  },
  {
   "cell_type": "code",
   "execution_count": 95,
   "id": "b8490e69",
   "metadata": {},
   "outputs": [],
   "source": [
    "# Building the pipeline for both numeric and categorical attributes\n",
    "\n",
    "from sklearn.pipeline import Pipeline\n",
    "from sklearn.compose import ColumnTransformer, make_column_selector\n",
    "from sklearn.preprocessing import StandardScaler, OneHotEncoder\n",
    "\n",
    "num_attrs = list(employees_num.columns)\n",
    "cat_attrs = list(employees_cat.columns)\n",
    "\n",
    "# Pipeline step to add the derived attribute MonthlyRateToIncomeDiff\n",
    "add_derived_attributes_pipeline = Pipeline([\n",
    "    ('attribute_adder', AddDerivedAttributes())\n",
    "])\n",
    "\n",
    "# Pipeline to scale all the numeric attributes using standard scaler and encode all the categorical attributes using \n",
    "# one-hot-encoding\n",
    "transform_pipeline = ColumnTransformer([\n",
    "    ('scaling', StandardScaler(), make_column_selector(dtype_include=np.number)),\n",
    "    ('one_hot_encoding', OneHotEncoder(), make_column_selector(dtype_include=object))\n",
    "])\n",
    "\n",
    "# Full Pipeline combining above two\n",
    "full_pipeline = Pipeline([\n",
    "    ('transform', transform_pipeline),\n",
    "    ('add_derived_attributes', add_derived_attributes_pipeline),\n",
    "])"
   ]
  },
  {
   "cell_type": "code",
   "execution_count": 96,
   "id": "2dd08664",
   "metadata": {
    "scrolled": false
   },
   "outputs": [],
   "source": [
    "employees_prepared = full_pipeline.fit_transform(employees)"
   ]
  },
  {
   "cell_type": "code",
   "execution_count": 97,
   "id": "adfedf6d",
   "metadata": {},
   "outputs": [],
   "source": [
    "employees_test_prepared = full_pipeline.transform(employees_test)"
   ]
  },
  {
   "cell_type": "markdown",
   "id": "1c76fe81",
   "metadata": {},
   "source": [
    "# "
   ]
  },
  {
   "cell_type": "markdown",
   "id": "d5158ccb",
   "metadata": {},
   "source": [
    "## Modelling"
   ]
  },
  {
   "cell_type": "markdown",
   "id": "d6706d93",
   "metadata": {},
   "source": [
    "### 1a. Logistic Regression"
   ]
  },
  {
   "cell_type": "code",
   "execution_count": 98,
   "id": "5812a419",
   "metadata": {},
   "outputs": [
    {
     "data": {
      "text/html": [
       "<style>#sk-container-id-6 {color: black;background-color: white;}#sk-container-id-6 pre{padding: 0;}#sk-container-id-6 div.sk-toggleable {background-color: white;}#sk-container-id-6 label.sk-toggleable__label {cursor: pointer;display: block;width: 100%;margin-bottom: 0;padding: 0.3em;box-sizing: border-box;text-align: center;}#sk-container-id-6 label.sk-toggleable__label-arrow:before {content: \"▸\";float: left;margin-right: 0.25em;color: #696969;}#sk-container-id-6 label.sk-toggleable__label-arrow:hover:before {color: black;}#sk-container-id-6 div.sk-estimator:hover label.sk-toggleable__label-arrow:before {color: black;}#sk-container-id-6 div.sk-toggleable__content {max-height: 0;max-width: 0;overflow: hidden;text-align: left;background-color: #f0f8ff;}#sk-container-id-6 div.sk-toggleable__content pre {margin: 0.2em;color: black;border-radius: 0.25em;background-color: #f0f8ff;}#sk-container-id-6 input.sk-toggleable__control:checked~div.sk-toggleable__content {max-height: 200px;max-width: 100%;overflow: auto;}#sk-container-id-6 input.sk-toggleable__control:checked~label.sk-toggleable__label-arrow:before {content: \"▾\";}#sk-container-id-6 div.sk-estimator input.sk-toggleable__control:checked~label.sk-toggleable__label {background-color: #d4ebff;}#sk-container-id-6 div.sk-label input.sk-toggleable__control:checked~label.sk-toggleable__label {background-color: #d4ebff;}#sk-container-id-6 input.sk-hidden--visually {border: 0;clip: rect(1px 1px 1px 1px);clip: rect(1px, 1px, 1px, 1px);height: 1px;margin: -1px;overflow: hidden;padding: 0;position: absolute;width: 1px;}#sk-container-id-6 div.sk-estimator {font-family: monospace;background-color: #f0f8ff;border: 1px dotted black;border-radius: 0.25em;box-sizing: border-box;margin-bottom: 0.5em;}#sk-container-id-6 div.sk-estimator:hover {background-color: #d4ebff;}#sk-container-id-6 div.sk-parallel-item::after {content: \"\";width: 100%;border-bottom: 1px solid gray;flex-grow: 1;}#sk-container-id-6 div.sk-label:hover label.sk-toggleable__label {background-color: #d4ebff;}#sk-container-id-6 div.sk-serial::before {content: \"\";position: absolute;border-left: 1px solid gray;box-sizing: border-box;top: 0;bottom: 0;left: 50%;z-index: 0;}#sk-container-id-6 div.sk-serial {display: flex;flex-direction: column;align-items: center;background-color: white;padding-right: 0.2em;padding-left: 0.2em;position: relative;}#sk-container-id-6 div.sk-item {position: relative;z-index: 1;}#sk-container-id-6 div.sk-parallel {display: flex;align-items: stretch;justify-content: center;background-color: white;position: relative;}#sk-container-id-6 div.sk-item::before, #sk-container-id-6 div.sk-parallel-item::before {content: \"\";position: absolute;border-left: 1px solid gray;box-sizing: border-box;top: 0;bottom: 0;left: 50%;z-index: -1;}#sk-container-id-6 div.sk-parallel-item {display: flex;flex-direction: column;z-index: 1;position: relative;background-color: white;}#sk-container-id-6 div.sk-parallel-item:first-child::after {align-self: flex-end;width: 50%;}#sk-container-id-6 div.sk-parallel-item:last-child::after {align-self: flex-start;width: 50%;}#sk-container-id-6 div.sk-parallel-item:only-child::after {width: 0;}#sk-container-id-6 div.sk-dashed-wrapped {border: 1px dashed gray;margin: 0 0.4em 0.5em 0.4em;box-sizing: border-box;padding-bottom: 0.4em;background-color: white;}#sk-container-id-6 div.sk-label label {font-family: monospace;font-weight: bold;display: inline-block;line-height: 1.2em;}#sk-container-id-6 div.sk-label-container {text-align: center;}#sk-container-id-6 div.sk-container {/* jupyter's `normalize.less` sets `[hidden] { display: none; }` but bootstrap.min.css set `[hidden] { display: none !important; }` so we also need the `!important` here to be able to override the default hidden behavior on the sphinx rendered scikit-learn.org. See: https://github.com/scikit-learn/scikit-learn/issues/21755 */display: inline-block !important;position: relative;}#sk-container-id-6 div.sk-text-repr-fallback {display: none;}</style><div id=\"sk-container-id-6\" class=\"sk-top-container\"><div class=\"sk-text-repr-fallback\"><pre>LogisticRegression(random_state=42)</pre><b>In a Jupyter environment, please rerun this cell to show the HTML representation or trust the notebook. <br />On GitHub, the HTML representation is unable to render, please try loading this page with nbviewer.org.</b></div><div class=\"sk-container\" hidden><div class=\"sk-item\"><div class=\"sk-estimator sk-toggleable\"><input class=\"sk-toggleable__control sk-hidden--visually\" id=\"sk-estimator-id-10\" type=\"checkbox\" checked><label for=\"sk-estimator-id-10\" class=\"sk-toggleable__label sk-toggleable__label-arrow\">LogisticRegression</label><div class=\"sk-toggleable__content\"><pre>LogisticRegression(random_state=42)</pre></div></div></div></div></div>"
      ],
      "text/plain": [
       "LogisticRegression(random_state=42)"
      ]
     },
     "execution_count": 98,
     "metadata": {},
     "output_type": "execute_result"
    }
   ],
   "source": [
    "# Let's start first by building a Logistic Regression Model\n",
    "\n",
    "from sklearn.linear_model import LogisticRegression\n",
    "\n",
    "log_reg_clf = LogisticRegression(random_state=42)\n",
    "\n",
    "log_reg_clf.fit(employees_prepared, employees_labels)"
   ]
  },
  {
   "cell_type": "code",
   "execution_count": 99,
   "id": "a3ccb48a",
   "metadata": {},
   "outputs": [
    {
     "data": {
      "text/plain": [
       "array([0.85034014, 0.87755102, 0.88435374, 0.86054422])"
      ]
     },
     "execution_count": 99,
     "metadata": {},
     "output_type": "execute_result"
    }
   ],
   "source": [
    "# Looking at the accuracy scores that the logistic regression model can achieve on our data\n",
    "\n",
    "from sklearn.model_selection import cross_val_score, cross_val_predict\n",
    "\n",
    "cross_val_score(estimator=log_reg_clf, X=employees_prepared, y=employees_labels, cv=4, scoring='accuracy')"
   ]
  },
  {
   "cell_type": "code",
   "execution_count": 100,
   "id": "e2aa11a8",
   "metadata": {},
   "outputs": [],
   "source": [
    "# This shows that we can achieve minimum 85% accuracy using logistc regression model."
   ]
  },
  {
   "cell_type": "code",
   "execution_count": 101,
   "id": "a7ca9eba",
   "metadata": {},
   "outputs": [
    {
     "data": {
      "text/plain": [
       "array([0, 0, 0, ..., 0, 0, 0])"
      ]
     },
     "execution_count": 101,
     "metadata": {},
     "output_type": "execute_result"
    }
   ],
   "source": [
    "# We do not evaluate our model using accuracy. We need to look at the confusion matrix and check the precision and recall scores\n",
    "# For that let's first make the predictions\n",
    "\n",
    "y_train_pred_log_reg = cross_val_predict(estimator=log_reg_clf, X=employees_prepared, y=employees_labels, cv=4, \n",
    "                                         method='predict')\n",
    "\n",
    "y_train_pred_log_reg"
   ]
  },
  {
   "cell_type": "code",
   "execution_count": 102,
   "id": "cdfdfc90",
   "metadata": {},
   "outputs": [
    {
     "data": {
      "text/plain": [
       "array([[949,  37],\n",
       "       [118,  72]], dtype=int64)"
      ]
     },
     "execution_count": 102,
     "metadata": {},
     "output_type": "execute_result"
    }
   ],
   "source": [
    "# Confusion matrix\n",
    "\n",
    "from sklearn.metrics import confusion_matrix, precision_score, recall_score\n",
    "\n",
    "confusion_matrix(y_true=employees_labels, y_pred=y_train_pred_log_reg)"
   ]
  },
  {
   "cell_type": "code",
   "execution_count": 103,
   "id": "063a725f",
   "metadata": {},
   "outputs": [
    {
     "name": "stdout",
     "output_type": "stream",
     "text": [
      "Precision: 0.6605504587155964\n",
      "Recall: 0.37894736842105264\n"
     ]
    }
   ],
   "source": [
    "# Precision and Recall scores\n",
    "\n",
    "print(f'Precision: {precision_score(y_true=employees_labels, y_pred=y_train_pred_log_reg)}')\n",
    "print(f'Recall: {recall_score(y_true=employees_labels, y_pred=y_train_pred_log_reg)}')"
   ]
  },
  {
   "cell_type": "code",
   "execution_count": 104,
   "id": "726fbba2",
   "metadata": {},
   "outputs": [],
   "source": [
    "# Precision and Recall are not as good as accuracy"
   ]
  },
  {
   "cell_type": "code",
   "execution_count": 105,
   "id": "05af536e",
   "metadata": {},
   "outputs": [
    {
     "data": {
      "text/plain": [
       "array([[0.79863276, 0.20136724],\n",
       "       [0.9037121 , 0.0962879 ],\n",
       "       [0.99556275, 0.00443725],\n",
       "       ...,\n",
       "       [0.56742186, 0.43257814],\n",
       "       [0.92631624, 0.07368376],\n",
       "       [0.51975418, 0.48024582]])"
      ]
     },
     "execution_count": 105,
     "metadata": {},
     "output_type": "execute_result"
    }
   ],
   "source": [
    "# Let's look at the ROC curve and AUC score. For this we need y_score which is the prediction probabilities\n",
    "\n",
    "y_probas_log_reg = cross_val_predict(estimator=log_reg_clf, X=employees_prepared, y=employees_labels, cv=4, \n",
    "                                         method='predict_proba')\n",
    "\n",
    "y_probas_log_reg"
   ]
  },
  {
   "cell_type": "code",
   "execution_count": 106,
   "id": "216c7078",
   "metadata": {},
   "outputs": [
    {
     "data": {
      "text/plain": [
       "array([0.20136724, 0.0962879 , 0.00443725, ..., 0.43257814, 0.07368376,\n",
       "       0.48024582])"
      ]
     },
     "execution_count": 106,
     "metadata": {},
     "output_type": "execute_result"
    }
   ],
   "source": [
    "y_scores = y_probas_log_reg[:, 1]\n",
    "\n",
    "y_scores"
   ]
  },
  {
   "cell_type": "code",
   "execution_count": 107,
   "id": "196907b5",
   "metadata": {},
   "outputs": [
    {
     "data": {
      "image/png": "[encoded data removed]",
      "text/plain": [
       "<Figure size 640x480 with 1 Axes>"
      ]
     },
     "metadata": {},
     "output_type": "display_data"
    }
   ],
   "source": [
    "# Let's look at the ROC curve and AUC score now\n",
    "\n",
    "import matplotlib.pyplot as plt\n",
    "from sklearn.metrics import RocCurveDisplay, roc_auc_score, roc_curve\n",
    "\n",
    "fpr_log_reg, tpr_log_reg, thresholds_log_reg = roc_curve(y_true=employees_labels, y_score=y_scores)\n",
    "\n",
    "roc_auc_log_reg = roc_auc_score(y_true=employees_labels, y_score=y_scores)\n",
    "\n",
    "display_roc_log_reg = RocCurveDisplay(fpr=fpr_log_reg, \n",
    "                                      tpr=tpr_log_reg, \n",
    "                                      roc_auc=roc_auc_log_reg, \n",
    "                                      estimator_name='Logistic Regression')\n",
    "\n",
    "display_roc_log_reg.plot()\n",
    "plt.show()"
   ]
  },
  {
   "cell_type": "code",
   "execution_count": 108,
   "id": "88dd3d37",
   "metadata": {},
   "outputs": [],
   "source": [
    "# The Logistic Regression model has returned an AUC of 82%\n",
    "# Accuracy: ~86%\n",
    "# Precision: 66%\n",
    "# Recall: 38%\n",
    "# AUC: 82%"
   ]
  },
  {
   "cell_type": "code",
   "execution_count": 109,
   "id": "9e5df125",
   "metadata": {},
   "outputs": [],
   "source": [
    "# Model's performance is very poor in terms of precision and recall.\n",
    "\n",
    "# To improve this there are 2 ways,\n",
    "## 1. Hyperparameter tuning using GridSearchCV\n",
    "## 2. Adjustung the thresholds and improving the Precision/Recall"
   ]
  },
  {
   "cell_type": "code",
   "execution_count": 110,
   "id": "b52f7775",
   "metadata": {},
   "outputs": [],
   "source": [
    "## First, Let's plot the precision recall vs thresholds curve and see if the thresholds can be adjusted to make these metrics\n",
    "## better\n",
    "\n",
    "from sklearn.metrics import precision_recall_curve\n",
    "\n",
    "precisions, recalls, thresholds = precision_recall_curve(y_true=employees_labels, probas_pred=y_scores)\n",
    "\n",
    "def plot_precision_recall_vs_thresholds(precisions, recalls, thresholds):\n",
    "    plt.plot(thresholds, precisions[:-1], 'b--', label='Precision')\n",
    "    plt.plot(thresholds, recalls[:-1], 'g-', label='Recall')\n",
    "    plt.axis([0, 1, 0, 1])\n",
    "    plt.grid(True)\n",
    "    plt.xlabel('Threshold')\n",
    "    plt.title('Precision and Recall vs Thresholds')\n",
    "    plt.legend(loc='best')"
   ]
  },
  {
   "cell_type": "code",
   "execution_count": 111,
   "id": "a788cc10",
   "metadata": {},
   "outputs": [
    {
     "data": {
      "image/png": "[encoded data removed]",
      "text/plain": [
       "<Figure size 800x400 with 1 Axes>"
      ]
     },
     "metadata": {},
     "output_type": "display_data"
    }
   ],
   "source": [
    "plt.figure(figsize=(8,4))\n",
    "plot_precision_recall_vs_thresholds(precisions, recalls, thresholds)\n",
    "plt.plot([0.2, 0.2], [0, 1], 'r:')\n",
    "plt.plot([0, 0.2], [0.7, 0.7], 'r:')\n",
    "plt.plot([0, 0.2], [0.4, 0.4], 'r:')\n",
    "plt.show()"
   ]
  },
  {
   "cell_type": "code",
   "execution_count": 112,
   "id": "988ec4b8",
   "metadata": {},
   "outputs": [],
   "source": [
    "# From this plot we can see that,\n",
    "## At threshold 0.2 we can get ~70% Recall and ~40% Precision\n",
    "## At threshold 0.1 we can get ~82% Recall and ~30% Precision"
   ]
  },
  {
   "cell_type": "code",
   "execution_count": 113,
   "id": "7f577063",
   "metadata": {},
   "outputs": [],
   "source": [
    "# If required we can modify the thresholds and achieve the above numbers. But, Let's try our next approach which is\n",
    "# Hyperparaeter tuning and see if it improves"
   ]
  },
  {
   "cell_type": "code",
   "execution_count": 114,
   "id": "b1d3d75c",
   "metadata": {},
   "outputs": [
    {
     "name": "stdout",
     "output_type": "stream",
     "text": [
      "Fitting 5 folds for each of 25 candidates, totalling 125 fits\n"
     ]
    },
    {
     "data": {
      "text/html": [
       "<style>#sk-container-id-7 {color: black;background-color: white;}#sk-container-id-7 pre{padding: 0;}#sk-container-id-7 div.sk-toggleable {background-color: white;}#sk-container-id-7 label.sk-toggleable__label {cursor: pointer;display: block;width: 100%;margin-bottom: 0;padding: 0.3em;box-sizing: border-box;text-align: center;}#sk-container-id-7 label.sk-toggleable__label-arrow:before {content: \"▸\";float: left;margin-right: 0.25em;color: #696969;}#sk-container-id-7 label.sk-toggleable__label-arrow:hover:before {color: black;}#sk-container-id-7 div.sk-estimator:hover label.sk-toggleable__label-arrow:before {color: black;}#sk-container-id-7 div.sk-toggleable__content {max-height: 0;max-width: 0;overflow: hidden;text-align: left;background-color: #f0f8ff;}#sk-container-id-7 div.sk-toggleable__content pre {margin: 0.2em;color: black;border-radius: 0.25em;background-color: #f0f8ff;}#sk-container-id-7 input.sk-toggleable__control:checked~div.sk-toggleable__content {max-height: 200px;max-width: 100%;overflow: auto;}#sk-container-id-7 input.sk-toggleable__control:checked~label.sk-toggleable__label-arrow:before {content: \"▾\";}#sk-container-id-7 div.sk-estimator input.sk-toggleable__control:checked~label.sk-toggleable__label {background-color: #d4ebff;}#sk-container-id-7 div.sk-label input.sk-toggleable__control:checked~label.sk-toggleable__label {background-color: #d4ebff;}#sk-container-id-7 input.sk-hidden--visually {border: 0;clip: rect(1px 1px 1px 1px);clip: rect(1px, 1px, 1px, 1px);height: 1px;margin: -1px;overflow: hidden;padding: 0;position: absolute;width: 1px;}#sk-container-id-7 div.sk-estimator {font-family: monospace;background-color: #f0f8ff;border: 1px dotted black;border-radius: 0.25em;box-sizing: border-box;margin-bottom: 0.5em;}#sk-container-id-7 div.sk-estimator:hover {background-color: #d4ebff;}#sk-container-id-7 div.sk-parallel-item::after {content: \"\";width: 100%;border-bottom: 1px solid gray;flex-grow: 1;}#sk-container-id-7 div.sk-label:hover label.sk-toggleable__label {background-color: #d4ebff;}#sk-container-id-7 div.sk-serial::before {content: \"\";position: absolute;border-left: 1px solid gray;box-sizing: border-box;top: 0;bottom: 0;left: 50%;z-index: 0;}#sk-container-id-7 div.sk-serial {display: flex;flex-direction: column;align-items: center;background-color: white;padding-right: 0.2em;padding-left: 0.2em;position: relative;}#sk-container-id-7 div.sk-item {position: relative;z-index: 1;}#sk-container-id-7 div.sk-parallel {display: flex;align-items: stretch;justify-content: center;background-color: white;position: relative;}#sk-container-id-7 div.sk-item::before, #sk-container-id-7 div.sk-parallel-item::before {content: \"\";position: absolute;border-left: 1px solid gray;box-sizing: border-box;top: 0;bottom: 0;left: 50%;z-index: -1;}#sk-container-id-7 div.sk-parallel-item {display: flex;flex-direction: column;z-index: 1;position: relative;background-color: white;}#sk-container-id-7 div.sk-parallel-item:first-child::after {align-self: flex-end;width: 50%;}#sk-container-id-7 div.sk-parallel-item:last-child::after {align-self: flex-start;width: 50%;}#sk-container-id-7 div.sk-parallel-item:only-child::after {width: 0;}#sk-container-id-7 div.sk-dashed-wrapped {border: 1px dashed gray;margin: 0 0.4em 0.5em 0.4em;box-sizing: border-box;padding-bottom: 0.4em;background-color: white;}#sk-container-id-7 div.sk-label label {font-family: monospace;font-weight: bold;display: inline-block;line-height: 1.2em;}#sk-container-id-7 div.sk-label-container {text-align: center;}#sk-container-id-7 div.sk-container {/* jupyter's `normalize.less` sets `[hidden] { display: none; }` but bootstrap.min.css set `[hidden] { display: none !important; }` so we also need the `!important` here to be able to override the default hidden behavior on the sphinx rendered scikit-learn.org. See: https://github.com/scikit-learn/scikit-learn/issues/21755 */display: inline-block !important;position: relative;}#sk-container-id-7 div.sk-text-repr-fallback {display: none;}</style><div id=\"sk-container-id-7\" class=\"sk-top-container\"><div class=\"sk-text-repr-fallback\"><pre>GridSearchCV(cv=StratifiedKFold(n_splits=5, random_state=None, shuffle=False),\n",
       "             estimator=LogisticRegression(random_state=42), n_jobs=-1,\n",
       "             param_grid={&#x27;C&#x27;: [100, 10, 1.0, 0.1, 0.01], &#x27;penalty&#x27;: [&#x27;l2&#x27;],\n",
       "                         &#x27;solver&#x27;: [&#x27;newton-cg&#x27;, &#x27;lbfgs&#x27;, &#x27;liblinear&#x27;, &#x27;sag&#x27;,\n",
       "                                    &#x27;saga&#x27;]},\n",
       "             refit=&#x27;recall&#x27;,\n",
       "             scoring=[&#x27;accuracy&#x27;, &#x27;precision&#x27;, &#x27;recall&#x27;, &#x27;roc_auc&#x27;],\n",
       "             verbose=True)</pre><b>In a Jupyter environment, please rerun this cell to show the HTML representation or trust the notebook. <br />On GitHub, the HTML representation is unable to render, please try loading this page with nbviewer.org.</b></div><div class=\"sk-container\" hidden><div class=\"sk-item sk-dashed-wrapped\"><div class=\"sk-label-container\"><div class=\"sk-label sk-toggleable\"><input class=\"sk-toggleable__control sk-hidden--visually\" id=\"sk-estimator-id-11\" type=\"checkbox\" ><label for=\"sk-estimator-id-11\" class=\"sk-toggleable__label sk-toggleable__label-arrow\">GridSearchCV</label><div class=\"sk-toggleable__content\"><pre>GridSearchCV(cv=StratifiedKFold(n_splits=5, random_state=None, shuffle=False),\n",
       "             estimator=LogisticRegression(random_state=42), n_jobs=-1,\n",
       "             param_grid={&#x27;C&#x27;: [100, 10, 1.0, 0.1, 0.01], &#x27;penalty&#x27;: [&#x27;l2&#x27;],\n",
       "                         &#x27;solver&#x27;: [&#x27;newton-cg&#x27;, &#x27;lbfgs&#x27;, &#x27;liblinear&#x27;, &#x27;sag&#x27;,\n",
       "                                    &#x27;saga&#x27;]},\n",
       "             refit=&#x27;recall&#x27;,\n",
       "             scoring=[&#x27;accuracy&#x27;, &#x27;precision&#x27;, &#x27;recall&#x27;, &#x27;roc_auc&#x27;],\n",
       "             verbose=True)</pre></div></div></div><div class=\"sk-parallel\"><div class=\"sk-parallel-item\"><div class=\"sk-item\"><div class=\"sk-label-container\"><div class=\"sk-label sk-toggleable\"><input class=\"sk-toggleable__control sk-hidden--visually\" id=\"sk-estimator-id-12\" type=\"checkbox\" ><label for=\"sk-estimator-id-12\" class=\"sk-toggleable__label sk-toggleable__label-arrow\">estimator: LogisticRegression</label><div class=\"sk-toggleable__content\"><pre>LogisticRegression(random_state=42)</pre></div></div></div><div class=\"sk-serial\"><div class=\"sk-item\"><div class=\"sk-estimator sk-toggleable\"><input class=\"sk-toggleable__control sk-hidden--visually\" id=\"sk-estimator-id-13\" type=\"checkbox\" ><label for=\"sk-estimator-id-13\" class=\"sk-toggleable__label sk-toggleable__label-arrow\">LogisticRegression</label><div class=\"sk-toggleable__content\"><pre>LogisticRegression(random_state=42)</pre></div></div></div></div></div></div></div></div></div></div>"
      ],
      "text/plain": [
       "GridSearchCV(cv=StratifiedKFold(n_splits=5, random_state=None, shuffle=False),\n",
       "             estimator=LogisticRegression(random_state=42), n_jobs=-1,\n",
       "             param_grid={'C': [100, 10, 1.0, 0.1, 0.01], 'penalty': ['l2'],\n",
       "                         'solver': ['newton-cg', 'lbfgs', 'liblinear', 'sag',\n",
       "                                    'saga']},\n",
       "             refit='recall',\n",
       "             scoring=['accuracy', 'precision', 'recall', 'roc_auc'],\n",
       "             verbose=True)"
      ]
     },
     "execution_count": 114,
     "metadata": {},
     "output_type": "execute_result"
    }
   ],
   "source": [
    "# Hyperparameter tuning Logistic Regression model\n",
    "\n",
    "from sklearn.model_selection import GridSearchCV, StratifiedKFold\n",
    "\n",
    "model = LogisticRegression(random_state=42)\n",
    "\n",
    "param_grid = {\n",
    "    'solver': ['newton-cg', 'lbfgs', 'liblinear', 'sag', 'saga'],\n",
    "    'C': [100, 10, 1.0, 0.1, 0.01],\n",
    "    'penalty': ['l2']\n",
    "}\n",
    "\n",
    "skf = StratifiedKFold(n_splits=5)\n",
    "\n",
    "log_reg_cv = GridSearchCV(estimator=model, \n",
    "                          param_grid=param_grid, \n",
    "                          cv=skf, \n",
    "                          scoring=['accuracy', 'precision', 'recall', 'roc_auc'],\n",
    "                          refit='recall',\n",
    "                          verbose=True,\n",
    "                          n_jobs=-1)\n",
    "\n",
    "log_reg_cv.fit(employees_prepared, employees_labels)"
   ]
  },
  {
   "cell_type": "code",
   "execution_count": 115,
   "id": "da673b45",
   "metadata": {},
   "outputs": [
    {
     "data": {
      "text/plain": [
       "{'C': 100, 'penalty': 'l2', 'solver': 'newton-cg'}"
      ]
     },
     "execution_count": 115,
     "metadata": {},
     "output_type": "execute_result"
    }
   ],
   "source": [
    "log_reg_cv.best_params_"
   ]
  },
  {
   "cell_type": "code",
   "execution_count": 116,
   "id": "c274d0c7",
   "metadata": {},
   "outputs": [
    {
     "data": {
      "text/html": [
       "<div>\n",
       "<style scoped>\n",
       "    .dataframe tbody tr th:only-of-type {\n",
       "        vertical-align: middle;\n",
       "    }\n",
       "\n",
       "    .dataframe tbody tr th {\n",
       "        vertical-align: top;\n",
       "    }\n",
       "\n",
       "    .dataframe thead th {\n",
       "        text-align: right;\n",
       "    }\n",
       "</style>\n",
       "<table border=\"1\" class=\"dataframe\">\n",
       "  <thead>\n",
       "    <tr style=\"text-align: right;\">\n",
       "      <th></th>\n",
       "      <th>mean_test_accuracy</th>\n",
       "      <th>mean_test_precision</th>\n",
       "      <th>mean_test_recall</th>\n",
       "      <th>mean_test_roc_auc</th>\n",
       "    </tr>\n",
       "  </thead>\n",
       "  <tbody>\n",
       "    <tr>\n",
       "      <th>0</th>\n",
       "      <td>0.863981</td>\n",
       "      <td>0.630081</td>\n",
       "      <td>0.400000</td>\n",
       "      <td>0.802276</td>\n",
       "    </tr>\n",
       "    <tr>\n",
       "      <th>1</th>\n",
       "      <td>0.863981</td>\n",
       "      <td>0.630081</td>\n",
       "      <td>0.400000</td>\n",
       "      <td>0.800654</td>\n",
       "    </tr>\n",
       "    <tr>\n",
       "      <th>2</th>\n",
       "      <td>0.863981</td>\n",
       "      <td>0.630081</td>\n",
       "      <td>0.400000</td>\n",
       "      <td>0.802329</td>\n",
       "    </tr>\n",
       "    <tr>\n",
       "      <th>3</th>\n",
       "      <td>0.863981</td>\n",
       "      <td>0.632891</td>\n",
       "      <td>0.394737</td>\n",
       "      <td>0.809757</td>\n",
       "    </tr>\n",
       "    <tr>\n",
       "      <th>4</th>\n",
       "      <td>0.863978</td>\n",
       "      <td>0.634299</td>\n",
       "      <td>0.389474</td>\n",
       "      <td>0.811993</td>\n",
       "    </tr>\n",
       "    <tr>\n",
       "      <th>5</th>\n",
       "      <td>0.864829</td>\n",
       "      <td>0.636275</td>\n",
       "      <td>0.394737</td>\n",
       "      <td>0.808799</td>\n",
       "    </tr>\n",
       "    <tr>\n",
       "      <th>6</th>\n",
       "      <td>0.864829</td>\n",
       "      <td>0.636275</td>\n",
       "      <td>0.394737</td>\n",
       "      <td>0.809385</td>\n",
       "    </tr>\n",
       "    <tr>\n",
       "      <th>7</th>\n",
       "      <td>0.864829</td>\n",
       "      <td>0.636275</td>\n",
       "      <td>0.394737</td>\n",
       "      <td>0.808905</td>\n",
       "    </tr>\n",
       "    <tr>\n",
       "      <th>8</th>\n",
       "      <td>0.863978</td>\n",
       "      <td>0.634299</td>\n",
       "      <td>0.389474</td>\n",
       "      <td>0.810769</td>\n",
       "    </tr>\n",
       "    <tr>\n",
       "      <th>9</th>\n",
       "      <td>0.864829</td>\n",
       "      <td>0.641317</td>\n",
       "      <td>0.389474</td>\n",
       "      <td>0.812712</td>\n",
       "    </tr>\n",
       "    <tr>\n",
       "      <th>10</th>\n",
       "      <td>0.866524</td>\n",
       "      <td>0.650198</td>\n",
       "      <td>0.384211</td>\n",
       "      <td>0.817004</td>\n",
       "    </tr>\n",
       "    <tr>\n",
       "      <th>11</th>\n",
       "      <td>0.866524</td>\n",
       "      <td>0.650198</td>\n",
       "      <td>0.384211</td>\n",
       "      <td>0.816978</td>\n",
       "    </tr>\n",
       "    <tr>\n",
       "      <th>12</th>\n",
       "      <td>0.865676</td>\n",
       "      <td>0.646212</td>\n",
       "      <td>0.384211</td>\n",
       "      <td>0.816898</td>\n",
       "    </tr>\n",
       "    <tr>\n",
       "      <th>13</th>\n",
       "      <td>0.866524</td>\n",
       "      <td>0.650198</td>\n",
       "      <td>0.384211</td>\n",
       "      <td>0.816924</td>\n",
       "    </tr>\n",
       "    <tr>\n",
       "      <th>14</th>\n",
       "      <td>0.866524</td>\n",
       "      <td>0.650198</td>\n",
       "      <td>0.384211</td>\n",
       "      <td>0.817137</td>\n",
       "    </tr>\n",
       "    <tr>\n",
       "      <th>15</th>\n",
       "      <td>0.872456</td>\n",
       "      <td>0.739179</td>\n",
       "      <td>0.326316</td>\n",
       "      <td>0.820284</td>\n",
       "    </tr>\n",
       "    <tr>\n",
       "      <th>16</th>\n",
       "      <td>0.872456</td>\n",
       "      <td>0.739179</td>\n",
       "      <td>0.326316</td>\n",
       "      <td>0.820311</td>\n",
       "    </tr>\n",
       "    <tr>\n",
       "      <th>17</th>\n",
       "      <td>0.874158</td>\n",
       "      <td>0.747897</td>\n",
       "      <td>0.336842</td>\n",
       "      <td>0.820313</td>\n",
       "    </tr>\n",
       "    <tr>\n",
       "      <th>18</th>\n",
       "      <td>0.872456</td>\n",
       "      <td>0.739179</td>\n",
       "      <td>0.326316</td>\n",
       "      <td>0.820258</td>\n",
       "    </tr>\n",
       "    <tr>\n",
       "      <th>19</th>\n",
       "      <td>0.872456</td>\n",
       "      <td>0.739179</td>\n",
       "      <td>0.326316</td>\n",
       "      <td>0.820205</td>\n",
       "    </tr>\n",
       "    <tr>\n",
       "      <th>20</th>\n",
       "      <td>0.843538</td>\n",
       "      <td>0.800000</td>\n",
       "      <td>0.031579</td>\n",
       "      <td>0.803054</td>\n",
       "    </tr>\n",
       "    <tr>\n",
       "      <th>21</th>\n",
       "      <td>0.843538</td>\n",
       "      <td>0.800000</td>\n",
       "      <td>0.031579</td>\n",
       "      <td>0.803054</td>\n",
       "    </tr>\n",
       "    <tr>\n",
       "      <th>22</th>\n",
       "      <td>0.850339</td>\n",
       "      <td>0.860000</td>\n",
       "      <td>0.084211</td>\n",
       "      <td>0.808313</td>\n",
       "    </tr>\n",
       "    <tr>\n",
       "      <th>23</th>\n",
       "      <td>0.843538</td>\n",
       "      <td>0.800000</td>\n",
       "      <td>0.031579</td>\n",
       "      <td>0.803054</td>\n",
       "    </tr>\n",
       "    <tr>\n",
       "      <th>24</th>\n",
       "      <td>0.843538</td>\n",
       "      <td>0.800000</td>\n",
       "      <td>0.031579</td>\n",
       "      <td>0.803054</td>\n",
       "    </tr>\n",
       "  </tbody>\n",
       "</table>\n",
       "</div>"
      ],
      "text/plain": [
       "    mean_test_accuracy  mean_test_precision  mean_test_recall  \\\n",
       "0             0.863981             0.630081          0.400000   \n",
       "1             0.863981             0.630081          0.400000   \n",
       "2             0.863981             0.630081          0.400000   \n",
       "3             0.863981             0.632891          0.394737   \n",
       "4             0.863978             0.634299          0.389474   \n",
       "5             0.864829             0.636275          0.394737   \n",
       "6             0.864829             0.636275          0.394737   \n",
       "7             0.864829             0.636275          0.394737   \n",
       "8             0.863978             0.634299          0.389474   \n",
       "9             0.864829             0.641317          0.389474   \n",
       "10            0.866524             0.650198          0.384211   \n",
       "11            0.866524             0.650198          0.384211   \n",
       "12            0.865676             0.646212          0.384211   \n",
       "13            0.866524             0.650198          0.384211   \n",
       "14            0.866524             0.650198          0.384211   \n",
       "15            0.872456             0.739179          0.326316   \n",
       "16            0.872456             0.739179          0.326316   \n",
       "17            0.874158             0.747897          0.336842   \n",
       "18            0.872456             0.739179          0.326316   \n",
       "19            0.872456             0.739179          0.326316   \n",
       "20            0.843538             0.800000          0.031579   \n",
       "21            0.843538             0.800000          0.031579   \n",
       "22            0.850339             0.860000          0.084211   \n",
       "23            0.843538             0.800000          0.031579   \n",
       "24            0.843538             0.800000          0.031579   \n",
       "\n",
       "    mean_test_roc_auc  \n",
       "0            0.802276  \n",
       "1            0.800654  \n",
       "2            0.802329  \n",
       "3            0.809757  \n",
       "4            0.811993  \n",
       "5            0.808799  \n",
       "6            0.809385  \n",
       "7            0.808905  \n",
       "8            0.810769  \n",
       "9            0.812712  \n",
       "10           0.817004  \n",
       "11           0.816978  \n",
       "12           0.816898  \n",
       "13           0.816924  \n",
       "14           0.817137  \n",
       "15           0.820284  \n",
       "16           0.820311  \n",
       "17           0.820313  \n",
       "18           0.820258  \n",
       "19           0.820205  \n",
       "20           0.803054  \n",
       "21           0.803054  \n",
       "22           0.808313  \n",
       "23           0.803054  \n",
       "24           0.803054  "
      ]
     },
     "execution_count": 116,
     "metadata": {},
     "output_type": "execute_result"
    }
   ],
   "source": [
    "pd.DataFrame(log_reg_cv.cv_results_)[['mean_test_accuracy', 'mean_test_precision', 'mean_test_recall', 'mean_test_roc_auc']]"
   ]
  },
  {
   "cell_type": "raw",
   "id": "d3ea7870",
   "metadata": {},
   "source": [
    "# From this we can conclude that the maximum number that can be obtained from logistic regression model are:\n",
    "# Accuracy: 87%\n",
    "# Precision: 86% at 3% Recall\n",
    "# Recall: 40% at 63% Precision\n",
    "# ROC AUC: 82%"
   ]
  },
  {
   "cell_type": "markdown",
   "id": "717dd783",
   "metadata": {},
   "source": [
    "## "
   ]
  },
  {
   "cell_type": "markdown",
   "id": "39477534",
   "metadata": {},
   "source": [
    "### 1b. Logistic Regression with Class Balanced"
   ]
  },
  {
   "cell_type": "code",
   "execution_count": 117,
   "id": "9892d606",
   "metadata": {},
   "outputs": [
    {
     "data": {
      "text/plain": [
       "0    986\n",
       "1    190\n",
       "Name: Attrition, dtype: int64"
      ]
     },
     "execution_count": 117,
     "metadata": {},
     "output_type": "execute_result"
    }
   ],
   "source": [
    "# Balance the classes and check the performance of the Logistic Regression model\n",
    "\n",
    "employees_labels.value_counts()"
   ]
  },
  {
   "cell_type": "code",
   "execution_count": 118,
   "id": "c57a3b26",
   "metadata": {},
   "outputs": [],
   "source": [
    "# Let's balance the classes using SMOTE\n",
    "\n",
    "from imblearn.over_sampling import SMOTE\n",
    "\n",
    "employees_prepared_bal, employees_labels_bal = SMOTE().fit_resample(employees_prepared, employees_labels)"
   ]
  },
  {
   "cell_type": "code",
   "execution_count": 119,
   "id": "2bc8bfca",
   "metadata": {},
   "outputs": [
    {
     "data": {
      "text/plain": [
       "0    986\n",
       "1    986\n",
       "Name: Attrition, dtype: int64"
      ]
     },
     "execution_count": 119,
     "metadata": {},
     "output_type": "execute_result"
    }
   ],
   "source": [
    "employees_labels_bal.value_counts()"
   ]
  },
  {
   "cell_type": "code",
   "execution_count": 120,
   "id": "77d6a6ae",
   "metadata": {},
   "outputs": [],
   "source": [
    "# We have balanced the classes now"
   ]
  },
  {
   "cell_type": "code",
   "execution_count": 121,
   "id": "8ef85088",
   "metadata": {},
   "outputs": [
    {
     "data": {
      "text/html": [
       "<style>#sk-container-id-8 {color: black;background-color: white;}#sk-container-id-8 pre{padding: 0;}#sk-container-id-8 div.sk-toggleable {background-color: white;}#sk-container-id-8 label.sk-toggleable__label {cursor: pointer;display: block;width: 100%;margin-bottom: 0;padding: 0.3em;box-sizing: border-box;text-align: center;}#sk-container-id-8 label.sk-toggleable__label-arrow:before {content: \"▸\";float: left;margin-right: 0.25em;color: #696969;}#sk-container-id-8 label.sk-toggleable__label-arrow:hover:before {color: black;}#sk-container-id-8 div.sk-estimator:hover label.sk-toggleable__label-arrow:before {color: black;}#sk-container-id-8 div.sk-toggleable__content {max-height: 0;max-width: 0;overflow: hidden;text-align: left;background-color: #f0f8ff;}#sk-container-id-8 div.sk-toggleable__content pre {margin: 0.2em;color: black;border-radius: 0.25em;background-color: #f0f8ff;}#sk-container-id-8 input.sk-toggleable__control:checked~div.sk-toggleable__content {max-height: 200px;max-width: 100%;overflow: auto;}#sk-container-id-8 input.sk-toggleable__control:checked~label.sk-toggleable__label-arrow:before {content: \"▾\";}#sk-container-id-8 div.sk-estimator input.sk-toggleable__control:checked~label.sk-toggleable__label {background-color: #d4ebff;}#sk-container-id-8 div.sk-label input.sk-toggleable__control:checked~label.sk-toggleable__label {background-color: #d4ebff;}#sk-container-id-8 input.sk-hidden--visually {border: 0;clip: rect(1px 1px 1px 1px);clip: rect(1px, 1px, 1px, 1px);height: 1px;margin: -1px;overflow: hidden;padding: 0;position: absolute;width: 1px;}#sk-container-id-8 div.sk-estimator {font-family: monospace;background-color: #f0f8ff;border: 1px dotted black;border-radius: 0.25em;box-sizing: border-box;margin-bottom: 0.5em;}#sk-container-id-8 div.sk-estimator:hover {background-color: #d4ebff;}#sk-container-id-8 div.sk-parallel-item::after {content: \"\";width: 100%;border-bottom: 1px solid gray;flex-grow: 1;}#sk-container-id-8 div.sk-label:hover label.sk-toggleable__label {background-color: #d4ebff;}#sk-container-id-8 div.sk-serial::before {content: \"\";position: absolute;border-left: 1px solid gray;box-sizing: border-box;top: 0;bottom: 0;left: 50%;z-index: 0;}#sk-container-id-8 div.sk-serial {display: flex;flex-direction: column;align-items: center;background-color: white;padding-right: 0.2em;padding-left: 0.2em;position: relative;}#sk-container-id-8 div.sk-item {position: relative;z-index: 1;}#sk-container-id-8 div.sk-parallel {display: flex;align-items: stretch;justify-content: center;background-color: white;position: relative;}#sk-container-id-8 div.sk-item::before, #sk-container-id-8 div.sk-parallel-item::before {content: \"\";position: absolute;border-left: 1px solid gray;box-sizing: border-box;top: 0;bottom: 0;left: 50%;z-index: -1;}#sk-container-id-8 div.sk-parallel-item {display: flex;flex-direction: column;z-index: 1;position: relative;background-color: white;}#sk-container-id-8 div.sk-parallel-item:first-child::after {align-self: flex-end;width: 50%;}#sk-container-id-8 div.sk-parallel-item:last-child::after {align-self: flex-start;width: 50%;}#sk-container-id-8 div.sk-parallel-item:only-child::after {width: 0;}#sk-container-id-8 div.sk-dashed-wrapped {border: 1px dashed gray;margin: 0 0.4em 0.5em 0.4em;box-sizing: border-box;padding-bottom: 0.4em;background-color: white;}#sk-container-id-8 div.sk-label label {font-family: monospace;font-weight: bold;display: inline-block;line-height: 1.2em;}#sk-container-id-8 div.sk-label-container {text-align: center;}#sk-container-id-8 div.sk-container {/* jupyter's `normalize.less` sets `[hidden] { display: none; }` but bootstrap.min.css set `[hidden] { display: none !important; }` so we also need the `!important` here to be able to override the default hidden behavior on the sphinx rendered scikit-learn.org. See: https://github.com/scikit-learn/scikit-learn/issues/21755 */display: inline-block !important;position: relative;}#sk-container-id-8 div.sk-text-repr-fallback {display: none;}</style><div id=\"sk-container-id-8\" class=\"sk-top-container\"><div class=\"sk-text-repr-fallback\"><pre>LogisticRegression(max_iter=400)</pre><b>In a Jupyter environment, please rerun this cell to show the HTML representation or trust the notebook. <br />On GitHub, the HTML representation is unable to render, please try loading this page with nbviewer.org.</b></div><div class=\"sk-container\" hidden><div class=\"sk-item\"><div class=\"sk-estimator sk-toggleable\"><input class=\"sk-toggleable__control sk-hidden--visually\" id=\"sk-estimator-id-14\" type=\"checkbox\" checked><label for=\"sk-estimator-id-14\" class=\"sk-toggleable__label sk-toggleable__label-arrow\">LogisticRegression</label><div class=\"sk-toggleable__content\"><pre>LogisticRegression(max_iter=400)</pre></div></div></div></div></div>"
      ],
      "text/plain": [
       "LogisticRegression(max_iter=400)"
      ]
     },
     "execution_count": 121,
     "metadata": {},
     "output_type": "execute_result"
    }
   ],
   "source": [
    "# Building the logistic regression model on the balanced dataset\n",
    "\n",
    "log_reg_clf_bal = LogisticRegression(max_iter=400)\n",
    "\n",
    "log_reg_clf_bal.fit(employees_prepared_bal, employees_labels_bal)"
   ]
  },
  {
   "cell_type": "code",
   "execution_count": 122,
   "id": "249511b8",
   "metadata": {},
   "outputs": [
    {
     "data": {
      "text/plain": [
       "array([0.77890467, 0.78701826, 0.831643  , 0.79310345])"
      ]
     },
     "execution_count": 122,
     "metadata": {},
     "output_type": "execute_result"
    }
   ],
   "source": [
    "# Looking at the accuracy scores that the logistic regression model can achieve on our balanced data\n",
    "\n",
    "cross_val_score(estimator=log_reg_clf_bal, X=employees_prepared_bal, y=employees_labels_bal, cv=4, scoring='accuracy')"
   ]
  },
  {
   "cell_type": "code",
   "execution_count": 123,
   "id": "41223cff",
   "metadata": {},
   "outputs": [
    {
     "data": {
      "text/plain": [
       "array([0, 0, 0, ..., 1, 0, 1])"
      ]
     },
     "execution_count": 123,
     "metadata": {},
     "output_type": "execute_result"
    }
   ],
   "source": [
    "# We do not evaluate our model using accuracy. We need to look at the confusion matrix and check the precision and recall scores\n",
    "# For that let's first make the predictions\n",
    "\n",
    "y_train_pred_log_reg_bal = cross_val_predict(estimator=log_reg_clf_bal, X=employees_prepared_bal, y=employees_labels_bal, cv=4, \n",
    "                                             method='predict')\n",
    "\n",
    "y_train_pred_log_reg_bal"
   ]
  },
  {
   "cell_type": "code",
   "execution_count": 124,
   "id": "bc7d0899",
   "metadata": {},
   "outputs": [
    {
     "data": {
      "text/plain": [
       "array([[759, 227],\n",
       "       [172, 814]], dtype=int64)"
      ]
     },
     "execution_count": 124,
     "metadata": {},
     "output_type": "execute_result"
    }
   ],
   "source": [
    "# Confusion Matrix\n",
    "\n",
    "confusion_matrix(y_true=employees_labels_bal, y_pred=y_train_pred_log_reg_bal)"
   ]
  },
  {
   "cell_type": "code",
   "execution_count": 125,
   "id": "3596d6e7",
   "metadata": {},
   "outputs": [
    {
     "name": "stdout",
     "output_type": "stream",
     "text": [
      "Precision: 0.781940441882805\n",
      "Recall: 0.8255578093306288\n"
     ]
    }
   ],
   "source": [
    "# Precision and Recall\n",
    "\n",
    "print(f'Precision: {precision_score(y_true=employees_labels_bal, y_pred=y_train_pred_log_reg_bal)}')\n",
    "print(f'Recall: {recall_score(y_true=employees_labels_bal, y_pred=y_train_pred_log_reg_bal)}')"
   ]
  },
  {
   "cell_type": "code",
   "execution_count": 126,
   "id": "2b422386",
   "metadata": {},
   "outputs": [],
   "source": [
    "# Precision and Recall has improved drastically after balancing the classes. But accuracy is reduced by around ~7%"
   ]
  },
  {
   "cell_type": "code",
   "execution_count": 127,
   "id": "b10103e8",
   "metadata": {},
   "outputs": [
    {
     "data": {
      "text/plain": [
       "array([[0.55461217, 0.44538783],\n",
       "       [0.76589643, 0.23410357],\n",
       "       [0.99250006, 0.00749994],\n",
       "       ...,\n",
       "       [0.28472412, 0.71527588],\n",
       "       [0.65228121, 0.34771879],\n",
       "       [0.05464166, 0.94535834]])"
      ]
     },
     "execution_count": 127,
     "metadata": {},
     "output_type": "execute_result"
    }
   ],
   "source": [
    "# Let's look at the ROC curve and AUC score. For this we need y_score which is the prediction probabilities\n",
    "\n",
    "y_probas_log_reg_bal = cross_val_predict(estimator=log_reg_clf_bal, X=employees_prepared_bal, y=employees_labels_bal, cv=4, \n",
    "                                         method='predict_proba')\n",
    "\n",
    "y_probas_log_reg_bal"
   ]
  },
  {
   "cell_type": "code",
   "execution_count": 128,
   "id": "0788a9b3",
   "metadata": {},
   "outputs": [
    {
     "data": {
      "text/plain": [
       "array([0.44538783, 0.23410357, 0.00749994, ..., 0.71527588, 0.34771879,\n",
       "       0.94535834])"
      ]
     },
     "execution_count": 128,
     "metadata": {},
     "output_type": "execute_result"
    }
   ],
   "source": [
    "y_scores_bal = y_probas_log_reg_bal[:, 1]\n",
    "\n",
    "y_scores_bal"
   ]
  },
  {
   "cell_type": "code",
   "execution_count": 129,
   "id": "bc9ddd22",
   "metadata": {},
   "outputs": [
    {
     "data": {
      "image/png": "[encoded data removed]",
      "text/plain": [
       "<Figure size 640x480 with 1 Axes>"
      ]
     },
     "metadata": {},
     "output_type": "display_data"
    }
   ],
   "source": [
    "# Let's look at the ROC curve and AUC score now\n",
    "\n",
    "import matplotlib.pyplot as plt\n",
    "from sklearn.metrics import RocCurveDisplay, roc_auc_score, roc_curve\n",
    "\n",
    "fpr_log_reg_bal, tpr_log_reg_bal, thresholds_log_reg_bal = roc_curve(y_true=employees_labels_bal, y_score=y_scores_bal)\n",
    "\n",
    "roc_auc_log_reg_bal = roc_auc_score(y_true=employees_labels_bal, y_score=y_scores_bal)\n",
    "\n",
    "display_roc_log_reg_bal = RocCurveDisplay(fpr=fpr_log_reg_bal, \n",
    "                                      tpr=tpr_log_reg_bal, \n",
    "                                      roc_auc=roc_auc_log_reg_bal, \n",
    "                                      estimator_name='Logistic Regression')\n",
    "\n",
    "display_roc_log_reg_bal.plot()\n",
    "plt.show()"
   ]
  },
  {
   "cell_type": "code",
   "execution_count": 130,
   "id": "c2200850",
   "metadata": {},
   "outputs": [],
   "source": [
    "# Now the AUC is 88% which is improved by 6%"
   ]
  },
  {
   "cell_type": "code",
   "execution_count": 131,
   "id": "bf2faafd",
   "metadata": {},
   "outputs": [
    {
     "data": {
      "image/png": "[encoded data removed]",
      "text/plain": [
       "<Figure size 800x400 with 1 Axes>"
      ]
     },
     "metadata": {},
     "output_type": "display_data"
    }
   ],
   "source": [
    "# Let's look at the precision recall vs thresholds curve\n",
    "\n",
    "precisions_bal, recalls_bal, thresholds_bal = precision_recall_curve(y_true=employees_labels_bal, probas_pred=y_scores_bal)\n",
    "\n",
    "plt.figure(figsize=(8,4))\n",
    "plot_precision_recall_vs_thresholds(precisions_bal, recalls_bal, thresholds_bal)\n",
    "plt.show()"
   ]
  },
  {
   "cell_type": "code",
   "execution_count": 132,
   "id": "0a4ad790",
   "metadata": {},
   "outputs": [
    {
     "name": "stdout",
     "output_type": "stream",
     "text": [
      "Fitting 5 folds for each of 25 candidates, totalling 125 fits\n"
     ]
    },
    {
     "data": {
      "text/html": [
       "<style>#sk-container-id-9 {color: black;background-color: white;}#sk-container-id-9 pre{padding: 0;}#sk-container-id-9 div.sk-toggleable {background-color: white;}#sk-container-id-9 label.sk-toggleable__label {cursor: pointer;display: block;width: 100%;margin-bottom: 0;padding: 0.3em;box-sizing: border-box;text-align: center;}#sk-container-id-9 label.sk-toggleable__label-arrow:before {content: \"▸\";float: left;margin-right: 0.25em;color: #696969;}#sk-container-id-9 label.sk-toggleable__label-arrow:hover:before {color: black;}#sk-container-id-9 div.sk-estimator:hover label.sk-toggleable__label-arrow:before {color: black;}#sk-container-id-9 div.sk-toggleable__content {max-height: 0;max-width: 0;overflow: hidden;text-align: left;background-color: #f0f8ff;}#sk-container-id-9 div.sk-toggleable__content pre {margin: 0.2em;color: black;border-radius: 0.25em;background-color: #f0f8ff;}#sk-container-id-9 input.sk-toggleable__control:checked~div.sk-toggleable__content {max-height: 200px;max-width: 100%;overflow: auto;}#sk-container-id-9 input.sk-toggleable__control:checked~label.sk-toggleable__label-arrow:before {content: \"▾\";}#sk-container-id-9 div.sk-estimator input.sk-toggleable__control:checked~label.sk-toggleable__label {background-color: #d4ebff;}#sk-container-id-9 div.sk-label input.sk-toggleable__control:checked~label.sk-toggleable__label {background-color: #d4ebff;}#sk-container-id-9 input.sk-hidden--visually {border: 0;clip: rect(1px 1px 1px 1px);clip: rect(1px, 1px, 1px, 1px);height: 1px;margin: -1px;overflow: hidden;padding: 0;position: absolute;width: 1px;}#sk-container-id-9 div.sk-estimator {font-family: monospace;background-color: #f0f8ff;border: 1px dotted black;border-radius: 0.25em;box-sizing: border-box;margin-bottom: 0.5em;}#sk-container-id-9 div.sk-estimator:hover {background-color: #d4ebff;}#sk-container-id-9 div.sk-parallel-item::after {content: \"\";width: 100%;border-bottom: 1px solid gray;flex-grow: 1;}#sk-container-id-9 div.sk-label:hover label.sk-toggleable__label {background-color: #d4ebff;}#sk-container-id-9 div.sk-serial::before {content: \"\";position: absolute;border-left: 1px solid gray;box-sizing: border-box;top: 0;bottom: 0;left: 50%;z-index: 0;}#sk-container-id-9 div.sk-serial {display: flex;flex-direction: column;align-items: center;background-color: white;padding-right: 0.2em;padding-left: 0.2em;position: relative;}#sk-container-id-9 div.sk-item {position: relative;z-index: 1;}#sk-container-id-9 div.sk-parallel {display: flex;align-items: stretch;justify-content: center;background-color: white;position: relative;}#sk-container-id-9 div.sk-item::before, #sk-container-id-9 div.sk-parallel-item::before {content: \"\";position: absolute;border-left: 1px solid gray;box-sizing: border-box;top: 0;bottom: 0;left: 50%;z-index: -1;}#sk-container-id-9 div.sk-parallel-item {display: flex;flex-direction: column;z-index: 1;position: relative;background-color: white;}#sk-container-id-9 div.sk-parallel-item:first-child::after {align-self: flex-end;width: 50%;}#sk-container-id-9 div.sk-parallel-item:last-child::after {align-self: flex-start;width: 50%;}#sk-container-id-9 div.sk-parallel-item:only-child::after {width: 0;}#sk-container-id-9 div.sk-dashed-wrapped {border: 1px dashed gray;margin: 0 0.4em 0.5em 0.4em;box-sizing: border-box;padding-bottom: 0.4em;background-color: white;}#sk-container-id-9 div.sk-label label {font-family: monospace;font-weight: bold;display: inline-block;line-height: 1.2em;}#sk-container-id-9 div.sk-label-container {text-align: center;}#sk-container-id-9 div.sk-container {/* jupyter's `normalize.less` sets `[hidden] { display: none; }` but bootstrap.min.css set `[hidden] { display: none !important; }` so we also need the `!important` here to be able to override the default hidden behavior on the sphinx rendered scikit-learn.org. See: https://github.com/scikit-learn/scikit-learn/issues/21755 */display: inline-block !important;position: relative;}#sk-container-id-9 div.sk-text-repr-fallback {display: none;}</style><div id=\"sk-container-id-9\" class=\"sk-top-container\"><div class=\"sk-text-repr-fallback\"><pre>GridSearchCV(cv=StratifiedKFold(n_splits=5, random_state=None, shuffle=False),\n",
       "             estimator=LogisticRegression(random_state=42), n_jobs=-1,\n",
       "             param_grid={&#x27;C&#x27;: [100, 10, 1.0, 0.1, 0.01], &#x27;penalty&#x27;: [&#x27;l2&#x27;],\n",
       "                         &#x27;solver&#x27;: [&#x27;newton-cg&#x27;, &#x27;lbfgs&#x27;, &#x27;liblinear&#x27;, &#x27;sag&#x27;,\n",
       "                                    &#x27;saga&#x27;]},\n",
       "             refit=&#x27;recall&#x27;,\n",
       "             scoring=[&#x27;accuracy&#x27;, &#x27;precision&#x27;, &#x27;recall&#x27;, &#x27;roc_auc&#x27;],\n",
       "             verbose=True)</pre><b>In a Jupyter environment, please rerun this cell to show the HTML representation or trust the notebook. <br />On GitHub, the HTML representation is unable to render, please try loading this page with nbviewer.org.</b></div><div class=\"sk-container\" hidden><div class=\"sk-item sk-dashed-wrapped\"><div class=\"sk-label-container\"><div class=\"sk-label sk-toggleable\"><input class=\"sk-toggleable__control sk-hidden--visually\" id=\"sk-estimator-id-15\" type=\"checkbox\" ><label for=\"sk-estimator-id-15\" class=\"sk-toggleable__label sk-toggleable__label-arrow\">GridSearchCV</label><div class=\"sk-toggleable__content\"><pre>GridSearchCV(cv=StratifiedKFold(n_splits=5, random_state=None, shuffle=False),\n",
       "             estimator=LogisticRegression(random_state=42), n_jobs=-1,\n",
       "             param_grid={&#x27;C&#x27;: [100, 10, 1.0, 0.1, 0.01], &#x27;penalty&#x27;: [&#x27;l2&#x27;],\n",
       "                         &#x27;solver&#x27;: [&#x27;newton-cg&#x27;, &#x27;lbfgs&#x27;, &#x27;liblinear&#x27;, &#x27;sag&#x27;,\n",
       "                                    &#x27;saga&#x27;]},\n",
       "             refit=&#x27;recall&#x27;,\n",
       "             scoring=[&#x27;accuracy&#x27;, &#x27;precision&#x27;, &#x27;recall&#x27;, &#x27;roc_auc&#x27;],\n",
       "             verbose=True)</pre></div></div></div><div class=\"sk-parallel\"><div class=\"sk-parallel-item\"><div class=\"sk-item\"><div class=\"sk-label-container\"><div class=\"sk-label sk-toggleable\"><input class=\"sk-toggleable__control sk-hidden--visually\" id=\"sk-estimator-id-16\" type=\"checkbox\" ><label for=\"sk-estimator-id-16\" class=\"sk-toggleable__label sk-toggleable__label-arrow\">estimator: LogisticRegression</label><div class=\"sk-toggleable__content\"><pre>LogisticRegression(random_state=42)</pre></div></div></div><div class=\"sk-serial\"><div class=\"sk-item\"><div class=\"sk-estimator sk-toggleable\"><input class=\"sk-toggleable__control sk-hidden--visually\" id=\"sk-estimator-id-17\" type=\"checkbox\" ><label for=\"sk-estimator-id-17\" class=\"sk-toggleable__label sk-toggleable__label-arrow\">LogisticRegression</label><div class=\"sk-toggleable__content\"><pre>LogisticRegression(random_state=42)</pre></div></div></div></div></div></div></div></div></div></div>"
      ],
      "text/plain": [
       "GridSearchCV(cv=StratifiedKFold(n_splits=5, random_state=None, shuffle=False),\n",
       "             estimator=LogisticRegression(random_state=42), n_jobs=-1,\n",
       "             param_grid={'C': [100, 10, 1.0, 0.1, 0.01], 'penalty': ['l2'],\n",
       "                         'solver': ['newton-cg', 'lbfgs', 'liblinear', 'sag',\n",
       "                                    'saga']},\n",
       "             refit='recall',\n",
       "             scoring=['accuracy', 'precision', 'recall', 'roc_auc'],\n",
       "             verbose=True)"
      ]
     },
     "execution_count": 132,
     "metadata": {},
     "output_type": "execute_result"
    }
   ],
   "source": [
    "# Hyperparameter tuning Logistic Regression model\n",
    "\n",
    "from sklearn.model_selection import GridSearchCV, StratifiedKFold\n",
    "\n",
    "model = LogisticRegression(random_state=42)\n",
    "\n",
    "param_grid = {\n",
    "    'solver': ['newton-cg', 'lbfgs', 'liblinear', 'sag', 'saga'],\n",
    "    'C': [100, 10, 1.0, 0.1, 0.01],\n",
    "    'penalty': ['l2']\n",
    "}\n",
    "\n",
    "skf = StratifiedKFold(n_splits=5)\n",
    "\n",
    "log_reg_cv_bal = GridSearchCV(estimator=model, \n",
    "                              param_grid=param_grid, \n",
    "                              cv=skf, \n",
    "                              scoring=['accuracy', 'precision', 'recall', 'roc_auc'],\n",
    "                              refit='recall',\n",
    "                              verbose=True,\n",
    "                              n_jobs=-1)\n",
    "\n",
    "log_reg_cv_bal.fit(employees_prepared_bal, employees_labels_bal)"
   ]
  },
  {
   "cell_type": "code",
   "execution_count": 133,
   "id": "5e9422b4",
   "metadata": {},
   "outputs": [
    {
     "data": {
      "text/plain": [
       "{'C': 1.0, 'penalty': 'l2', 'solver': 'liblinear'}"
      ]
     },
     "execution_count": 133,
     "metadata": {},
     "output_type": "execute_result"
    }
   ],
   "source": [
    "log_reg_cv_bal.best_params_"
   ]
  },
  {
   "cell_type": "code",
   "execution_count": 134,
   "id": "c9c0aa94",
   "metadata": {},
   "outputs": [
    {
     "data": {
      "text/plain": [
       "0.8245705788852998"
      ]
     },
     "execution_count": 134,
     "metadata": {},
     "output_type": "execute_result"
    }
   ],
   "source": [
    "log_reg_cv_bal.best_score_"
   ]
  },
  {
   "cell_type": "code",
   "execution_count": 135,
   "id": "17b27d27",
   "metadata": {},
   "outputs": [
    {
     "data": {
      "text/html": [
       "<div>\n",
       "<style scoped>\n",
       "    .dataframe tbody tr th:only-of-type {\n",
       "        vertical-align: middle;\n",
       "    }\n",
       "\n",
       "    .dataframe tbody tr th {\n",
       "        vertical-align: top;\n",
       "    }\n",
       "\n",
       "    .dataframe thead th {\n",
       "        text-align: right;\n",
       "    }\n",
       "</style>\n",
       "<table border=\"1\" class=\"dataframe\">\n",
       "  <thead>\n",
       "    <tr style=\"text-align: right;\">\n",
       "      <th></th>\n",
       "      <th>mean_test_accuracy</th>\n",
       "      <th>mean_test_precision</th>\n",
       "      <th>mean_test_recall</th>\n",
       "      <th>mean_test_roc_auc</th>\n",
       "    </tr>\n",
       "  </thead>\n",
       "  <tbody>\n",
       "    <tr>\n",
       "      <th>0</th>\n",
       "      <td>0.792608</td>\n",
       "      <td>0.778372</td>\n",
       "      <td>0.818484</td>\n",
       "      <td>0.873587</td>\n",
       "    </tr>\n",
       "    <tr>\n",
       "      <th>1</th>\n",
       "      <td>0.792607</td>\n",
       "      <td>0.777880</td>\n",
       "      <td>0.819500</td>\n",
       "      <td>0.873695</td>\n",
       "    </tr>\n",
       "    <tr>\n",
       "      <th>2</th>\n",
       "      <td>0.792608</td>\n",
       "      <td>0.778372</td>\n",
       "      <td>0.818484</td>\n",
       "      <td>0.873587</td>\n",
       "    </tr>\n",
       "    <tr>\n",
       "      <th>3</th>\n",
       "      <td>0.791592</td>\n",
       "      <td>0.778068</td>\n",
       "      <td>0.816459</td>\n",
       "      <td>0.873474</td>\n",
       "    </tr>\n",
       "    <tr>\n",
       "      <th>4</th>\n",
       "      <td>0.792606</td>\n",
       "      <td>0.779533</td>\n",
       "      <td>0.816459</td>\n",
       "      <td>0.873655</td>\n",
       "    </tr>\n",
       "    <tr>\n",
       "      <th>5</th>\n",
       "      <td>0.792098</td>\n",
       "      <td>0.778317</td>\n",
       "      <td>0.817474</td>\n",
       "      <td>0.873695</td>\n",
       "    </tr>\n",
       "    <tr>\n",
       "      <th>6</th>\n",
       "      <td>0.792604</td>\n",
       "      <td>0.778518</td>\n",
       "      <td>0.818484</td>\n",
       "      <td>0.873716</td>\n",
       "    </tr>\n",
       "    <tr>\n",
       "      <th>7</th>\n",
       "      <td>0.792098</td>\n",
       "      <td>0.778317</td>\n",
       "      <td>0.817474</td>\n",
       "      <td>0.873690</td>\n",
       "    </tr>\n",
       "    <tr>\n",
       "      <th>8</th>\n",
       "      <td>0.792606</td>\n",
       "      <td>0.779533</td>\n",
       "      <td>0.816459</td>\n",
       "      <td>0.873660</td>\n",
       "    </tr>\n",
       "    <tr>\n",
       "      <th>9</th>\n",
       "      <td>0.793619</td>\n",
       "      <td>0.779942</td>\n",
       "      <td>0.818484</td>\n",
       "      <td>0.873871</td>\n",
       "    </tr>\n",
       "    <tr>\n",
       "      <th>10</th>\n",
       "      <td>0.795649</td>\n",
       "      <td>0.780479</td>\n",
       "      <td>0.823560</td>\n",
       "      <td>0.874582</td>\n",
       "    </tr>\n",
       "    <tr>\n",
       "      <th>11</th>\n",
       "      <td>0.795649</td>\n",
       "      <td>0.780479</td>\n",
       "      <td>0.823560</td>\n",
       "      <td>0.874613</td>\n",
       "    </tr>\n",
       "    <tr>\n",
       "      <th>12</th>\n",
       "      <td>0.796155</td>\n",
       "      <td>0.780675</td>\n",
       "      <td>0.824571</td>\n",
       "      <td>0.874582</td>\n",
       "    </tr>\n",
       "    <tr>\n",
       "      <th>13</th>\n",
       "      <td>0.795649</td>\n",
       "      <td>0.780479</td>\n",
       "      <td>0.823560</td>\n",
       "      <td>0.874608</td>\n",
       "    </tr>\n",
       "    <tr>\n",
       "      <th>14</th>\n",
       "      <td>0.796155</td>\n",
       "      <td>0.780675</td>\n",
       "      <td>0.824571</td>\n",
       "      <td>0.874613</td>\n",
       "    </tr>\n",
       "    <tr>\n",
       "      <th>15</th>\n",
       "      <td>0.797684</td>\n",
       "      <td>0.783104</td>\n",
       "      <td>0.823555</td>\n",
       "      <td>0.875866</td>\n",
       "    </tr>\n",
       "    <tr>\n",
       "      <th>16</th>\n",
       "      <td>0.797684</td>\n",
       "      <td>0.783104</td>\n",
       "      <td>0.823555</td>\n",
       "      <td>0.875851</td>\n",
       "    </tr>\n",
       "    <tr>\n",
       "      <th>17</th>\n",
       "      <td>0.798192</td>\n",
       "      <td>0.783325</td>\n",
       "      <td>0.824571</td>\n",
       "      <td>0.875763</td>\n",
       "    </tr>\n",
       "    <tr>\n",
       "      <th>18</th>\n",
       "      <td>0.797684</td>\n",
       "      <td>0.783104</td>\n",
       "      <td>0.823555</td>\n",
       "      <td>0.875861</td>\n",
       "    </tr>\n",
       "    <tr>\n",
       "      <th>19</th>\n",
       "      <td>0.797684</td>\n",
       "      <td>0.783104</td>\n",
       "      <td>0.823555</td>\n",
       "      <td>0.875861</td>\n",
       "    </tr>\n",
       "    <tr>\n",
       "      <th>20</th>\n",
       "      <td>0.792100</td>\n",
       "      <td>0.781481</td>\n",
       "      <td>0.811373</td>\n",
       "      <td>0.864892</td>\n",
       "    </tr>\n",
       "    <tr>\n",
       "      <th>21</th>\n",
       "      <td>0.792100</td>\n",
       "      <td>0.781481</td>\n",
       "      <td>0.811373</td>\n",
       "      <td>0.864892</td>\n",
       "    </tr>\n",
       "    <tr>\n",
       "      <th>22</th>\n",
       "      <td>0.788551</td>\n",
       "      <td>0.776130</td>\n",
       "      <td>0.811373</td>\n",
       "      <td>0.864984</td>\n",
       "    </tr>\n",
       "    <tr>\n",
       "      <th>23</th>\n",
       "      <td>0.792100</td>\n",
       "      <td>0.781481</td>\n",
       "      <td>0.811373</td>\n",
       "      <td>0.864887</td>\n",
       "    </tr>\n",
       "    <tr>\n",
       "      <th>24</th>\n",
       "      <td>0.792100</td>\n",
       "      <td>0.781481</td>\n",
       "      <td>0.811373</td>\n",
       "      <td>0.864892</td>\n",
       "    </tr>\n",
       "  </tbody>\n",
       "</table>\n",
       "</div>"
      ],
      "text/plain": [
       "    mean_test_accuracy  mean_test_precision  mean_test_recall  \\\n",
       "0             0.792608             0.778372          0.818484   \n",
       "1             0.792607             0.777880          0.819500   \n",
       "2             0.792608             0.778372          0.818484   \n",
       "3             0.791592             0.778068          0.816459   \n",
       "4             0.792606             0.779533          0.816459   \n",
       "5             0.792098             0.778317          0.817474   \n",
       "6             0.792604             0.778518          0.818484   \n",
       "7             0.792098             0.778317          0.817474   \n",
       "8             0.792606             0.779533          0.816459   \n",
       "9             0.793619             0.779942          0.818484   \n",
       "10            0.795649             0.780479          0.823560   \n",
       "11            0.795649             0.780479          0.823560   \n",
       "12            0.796155             0.780675          0.824571   \n",
       "13            0.795649             0.780479          0.823560   \n",
       "14            0.796155             0.780675          0.824571   \n",
       "15            0.797684             0.783104          0.823555   \n",
       "16            0.797684             0.783104          0.823555   \n",
       "17            0.798192             0.783325          0.824571   \n",
       "18            0.797684             0.783104          0.823555   \n",
       "19            0.797684             0.783104          0.823555   \n",
       "20            0.792100             0.781481          0.811373   \n",
       "21            0.792100             0.781481          0.811373   \n",
       "22            0.788551             0.776130          0.811373   \n",
       "23            0.792100             0.781481          0.811373   \n",
       "24            0.792100             0.781481          0.811373   \n",
       "\n",
       "    mean_test_roc_auc  \n",
       "0            0.873587  \n",
       "1            0.873695  \n",
       "2            0.873587  \n",
       "3            0.873474  \n",
       "4            0.873655  \n",
       "5            0.873695  \n",
       "6            0.873716  \n",
       "7            0.873690  \n",
       "8            0.873660  \n",
       "9            0.873871  \n",
       "10           0.874582  \n",
       "11           0.874613  \n",
       "12           0.874582  \n",
       "13           0.874608  \n",
       "14           0.874613  \n",
       "15           0.875866  \n",
       "16           0.875851  \n",
       "17           0.875763  \n",
       "18           0.875861  \n",
       "19           0.875861  \n",
       "20           0.864892  \n",
       "21           0.864892  \n",
       "22           0.864984  \n",
       "23           0.864887  \n",
       "24           0.864892  "
      ]
     },
     "execution_count": 135,
     "metadata": {},
     "output_type": "execute_result"
    }
   ],
   "source": [
    "pd.DataFrame(log_reg_cv_bal.cv_results_)[['mean_test_accuracy', 'mean_test_precision', 'mean_test_recall', 'mean_test_roc_auc']]"
   ]
  },
  {
   "cell_type": "markdown",
   "id": "e3cea94b",
   "metadata": {},
   "source": [
    " With this it is clearly evident that after balancing the classes the overall performance of the model is very much\n",
    " improved in terms of Precision, Recall and AUC\n",
    "\n",
    " The maximum number that can be obtained from logistic regression model after balancing the classes are:\n",
    " - Accuracy: 79%\n",
    " - Precision: 78% at 82% Recall\n",
    " - Recall: 82% at 78% Precision\n",
    " - ROC AUC: 88%"
   ]
  },
  {
   "cell_type": "code",
   "execution_count": 136,
   "id": "a6ee3914",
   "metadata": {},
   "outputs": [],
   "source": [
    "# Common function to evaluate the models\n",
    "from sklearn.metrics import confusion_matrix, accuracy_score, precision_score, recall_score, f1_score, roc_auc_score\n",
    "\n",
    "def evaluate_model(model, X_train, y_train, X_test, y_test):\n",
    "    y_train_pred = model.predict(X_train)\n",
    "    y_test_pred = model.predict(X_test)\n",
    "    \n",
    "    if hasattr(model, 'predict_proba'):\n",
    "        y_train_scores = model.predict_proba(X_train)[:, 1]\n",
    "        y_test_scores = model.predict_proba(X_test)[:, 1]\n",
    "    \n",
    "        print('Preformance on Train set:\\n')\n",
    "        print(f'Confusion Matrix:\\n {confusion_matrix(y_train, y_train_pred)}')\n",
    "        print(f'Accuracy: {accuracy_score(y_train, y_train_pred)}')\n",
    "        print(f'Precision: {precision_score(y_train, y_train_pred)}')\n",
    "        print(f'Recall: {recall_score(y_train, y_train_pred)}')\n",
    "        print(f'F1 Score: {f1_score(y_train, y_train_pred)}')\n",
    "        print(f'ROC AUC score: {roc_auc_score(y_train, y_train_scores)}')\n",
    "\n",
    "        print()\n",
    "        print('-'*50)\n",
    "        print()\n",
    "\n",
    "        print('Preformance on Test set:\\n')\n",
    "        print(f'Confusion Matrix:\\n {confusion_matrix(y_test, y_test_pred)}')\n",
    "        print(f'Accuracy: {accuracy_score(y_test, y_test_pred)}')\n",
    "        print(f'Precision: {precision_score(y_test, y_test_pred)}')\n",
    "        print(f'Recall: {recall_score(y_test, y_test_pred)}')\n",
    "        print(f'F1 Score: {f1_score(y_test, y_test_pred)}')\n",
    "        print(f'ROC AUC score: {roc_auc_score(y_test, y_test_scores)}')\n",
    "    \n",
    "    else:\n",
    "        print('Preformance on Train set:\\n')\n",
    "        print(f'Confusion Matrix:\\n {confusion_matrix(y_train, y_train_pred)}')\n",
    "        print(f'Accuracy: {accuracy_score(y_train, y_train_pred)}')\n",
    "        print(f'Precision: {precision_score(y_train, y_train_pred)}')\n",
    "        print(f'Recall: {recall_score(y_train, y_train_pred)}')\n",
    "        print(f'F1 Score: {f1_score(y_train, y_train_pred)}')\n",
    "\n",
    "        print()\n",
    "        print('-'*50)\n",
    "        print()\n",
    "\n",
    "        print('Preformance on Test set:\\n')\n",
    "        print(f'Confusion Matrix:\\n {confusion_matrix(y_test, y_test_pred)}')\n",
    "        print(f'Accuracy: {accuracy_score(y_test, y_test_pred)}')\n",
    "        print(f'Precision: {precision_score(y_test, y_test_pred)}')\n",
    "        print(f'Recall: {recall_score(y_test, y_test_pred)}')\n",
    "        print(f'F1 Score: {f1_score(y_test, y_test_pred)}')\n",
    "        "
   ]
  },
  {
   "cell_type": "code",
   "execution_count": 137,
   "id": "42b833c8",
   "metadata": {},
   "outputs": [],
   "source": [
    "def evaluate_model_with_threshold(model, X_train, y_train, X_test, y_test, threshold):\n",
    "    y_train_pred_proba = model.predict_proba(X_train)[:, 1]\n",
    "    y_test_pred_proba = model.predict_proba(X_test)[:, 1]\n",
    "    \n",
    "    y_train_pred = (y_train_pred_proba > threshold)\n",
    "    y_test_pred = (y_test_pred_proba > threshold)\n",
    "    \n",
    "    print('Preformance on Train set:\\n')\n",
    "    print(f'Confusion Matrix:\\n {confusion_matrix(y_train, y_train_pred)}')\n",
    "    print(f'Accuracy: {accuracy_score(y_train, y_train_pred)}')\n",
    "    print(f'Precision: {precision_score(y_train, y_train_pred)}')\n",
    "    print(f'Recall: {recall_score(y_train, y_train_pred)}')\n",
    "    print(f'F1 Score: {f1_score(y_train, y_train_pred)}')\n",
    "    print(f'ROC AUC score: {roc_auc_score(y_train, y_train_pred_proba)}')\n",
    "    \n",
    "    print()\n",
    "    print('-'*50)\n",
    "    print()\n",
    "    \n",
    "    print('Preformance on Test set:\\n')\n",
    "    print(f'Confusion Matrix:\\n {confusion_matrix(y_test, y_test_pred)}')\n",
    "    print(f'Accuracy: {accuracy_score(y_test, y_test_pred)}')\n",
    "    print(f'Precision: {precision_score(y_test, y_test_pred)}')\n",
    "    print(f'Recall: {recall_score(y_test, y_test_pred)}')\n",
    "    print(f'F1 Score: {f1_score(y_test, y_test_pred)}')\n",
    "    print(f'ROC AUC score: {roc_auc_score(y_test, y_test_pred_proba)}')"
   ]
  },
  {
   "cell_type": "code",
   "execution_count": 138,
   "id": "dccc7167",
   "metadata": {},
   "outputs": [
    {
     "name": "stdout",
     "output_type": "stream",
     "text": [
      "Preformance on Train set:\n",
      "\n",
      "Confusion Matrix:\n",
      " [[775 211]\n",
      " [171 815]]\n",
      "Accuracy: 0.8062880324543611\n",
      "Precision: 0.7943469785575049\n",
      "Recall: 0.8265720081135902\n",
      "F1 Score: 0.8101391650099403\n",
      "ROC AUC score: 0.8892383840295578\n",
      "\n",
      "--------------------------------------------------\n",
      "\n",
      "Preformance on Test set:\n",
      "\n",
      "Confusion Matrix:\n",
      " [[207  40]\n",
      " [ 12  35]]\n",
      "Accuracy: 0.8231292517006803\n",
      "Precision: 0.4666666666666667\n",
      "Recall: 0.7446808510638298\n",
      "F1 Score: 0.5737704918032787\n",
      "ROC AUC score: 0.8514945301059522\n"
     ]
    }
   ],
   "source": [
    "# Evaluating the above Logistic Regression model which is trained on the balanced dataset\n",
    "\n",
    "evaluate_model(model=log_reg_cv_bal.best_estimator_, \n",
    "               X_train=employees_prepared_bal, \n",
    "               y_train=employees_labels_bal, \n",
    "               X_test=employees_test_prepared, \n",
    "               y_test=employees_test_labels)"
   ]
  },
  {
   "cell_type": "markdown",
   "id": "dddcb478",
   "metadata": {},
   "source": [
    "The performance on the test set in terms of accuracy looks good but the precision and recall does not look as great as it did on the training set."
   ]
  },
  {
   "cell_type": "markdown",
   "id": "53d0b30a",
   "metadata": {},
   "source": [
    "## "
   ]
  },
  {
   "cell_type": "code",
   "execution_count": 139,
   "id": "3ad69520",
   "metadata": {},
   "outputs": [],
   "source": [
    "# We should now try some other advanced models"
   ]
  },
  {
   "cell_type": "markdown",
   "id": "75abdb9e",
   "metadata": {},
   "source": [
    "### 2a. SVM - Linear SVC"
   ]
  },
  {
   "cell_type": "code",
   "execution_count": 140,
   "id": "b2befdff",
   "metadata": {},
   "outputs": [],
   "source": [
    "# Now, Let's first train the Linear SVC\n",
    "\n",
    "from sklearn.svm import LinearSVC\n",
    "\n",
    "svm_clf = LinearSVC(C=1, loss='hinge', random_state=42)"
   ]
  },
  {
   "cell_type": "code",
   "execution_count": 141,
   "id": "fc2ba4f5",
   "metadata": {},
   "outputs": [
    {
     "data": {
      "text/plain": [
       "array([0.78498986, 0.80527383, 0.8336714 , 0.79716024])"
      ]
     },
     "execution_count": 141,
     "metadata": {},
     "output_type": "execute_result"
    }
   ],
   "source": [
    "cross_val_score(estimator=svm_clf, X=employees_prepared_bal, y=employees_labels_bal, cv=4, scoring='accuracy')"
   ]
  },
  {
   "cell_type": "code",
   "execution_count": 142,
   "id": "190a5173",
   "metadata": {},
   "outputs": [],
   "source": [
    "# All the accuracies are atleast above 75% and the best is around 84%"
   ]
  },
  {
   "cell_type": "code",
   "execution_count": 143,
   "id": "029ffbd1",
   "metadata": {},
   "outputs": [
    {
     "data": {
      "text/html": [
       "<style>#sk-container-id-10 {color: black;background-color: white;}#sk-container-id-10 pre{padding: 0;}#sk-container-id-10 div.sk-toggleable {background-color: white;}#sk-container-id-10 label.sk-toggleable__label {cursor: pointer;display: block;width: 100%;margin-bottom: 0;padding: 0.3em;box-sizing: border-box;text-align: center;}#sk-container-id-10 label.sk-toggleable__label-arrow:before {content: \"▸\";float: left;margin-right: 0.25em;color: #696969;}#sk-container-id-10 label.sk-toggleable__label-arrow:hover:before {color: black;}#sk-container-id-10 div.sk-estimator:hover label.sk-toggleable__label-arrow:before {color: black;}#sk-container-id-10 div.sk-toggleable__content {max-height: 0;max-width: 0;overflow: hidden;text-align: left;background-color: #f0f8ff;}#sk-container-id-10 div.sk-toggleable__content pre {margin: 0.2em;color: black;border-radius: 0.25em;background-color: #f0f8ff;}#sk-container-id-10 input.sk-toggleable__control:checked~div.sk-toggleable__content {max-height: 200px;max-width: 100%;overflow: auto;}#sk-container-id-10 input.sk-toggleable__control:checked~label.sk-toggleable__label-arrow:before {content: \"▾\";}#sk-container-id-10 div.sk-estimator input.sk-toggleable__control:checked~label.sk-toggleable__label {background-color: #d4ebff;}#sk-container-id-10 div.sk-label input.sk-toggleable__control:checked~label.sk-toggleable__label {background-color: #d4ebff;}#sk-container-id-10 input.sk-hidden--visually {border: 0;clip: rect(1px 1px 1px 1px);clip: rect(1px, 1px, 1px, 1px);height: 1px;margin: -1px;overflow: hidden;padding: 0;position: absolute;width: 1px;}#sk-container-id-10 div.sk-estimator {font-family: monospace;background-color: #f0f8ff;border: 1px dotted black;border-radius: 0.25em;box-sizing: border-box;margin-bottom: 0.5em;}#sk-container-id-10 div.sk-estimator:hover {background-color: #d4ebff;}#sk-container-id-10 div.sk-parallel-item::after {content: \"\";width: 100%;border-bottom: 1px solid gray;flex-grow: 1;}#sk-container-id-10 div.sk-label:hover label.sk-toggleable__label {background-color: #d4ebff;}#sk-container-id-10 div.sk-serial::before {content: \"\";position: absolute;border-left: 1px solid gray;box-sizing: border-box;top: 0;bottom: 0;left: 50%;z-index: 0;}#sk-container-id-10 div.sk-serial {display: flex;flex-direction: column;align-items: center;background-color: white;padding-right: 0.2em;padding-left: 0.2em;position: relative;}#sk-container-id-10 div.sk-item {position: relative;z-index: 1;}#sk-container-id-10 div.sk-parallel {display: flex;align-items: stretch;justify-content: center;background-color: white;position: relative;}#sk-container-id-10 div.sk-item::before, #sk-container-id-10 div.sk-parallel-item::before {content: \"\";position: absolute;border-left: 1px solid gray;box-sizing: border-box;top: 0;bottom: 0;left: 50%;z-index: -1;}#sk-container-id-10 div.sk-parallel-item {display: flex;flex-direction: column;z-index: 1;position: relative;background-color: white;}#sk-container-id-10 div.sk-parallel-item:first-child::after {align-self: flex-end;width: 50%;}#sk-container-id-10 div.sk-parallel-item:last-child::after {align-self: flex-start;width: 50%;}#sk-container-id-10 div.sk-parallel-item:only-child::after {width: 0;}#sk-container-id-10 div.sk-dashed-wrapped {border: 1px dashed gray;margin: 0 0.4em 0.5em 0.4em;box-sizing: border-box;padding-bottom: 0.4em;background-color: white;}#sk-container-id-10 div.sk-label label {font-family: monospace;font-weight: bold;display: inline-block;line-height: 1.2em;}#sk-container-id-10 div.sk-label-container {text-align: center;}#sk-container-id-10 div.sk-container {/* jupyter's `normalize.less` sets `[hidden] { display: none; }` but bootstrap.min.css set `[hidden] { display: none !important; }` so we also need the `!important` here to be able to override the default hidden behavior on the sphinx rendered scikit-learn.org. See: https://github.com/scikit-learn/scikit-learn/issues/21755 */display: inline-block !important;position: relative;}#sk-container-id-10 div.sk-text-repr-fallback {display: none;}</style><div id=\"sk-container-id-10\" class=\"sk-top-container\"><div class=\"sk-text-repr-fallback\"><pre>LinearSVC(C=1, loss=&#x27;hinge&#x27;, random_state=42)</pre><b>In a Jupyter environment, please rerun this cell to show the HTML representation or trust the notebook. <br />On GitHub, the HTML representation is unable to render, please try loading this page with nbviewer.org.</b></div><div class=\"sk-container\" hidden><div class=\"sk-item\"><div class=\"sk-estimator sk-toggleable\"><input class=\"sk-toggleable__control sk-hidden--visually\" id=\"sk-estimator-id-18\" type=\"checkbox\" checked><label for=\"sk-estimator-id-18\" class=\"sk-toggleable__label sk-toggleable__label-arrow\">LinearSVC</label><div class=\"sk-toggleable__content\"><pre>LinearSVC(C=1, loss=&#x27;hinge&#x27;, random_state=42)</pre></div></div></div></div></div>"
      ],
      "text/plain": [
       "LinearSVC(C=1, loss='hinge', random_state=42)"
      ]
     },
     "execution_count": 143,
     "metadata": {},
     "output_type": "execute_result"
    }
   ],
   "source": [
    "# Training\n",
    "\n",
    "svm_clf.fit(employees_prepared_bal, employees_labels_bal)"
   ]
  },
  {
   "cell_type": "code",
   "execution_count": 144,
   "id": "58fc121a",
   "metadata": {},
   "outputs": [
    {
     "name": "stdout",
     "output_type": "stream",
     "text": [
      "Preformance on Train set:\n",
      "\n",
      "Confusion Matrix:\n",
      " [[771 215]\n",
      " [140 846]]\n",
      "Accuracy: 0.8199797160243407\n",
      "Precision: 0.7973609802073516\n",
      "Recall: 0.8580121703853956\n",
      "F1 Score: 0.8265754763067905\n",
      "\n",
      "--------------------------------------------------\n",
      "\n",
      "Preformance on Test set:\n",
      "\n",
      "Confusion Matrix:\n",
      " [[202  45]\n",
      " [ 11  36]]\n",
      "Accuracy: 0.8095238095238095\n",
      "Precision: 0.4444444444444444\n",
      "Recall: 0.7659574468085106\n",
      "F1 Score: 0.5625\n"
     ]
    }
   ],
   "source": [
    "evaluate_model(model=svm_clf, \n",
    "               X_train=employees_prepared_bal, \n",
    "               y_train=employees_labels_bal, \n",
    "               X_test=employees_test_prepared, \n",
    "               y_test=employees_test_labels)"
   ]
  },
  {
   "cell_type": "code",
   "execution_count": 145,
   "id": "6d190073",
   "metadata": {},
   "outputs": [
    {
     "name": "stdout",
     "output_type": "stream",
     "text": [
      "Fitting 40 folds for each of 10 candidates, totalling 400 fits\n"
     ]
    },
    {
     "data": {
      "text/html": [
       "<style>#sk-container-id-11 {color: black;background-color: white;}#sk-container-id-11 pre{padding: 0;}#sk-container-id-11 div.sk-toggleable {background-color: white;}#sk-container-id-11 label.sk-toggleable__label {cursor: pointer;display: block;width: 100%;margin-bottom: 0;padding: 0.3em;box-sizing: border-box;text-align: center;}#sk-container-id-11 label.sk-toggleable__label-arrow:before {content: \"▸\";float: left;margin-right: 0.25em;color: #696969;}#sk-container-id-11 label.sk-toggleable__label-arrow:hover:before {color: black;}#sk-container-id-11 div.sk-estimator:hover label.sk-toggleable__label-arrow:before {color: black;}#sk-container-id-11 div.sk-toggleable__content {max-height: 0;max-width: 0;overflow: hidden;text-align: left;background-color: #f0f8ff;}#sk-container-id-11 div.sk-toggleable__content pre {margin: 0.2em;color: black;border-radius: 0.25em;background-color: #f0f8ff;}#sk-container-id-11 input.sk-toggleable__control:checked~div.sk-toggleable__content {max-height: 200px;max-width: 100%;overflow: auto;}#sk-container-id-11 input.sk-toggleable__control:checked~label.sk-toggleable__label-arrow:before {content: \"▾\";}#sk-container-id-11 div.sk-estimator input.sk-toggleable__control:checked~label.sk-toggleable__label {background-color: #d4ebff;}#sk-container-id-11 div.sk-label input.sk-toggleable__control:checked~label.sk-toggleable__label {background-color: #d4ebff;}#sk-container-id-11 input.sk-hidden--visually {border: 0;clip: rect(1px 1px 1px 1px);clip: rect(1px, 1px, 1px, 1px);height: 1px;margin: -1px;overflow: hidden;padding: 0;position: absolute;width: 1px;}#sk-container-id-11 div.sk-estimator {font-family: monospace;background-color: #f0f8ff;border: 1px dotted black;border-radius: 0.25em;box-sizing: border-box;margin-bottom: 0.5em;}#sk-container-id-11 div.sk-estimator:hover {background-color: #d4ebff;}#sk-container-id-11 div.sk-parallel-item::after {content: \"\";width: 100%;border-bottom: 1px solid gray;flex-grow: 1;}#sk-container-id-11 div.sk-label:hover label.sk-toggleable__label {background-color: #d4ebff;}#sk-container-id-11 div.sk-serial::before {content: \"\";position: absolute;border-left: 1px solid gray;box-sizing: border-box;top: 0;bottom: 0;left: 50%;z-index: 0;}#sk-container-id-11 div.sk-serial {display: flex;flex-direction: column;align-items: center;background-color: white;padding-right: 0.2em;padding-left: 0.2em;position: relative;}#sk-container-id-11 div.sk-item {position: relative;z-index: 1;}#sk-container-id-11 div.sk-parallel {display: flex;align-items: stretch;justify-content: center;background-color: white;position: relative;}#sk-container-id-11 div.sk-item::before, #sk-container-id-11 div.sk-parallel-item::before {content: \"\";position: absolute;border-left: 1px solid gray;box-sizing: border-box;top: 0;bottom: 0;left: 50%;z-index: -1;}#sk-container-id-11 div.sk-parallel-item {display: flex;flex-direction: column;z-index: 1;position: relative;background-color: white;}#sk-container-id-11 div.sk-parallel-item:first-child::after {align-self: flex-end;width: 50%;}#sk-container-id-11 div.sk-parallel-item:last-child::after {align-self: flex-start;width: 50%;}#sk-container-id-11 div.sk-parallel-item:only-child::after {width: 0;}#sk-container-id-11 div.sk-dashed-wrapped {border: 1px dashed gray;margin: 0 0.4em 0.5em 0.4em;box-sizing: border-box;padding-bottom: 0.4em;background-color: white;}#sk-container-id-11 div.sk-label label {font-family: monospace;font-weight: bold;display: inline-block;line-height: 1.2em;}#sk-container-id-11 div.sk-label-container {text-align: center;}#sk-container-id-11 div.sk-container {/* jupyter's `normalize.less` sets `[hidden] { display: none; }` but bootstrap.min.css set `[hidden] { display: none !important; }` so we also need the `!important` here to be able to override the default hidden behavior on the sphinx rendered scikit-learn.org. See: https://github.com/scikit-learn/scikit-learn/issues/21755 */display: inline-block !important;position: relative;}#sk-container-id-11 div.sk-text-repr-fallback {display: none;}</style><div id=\"sk-container-id-11\" class=\"sk-top-container\"><div class=\"sk-text-repr-fallback\"><pre>GridSearchCV(cv=RepeatedStratifiedKFold(n_repeats=10, n_splits=4, random_state=None),\n",
       "             estimator=LinearSVC(random_state=42), n_jobs=-1,\n",
       "             param_grid={&#x27;C&#x27;: [100, 10, 1.0, 0.1, 0.01],\n",
       "                         &#x27;loss&#x27;: [&#x27;hinge&#x27;, &#x27;squared_hinge&#x27;]},\n",
       "             refit=&#x27;accuracy&#x27;,\n",
       "             scoring=[&#x27;accuracy&#x27;, &#x27;precision&#x27;, &#x27;recall&#x27;, &#x27;roc_auc&#x27;],\n",
       "             verbose=True)</pre><b>In a Jupyter environment, please rerun this cell to show the HTML representation or trust the notebook. <br />On GitHub, the HTML representation is unable to render, please try loading this page with nbviewer.org.</b></div><div class=\"sk-container\" hidden><div class=\"sk-item sk-dashed-wrapped\"><div class=\"sk-label-container\"><div class=\"sk-label sk-toggleable\"><input class=\"sk-toggleable__control sk-hidden--visually\" id=\"sk-estimator-id-19\" type=\"checkbox\" ><label for=\"sk-estimator-id-19\" class=\"sk-toggleable__label sk-toggleable__label-arrow\">GridSearchCV</label><div class=\"sk-toggleable__content\"><pre>GridSearchCV(cv=RepeatedStratifiedKFold(n_repeats=10, n_splits=4, random_state=None),\n",
       "             estimator=LinearSVC(random_state=42), n_jobs=-1,\n",
       "             param_grid={&#x27;C&#x27;: [100, 10, 1.0, 0.1, 0.01],\n",
       "                         &#x27;loss&#x27;: [&#x27;hinge&#x27;, &#x27;squared_hinge&#x27;]},\n",
       "             refit=&#x27;accuracy&#x27;,\n",
       "             scoring=[&#x27;accuracy&#x27;, &#x27;precision&#x27;, &#x27;recall&#x27;, &#x27;roc_auc&#x27;],\n",
       "             verbose=True)</pre></div></div></div><div class=\"sk-parallel\"><div class=\"sk-parallel-item\"><div class=\"sk-item\"><div class=\"sk-label-container\"><div class=\"sk-label sk-toggleable\"><input class=\"sk-toggleable__control sk-hidden--visually\" id=\"sk-estimator-id-20\" type=\"checkbox\" ><label for=\"sk-estimator-id-20\" class=\"sk-toggleable__label sk-toggleable__label-arrow\">estimator: LinearSVC</label><div class=\"sk-toggleable__content\"><pre>LinearSVC(random_state=42)</pre></div></div></div><div class=\"sk-serial\"><div class=\"sk-item\"><div class=\"sk-estimator sk-toggleable\"><input class=\"sk-toggleable__control sk-hidden--visually\" id=\"sk-estimator-id-21\" type=\"checkbox\" ><label for=\"sk-estimator-id-21\" class=\"sk-toggleable__label sk-toggleable__label-arrow\">LinearSVC</label><div class=\"sk-toggleable__content\"><pre>LinearSVC(random_state=42)</pre></div></div></div></div></div></div></div></div></div></div>"
      ],
      "text/plain": [
       "GridSearchCV(cv=RepeatedStratifiedKFold(n_repeats=10, n_splits=4, random_state=None),\n",
       "             estimator=LinearSVC(random_state=42), n_jobs=-1,\n",
       "             param_grid={'C': [100, 10, 1.0, 0.1, 0.01],\n",
       "                         'loss': ['hinge', 'squared_hinge']},\n",
       "             refit='accuracy',\n",
       "             scoring=['accuracy', 'precision', 'recall', 'roc_auc'],\n",
       "             verbose=True)"
      ]
     },
     "execution_count": 145,
     "metadata": {},
     "output_type": "execute_result"
    }
   ],
   "source": [
    "# Let's try hyperparameter tuning\n",
    "\n",
    "from sklearn.model_selection import GridSearchCV, StratifiedKFold, RepeatedStratifiedKFold\n",
    "\n",
    "model_svm_lsvc = LinearSVC(random_state=42)\n",
    "\n",
    "param_grid = {\n",
    "    'loss': ['hinge', 'squared_hinge'],\n",
    "    'C': [100, 10, 1.0, 0.1, 0.01],\n",
    "}\n",
    "\n",
    "rskf = RepeatedStratifiedKFold(n_splits=4)\n",
    "\n",
    "svm_clf_cv = GridSearchCV(estimator=model_svm_lsvc, \n",
    "                          param_grid=param_grid, \n",
    "                          cv=rskf, \n",
    "                          scoring=['accuracy', 'precision', 'recall', 'roc_auc'],\n",
    "                          refit='accuracy',\n",
    "                          verbose=True,\n",
    "                          n_jobs=-1)\n",
    "\n",
    "svm_clf_cv.fit(employees_prepared_bal, employees_labels_bal)"
   ]
  },
  {
   "cell_type": "code",
   "execution_count": 146,
   "id": "15463af6",
   "metadata": {},
   "outputs": [
    {
     "data": {
      "text/html": [
       "<div>\n",
       "<style scoped>\n",
       "    .dataframe tbody tr th:only-of-type {\n",
       "        vertical-align: middle;\n",
       "    }\n",
       "\n",
       "    .dataframe tbody tr th {\n",
       "        vertical-align: top;\n",
       "    }\n",
       "\n",
       "    .dataframe thead th {\n",
       "        text-align: right;\n",
       "    }\n",
       "</style>\n",
       "<table border=\"1\" class=\"dataframe\">\n",
       "  <thead>\n",
       "    <tr style=\"text-align: right;\">\n",
       "      <th></th>\n",
       "      <th>mean_test_accuracy</th>\n",
       "      <th>mean_test_precision</th>\n",
       "      <th>mean_test_recall</th>\n",
       "      <th>mean_test_roc_auc</th>\n",
       "    </tr>\n",
       "  </thead>\n",
       "  <tbody>\n",
       "    <tr>\n",
       "      <th>0</th>\n",
       "      <td>0.707454</td>\n",
       "      <td>0.712886</td>\n",
       "      <td>0.704869</td>\n",
       "      <td>0.783254</td>\n",
       "    </tr>\n",
       "    <tr>\n",
       "      <th>1</th>\n",
       "      <td>0.708469</td>\n",
       "      <td>0.719133</td>\n",
       "      <td>0.705702</td>\n",
       "      <td>0.792388</td>\n",
       "    </tr>\n",
       "    <tr>\n",
       "      <th>2</th>\n",
       "      <td>0.802890</td>\n",
       "      <td>0.782574</td>\n",
       "      <td>0.839656</td>\n",
       "      <td>0.873541</td>\n",
       "    </tr>\n",
       "    <tr>\n",
       "      <th>3</th>\n",
       "      <td>0.793864</td>\n",
       "      <td>0.775514</td>\n",
       "      <td>0.828181</td>\n",
       "      <td>0.870322</td>\n",
       "    </tr>\n",
       "    <tr>\n",
       "      <th>4</th>\n",
       "      <td>0.804970</td>\n",
       "      <td>0.785782</td>\n",
       "      <td>0.839351</td>\n",
       "      <td>0.874884</td>\n",
       "    </tr>\n",
       "    <tr>\n",
       "      <th>5</th>\n",
       "      <td>0.792850</td>\n",
       "      <td>0.775625</td>\n",
       "      <td>0.824749</td>\n",
       "      <td>0.874166</td>\n",
       "    </tr>\n",
       "    <tr>\n",
       "      <th>6</th>\n",
       "      <td>0.803955</td>\n",
       "      <td>0.784930</td>\n",
       "      <td>0.837937</td>\n",
       "      <td>0.875922</td>\n",
       "    </tr>\n",
       "    <tr>\n",
       "      <th>7</th>\n",
       "      <td>0.792596</td>\n",
       "      <td>0.775383</td>\n",
       "      <td>0.824546</td>\n",
       "      <td>0.874800</td>\n",
       "    </tr>\n",
       "    <tr>\n",
       "      <th>8</th>\n",
       "      <td>0.793103</td>\n",
       "      <td>0.775267</td>\n",
       "      <td>0.826072</td>\n",
       "      <td>0.870202</td>\n",
       "    </tr>\n",
       "    <tr>\n",
       "      <th>9</th>\n",
       "      <td>0.793712</td>\n",
       "      <td>0.777601</td>\n",
       "      <td>0.823228</td>\n",
       "      <td>0.875766</td>\n",
       "    </tr>\n",
       "  </tbody>\n",
       "</table>\n",
       "</div>"
      ],
      "text/plain": [
       "   mean_test_accuracy  mean_test_precision  mean_test_recall  \\\n",
       "0            0.707454             0.712886          0.704869   \n",
       "1            0.708469             0.719133          0.705702   \n",
       "2            0.802890             0.782574          0.839656   \n",
       "3            0.793864             0.775514          0.828181   \n",
       "4            0.804970             0.785782          0.839351   \n",
       "5            0.792850             0.775625          0.824749   \n",
       "6            0.803955             0.784930          0.837937   \n",
       "7            0.792596             0.775383          0.824546   \n",
       "8            0.793103             0.775267          0.826072   \n",
       "9            0.793712             0.777601          0.823228   \n",
       "\n",
       "   mean_test_roc_auc  \n",
       "0           0.783254  \n",
       "1           0.792388  \n",
       "2           0.873541  \n",
       "3           0.870322  \n",
       "4           0.874884  \n",
       "5           0.874166  \n",
       "6           0.875922  \n",
       "7           0.874800  \n",
       "8           0.870202  \n",
       "9           0.875766  "
      ]
     },
     "execution_count": 146,
     "metadata": {},
     "output_type": "execute_result"
    }
   ],
   "source": [
    "pd.DataFrame(svm_clf_cv.cv_results_)[['mean_test_accuracy', 'mean_test_precision', 'mean_test_recall', 'mean_test_roc_auc']]"
   ]
  },
  {
   "cell_type": "code",
   "execution_count": 147,
   "id": "6cb70554",
   "metadata": {},
   "outputs": [],
   "source": [
    "# With LinearSVC the maximum accuracy that can be obtained is 80% with 83% Recall at 78% Precision and 88% AUC"
   ]
  },
  {
   "cell_type": "markdown",
   "id": "765b3b0a",
   "metadata": {},
   "source": [
    "## "
   ]
  },
  {
   "cell_type": "markdown",
   "id": "9a1a435c",
   "metadata": {},
   "source": [
    "### 2b. SVM - Polynomial Kernel"
   ]
  },
  {
   "cell_type": "code",
   "execution_count": 148,
   "id": "6ff809d2",
   "metadata": {},
   "outputs": [],
   "source": [
    "# Now, Let's try SVC with polynomial kernel\n",
    "\n",
    "from sklearn.svm import SVC\n",
    "\n",
    "svm_clf_poly = SVC(kernel='poly', degree=3, coef0=1, C=5, random_state=42)"
   ]
  },
  {
   "cell_type": "code",
   "execution_count": 149,
   "id": "b561134c",
   "metadata": {},
   "outputs": [
    {
     "data": {
      "text/plain": [
       "array([0.92494929, 0.93306288, 0.92697769, 0.92089249])"
      ]
     },
     "execution_count": 149,
     "metadata": {},
     "output_type": "execute_result"
    }
   ],
   "source": [
    "cross_val_score(estimator=svm_clf_poly, X=employees_prepared_bal, y=employees_labels_bal, cv=4, scoring='accuracy')"
   ]
  },
  {
   "cell_type": "code",
   "execution_count": 150,
   "id": "b8d0a904",
   "metadata": {},
   "outputs": [],
   "source": [
    "# Wow! With this model the accuracy is atleast above 92%"
   ]
  },
  {
   "cell_type": "code",
   "execution_count": 151,
   "id": "90894aca",
   "metadata": {},
   "outputs": [
    {
     "data": {
      "text/html": [
       "<style>#sk-container-id-12 {color: black;background-color: white;}#sk-container-id-12 pre{padding: 0;}#sk-container-id-12 div.sk-toggleable {background-color: white;}#sk-container-id-12 label.sk-toggleable__label {cursor: pointer;display: block;width: 100%;margin-bottom: 0;padding: 0.3em;box-sizing: border-box;text-align: center;}#sk-container-id-12 label.sk-toggleable__label-arrow:before {content: \"▸\";float: left;margin-right: 0.25em;color: #696969;}#sk-container-id-12 label.sk-toggleable__label-arrow:hover:before {color: black;}#sk-container-id-12 div.sk-estimator:hover label.sk-toggleable__label-arrow:before {color: black;}#sk-container-id-12 div.sk-toggleable__content {max-height: 0;max-width: 0;overflow: hidden;text-align: left;background-color: #f0f8ff;}#sk-container-id-12 div.sk-toggleable__content pre {margin: 0.2em;color: black;border-radius: 0.25em;background-color: #f0f8ff;}#sk-container-id-12 input.sk-toggleable__control:checked~div.sk-toggleable__content {max-height: 200px;max-width: 100%;overflow: auto;}#sk-container-id-12 input.sk-toggleable__control:checked~label.sk-toggleable__label-arrow:before {content: \"▾\";}#sk-container-id-12 div.sk-estimator input.sk-toggleable__control:checked~label.sk-toggleable__label {background-color: #d4ebff;}#sk-container-id-12 div.sk-label input.sk-toggleable__control:checked~label.sk-toggleable__label {background-color: #d4ebff;}#sk-container-id-12 input.sk-hidden--visually {border: 0;clip: rect(1px 1px 1px 1px);clip: rect(1px, 1px, 1px, 1px);height: 1px;margin: -1px;overflow: hidden;padding: 0;position: absolute;width: 1px;}#sk-container-id-12 div.sk-estimator {font-family: monospace;background-color: #f0f8ff;border: 1px dotted black;border-radius: 0.25em;box-sizing: border-box;margin-bottom: 0.5em;}#sk-container-id-12 div.sk-estimator:hover {background-color: #d4ebff;}#sk-container-id-12 div.sk-parallel-item::after {content: \"\";width: 100%;border-bottom: 1px solid gray;flex-grow: 1;}#sk-container-id-12 div.sk-label:hover label.sk-toggleable__label {background-color: #d4ebff;}#sk-container-id-12 div.sk-serial::before {content: \"\";position: absolute;border-left: 1px solid gray;box-sizing: border-box;top: 0;bottom: 0;left: 50%;z-index: 0;}#sk-container-id-12 div.sk-serial {display: flex;flex-direction: column;align-items: center;background-color: white;padding-right: 0.2em;padding-left: 0.2em;position: relative;}#sk-container-id-12 div.sk-item {position: relative;z-index: 1;}#sk-container-id-12 div.sk-parallel {display: flex;align-items: stretch;justify-content: center;background-color: white;position: relative;}#sk-container-id-12 div.sk-item::before, #sk-container-id-12 div.sk-parallel-item::before {content: \"\";position: absolute;border-left: 1px solid gray;box-sizing: border-box;top: 0;bottom: 0;left: 50%;z-index: -1;}#sk-container-id-12 div.sk-parallel-item {display: flex;flex-direction: column;z-index: 1;position: relative;background-color: white;}#sk-container-id-12 div.sk-parallel-item:first-child::after {align-self: flex-end;width: 50%;}#sk-container-id-12 div.sk-parallel-item:last-child::after {align-self: flex-start;width: 50%;}#sk-container-id-12 div.sk-parallel-item:only-child::after {width: 0;}#sk-container-id-12 div.sk-dashed-wrapped {border: 1px dashed gray;margin: 0 0.4em 0.5em 0.4em;box-sizing: border-box;padding-bottom: 0.4em;background-color: white;}#sk-container-id-12 div.sk-label label {font-family: monospace;font-weight: bold;display: inline-block;line-height: 1.2em;}#sk-container-id-12 div.sk-label-container {text-align: center;}#sk-container-id-12 div.sk-container {/* jupyter's `normalize.less` sets `[hidden] { display: none; }` but bootstrap.min.css set `[hidden] { display: none !important; }` so we also need the `!important` here to be able to override the default hidden behavior on the sphinx rendered scikit-learn.org. See: https://github.com/scikit-learn/scikit-learn/issues/21755 */display: inline-block !important;position: relative;}#sk-container-id-12 div.sk-text-repr-fallback {display: none;}</style><div id=\"sk-container-id-12\" class=\"sk-top-container\"><div class=\"sk-text-repr-fallback\"><pre>SVC(C=5, coef0=1, kernel=&#x27;poly&#x27;, random_state=42)</pre><b>In a Jupyter environment, please rerun this cell to show the HTML representation or trust the notebook. <br />On GitHub, the HTML representation is unable to render, please try loading this page with nbviewer.org.</b></div><div class=\"sk-container\" hidden><div class=\"sk-item\"><div class=\"sk-estimator sk-toggleable\"><input class=\"sk-toggleable__control sk-hidden--visually\" id=\"sk-estimator-id-22\" type=\"checkbox\" checked><label for=\"sk-estimator-id-22\" class=\"sk-toggleable__label sk-toggleable__label-arrow\">SVC</label><div class=\"sk-toggleable__content\"><pre>SVC(C=5, coef0=1, kernel=&#x27;poly&#x27;, random_state=42)</pre></div></div></div></div></div>"
      ],
      "text/plain": [
       "SVC(C=5, coef0=1, kernel='poly', random_state=42)"
      ]
     },
     "execution_count": 151,
     "metadata": {},
     "output_type": "execute_result"
    }
   ],
   "source": [
    "# Training\n",
    "\n",
    "svm_clf_poly.fit(employees_prepared_bal, employees_labels_bal)"
   ]
  },
  {
   "cell_type": "code",
   "execution_count": 152,
   "id": "67205f67",
   "metadata": {},
   "outputs": [
    {
     "name": "stdout",
     "output_type": "stream",
     "text": [
      "Preformance on Train set:\n",
      "\n",
      "Confusion Matrix:\n",
      " [[985   1]\n",
      " [  0 986]]\n",
      "Accuracy: 0.9994929006085193\n",
      "Precision: 0.9989868287740629\n",
      "Recall: 1.0\n",
      "F1 Score: 0.9994931576279777\n",
      "\n",
      "--------------------------------------------------\n",
      "\n",
      "Preformance on Test set:\n",
      "\n",
      "Confusion Matrix:\n",
      " [[228  19]\n",
      " [ 25  22]]\n",
      "Accuracy: 0.8503401360544217\n",
      "Precision: 0.5365853658536586\n",
      "Recall: 0.46808510638297873\n",
      "F1 Score: 0.5\n"
     ]
    }
   ],
   "source": [
    "evaluate_model(model=svm_clf_poly, \n",
    "               X_train=employees_prepared_bal, \n",
    "               y_train=employees_labels_bal, \n",
    "               X_test=employees_test_prepared, \n",
    "               y_test=employees_test_labels)"
   ]
  },
  {
   "cell_type": "code",
   "execution_count": 153,
   "id": "1dce0834",
   "metadata": {},
   "outputs": [],
   "source": [
    "# The model is overfitting. Precision and Recall are very low on test set and there is also a large difference b/w\n",
    "# train accuracy and test accuracy"
   ]
  },
  {
   "cell_type": "code",
   "execution_count": 154,
   "id": "2ffa7547",
   "metadata": {},
   "outputs": [
    {
     "name": "stdout",
     "output_type": "stream",
     "text": [
      "Fitting 4 folds for each of 75 candidates, totalling 300 fits\n"
     ]
    },
    {
     "data": {
      "text/html": [
       "<style>#sk-container-id-13 {color: black;background-color: white;}#sk-container-id-13 pre{padding: 0;}#sk-container-id-13 div.sk-toggleable {background-color: white;}#sk-container-id-13 label.sk-toggleable__label {cursor: pointer;display: block;width: 100%;margin-bottom: 0;padding: 0.3em;box-sizing: border-box;text-align: center;}#sk-container-id-13 label.sk-toggleable__label-arrow:before {content: \"▸\";float: left;margin-right: 0.25em;color: #696969;}#sk-container-id-13 label.sk-toggleable__label-arrow:hover:before {color: black;}#sk-container-id-13 div.sk-estimator:hover label.sk-toggleable__label-arrow:before {color: black;}#sk-container-id-13 div.sk-toggleable__content {max-height: 0;max-width: 0;overflow: hidden;text-align: left;background-color: #f0f8ff;}#sk-container-id-13 div.sk-toggleable__content pre {margin: 0.2em;color: black;border-radius: 0.25em;background-color: #f0f8ff;}#sk-container-id-13 input.sk-toggleable__control:checked~div.sk-toggleable__content {max-height: 200px;max-width: 100%;overflow: auto;}#sk-container-id-13 input.sk-toggleable__control:checked~label.sk-toggleable__label-arrow:before {content: \"▾\";}#sk-container-id-13 div.sk-estimator input.sk-toggleable__control:checked~label.sk-toggleable__label {background-color: #d4ebff;}#sk-container-id-13 div.sk-label input.sk-toggleable__control:checked~label.sk-toggleable__label {background-color: #d4ebff;}#sk-container-id-13 input.sk-hidden--visually {border: 0;clip: rect(1px 1px 1px 1px);clip: rect(1px, 1px, 1px, 1px);height: 1px;margin: -1px;overflow: hidden;padding: 0;position: absolute;width: 1px;}#sk-container-id-13 div.sk-estimator {font-family: monospace;background-color: #f0f8ff;border: 1px dotted black;border-radius: 0.25em;box-sizing: border-box;margin-bottom: 0.5em;}#sk-container-id-13 div.sk-estimator:hover {background-color: #d4ebff;}#sk-container-id-13 div.sk-parallel-item::after {content: \"\";width: 100%;border-bottom: 1px solid gray;flex-grow: 1;}#sk-container-id-13 div.sk-label:hover label.sk-toggleable__label {background-color: #d4ebff;}#sk-container-id-13 div.sk-serial::before {content: \"\";position: absolute;border-left: 1px solid gray;box-sizing: border-box;top: 0;bottom: 0;left: 50%;z-index: 0;}#sk-container-id-13 div.sk-serial {display: flex;flex-direction: column;align-items: center;background-color: white;padding-right: 0.2em;padding-left: 0.2em;position: relative;}#sk-container-id-13 div.sk-item {position: relative;z-index: 1;}#sk-container-id-13 div.sk-parallel {display: flex;align-items: stretch;justify-content: center;background-color: white;position: relative;}#sk-container-id-13 div.sk-item::before, #sk-container-id-13 div.sk-parallel-item::before {content: \"\";position: absolute;border-left: 1px solid gray;box-sizing: border-box;top: 0;bottom: 0;left: 50%;z-index: -1;}#sk-container-id-13 div.sk-parallel-item {display: flex;flex-direction: column;z-index: 1;position: relative;background-color: white;}#sk-container-id-13 div.sk-parallel-item:first-child::after {align-self: flex-end;width: 50%;}#sk-container-id-13 div.sk-parallel-item:last-child::after {align-self: flex-start;width: 50%;}#sk-container-id-13 div.sk-parallel-item:only-child::after {width: 0;}#sk-container-id-13 div.sk-dashed-wrapped {border: 1px dashed gray;margin: 0 0.4em 0.5em 0.4em;box-sizing: border-box;padding-bottom: 0.4em;background-color: white;}#sk-container-id-13 div.sk-label label {font-family: monospace;font-weight: bold;display: inline-block;line-height: 1.2em;}#sk-container-id-13 div.sk-label-container {text-align: center;}#sk-container-id-13 div.sk-container {/* jupyter's `normalize.less` sets `[hidden] { display: none; }` but bootstrap.min.css set `[hidden] { display: none !important; }` so we also need the `!important` here to be able to override the default hidden behavior on the sphinx rendered scikit-learn.org. See: https://github.com/scikit-learn/scikit-learn/issues/21755 */display: inline-block !important;position: relative;}#sk-container-id-13 div.sk-text-repr-fallback {display: none;}</style><div id=\"sk-container-id-13\" class=\"sk-top-container\"><div class=\"sk-text-repr-fallback\"><pre>GridSearchCV(cv=StratifiedKFold(n_splits=4, random_state=None, shuffle=False),\n",
       "             estimator=SVC(random_state=42), n_jobs=-1,\n",
       "             param_grid={&#x27;C&#x27;: [10, 1, 0.1, 0.01, 0.001],\n",
       "                         &#x27;coef0&#x27;: [0, 0.3, 0.5, 0.7, 1], &#x27;degree&#x27;: [1, 2, 3],\n",
       "                         &#x27;kernel&#x27;: [&#x27;poly&#x27;]},\n",
       "             refit=&#x27;accuracy&#x27;,\n",
       "             scoring=[&#x27;accuracy&#x27;, &#x27;precision&#x27;, &#x27;recall&#x27;, &#x27;roc_auc&#x27;], verbose=2)</pre><b>In a Jupyter environment, please rerun this cell to show the HTML representation or trust the notebook. <br />On GitHub, the HTML representation is unable to render, please try loading this page with nbviewer.org.</b></div><div class=\"sk-container\" hidden><div class=\"sk-item sk-dashed-wrapped\"><div class=\"sk-label-container\"><div class=\"sk-label sk-toggleable\"><input class=\"sk-toggleable__control sk-hidden--visually\" id=\"sk-estimator-id-23\" type=\"checkbox\" ><label for=\"sk-estimator-id-23\" class=\"sk-toggleable__label sk-toggleable__label-arrow\">GridSearchCV</label><div class=\"sk-toggleable__content\"><pre>GridSearchCV(cv=StratifiedKFold(n_splits=4, random_state=None, shuffle=False),\n",
       "             estimator=SVC(random_state=42), n_jobs=-1,\n",
       "             param_grid={&#x27;C&#x27;: [10, 1, 0.1, 0.01, 0.001],\n",
       "                         &#x27;coef0&#x27;: [0, 0.3, 0.5, 0.7, 1], &#x27;degree&#x27;: [1, 2, 3],\n",
       "                         &#x27;kernel&#x27;: [&#x27;poly&#x27;]},\n",
       "             refit=&#x27;accuracy&#x27;,\n",
       "             scoring=[&#x27;accuracy&#x27;, &#x27;precision&#x27;, &#x27;recall&#x27;, &#x27;roc_auc&#x27;], verbose=2)</pre></div></div></div><div class=\"sk-parallel\"><div class=\"sk-parallel-item\"><div class=\"sk-item\"><div class=\"sk-label-container\"><div class=\"sk-label sk-toggleable\"><input class=\"sk-toggleable__control sk-hidden--visually\" id=\"sk-estimator-id-24\" type=\"checkbox\" ><label for=\"sk-estimator-id-24\" class=\"sk-toggleable__label sk-toggleable__label-arrow\">estimator: SVC</label><div class=\"sk-toggleable__content\"><pre>SVC(random_state=42)</pre></div></div></div><div class=\"sk-serial\"><div class=\"sk-item\"><div class=\"sk-estimator sk-toggleable\"><input class=\"sk-toggleable__control sk-hidden--visually\" id=\"sk-estimator-id-25\" type=\"checkbox\" ><label for=\"sk-estimator-id-25\" class=\"sk-toggleable__label sk-toggleable__label-arrow\">SVC</label><div class=\"sk-toggleable__content\"><pre>SVC(random_state=42)</pre></div></div></div></div></div></div></div></div></div></div>"
      ],
      "text/plain": [
       "GridSearchCV(cv=StratifiedKFold(n_splits=4, random_state=None, shuffle=False),\n",
       "             estimator=SVC(random_state=42), n_jobs=-1,\n",
       "             param_grid={'C': [10, 1, 0.1, 0.01, 0.001],\n",
       "                         'coef0': [0, 0.3, 0.5, 0.7, 1], 'degree': [1, 2, 3],\n",
       "                         'kernel': ['poly']},\n",
       "             refit='accuracy',\n",
       "             scoring=['accuracy', 'precision', 'recall', 'roc_auc'], verbose=2)"
      ]
     },
     "execution_count": 154,
     "metadata": {},
     "output_type": "execute_result"
    }
   ],
   "source": [
    "# Let's try hyperparameter tuning\n",
    "\n",
    "from sklearn.model_selection import GridSearchCV, StratifiedKFold\n",
    "\n",
    "model_svc_poly = SVC(random_state=42)\n",
    "\n",
    "param_grid = {\n",
    "    'C': [10, 1, 0.1, 0.01, 0.001],\n",
    "    'kernel': ['poly'],\n",
    "    'degree': [1, 2, 3],\n",
    "    'coef0': [0, 0.3, 0.5, 0.7, 1],\n",
    "}\n",
    "\n",
    "skf = StratifiedKFold(n_splits=4)\n",
    "\n",
    "svc_poly_cv = GridSearchCV(estimator=model_svc_poly, \n",
    "                            param_grid=param_grid, \n",
    "                            cv=skf, \n",
    "                            scoring=['accuracy', 'precision', 'recall', 'roc_auc'],\n",
    "                            refit='accuracy',\n",
    "                            verbose=2,\n",
    "                            n_jobs=-1)\n",
    "\n",
    "svc_poly_cv.fit(employees_prepared_bal, employees_labels_bal)"
   ]
  },
  {
   "cell_type": "code",
   "execution_count": 155,
   "id": "7009172b",
   "metadata": {},
   "outputs": [
    {
     "data": {
      "text/plain": [
       "{'C': 10, 'coef0': 0, 'degree': 3, 'kernel': 'poly'}"
      ]
     },
     "execution_count": 155,
     "metadata": {},
     "output_type": "execute_result"
    }
   ],
   "source": [
    "svc_poly_cv.best_params_"
   ]
  },
  {
   "cell_type": "code",
   "execution_count": 156,
   "id": "251e9b97",
   "metadata": {},
   "outputs": [
    {
     "data": {
      "text/plain": [
       "0.9406693711967545"
      ]
     },
     "execution_count": 156,
     "metadata": {},
     "output_type": "execute_result"
    }
   ],
   "source": [
    "svc_poly_cv.best_score_"
   ]
  },
  {
   "cell_type": "code",
   "execution_count": 292,
   "id": "e6366ea1",
   "metadata": {},
   "outputs": [
    {
     "data": {
      "text/html": [
       "<div>\n",
       "<style scoped>\n",
       "    .dataframe tbody tr th:only-of-type {\n",
       "        vertical-align: middle;\n",
       "    }\n",
       "\n",
       "    .dataframe tbody tr th {\n",
       "        vertical-align: top;\n",
       "    }\n",
       "\n",
       "    .dataframe thead th {\n",
       "        text-align: right;\n",
       "    }\n",
       "</style>\n",
       "<table border=\"1\" class=\"dataframe\">\n",
       "  <thead>\n",
       "    <tr style=\"text-align: right;\">\n",
       "      <th></th>\n",
       "      <th>mean_test_accuracy</th>\n",
       "      <th>mean_test_precision</th>\n",
       "      <th>mean_test_recall</th>\n",
       "      <th>mean_test_roc_auc</th>\n",
       "    </tr>\n",
       "  </thead>\n",
       "  <tbody>\n",
       "    <tr>\n",
       "      <th>2</th>\n",
       "      <td>0.940669</td>\n",
       "      <td>0.899772</td>\n",
       "      <td>0.991874</td>\n",
       "      <td>0.980049</td>\n",
       "    </tr>\n",
       "    <tr>\n",
       "      <th>17</th>\n",
       "      <td>0.935598</td>\n",
       "      <td>0.904097</td>\n",
       "      <td>0.974614</td>\n",
       "      <td>0.976535</td>\n",
       "    </tr>\n",
       "    <tr>\n",
       "      <th>5</th>\n",
       "      <td>0.932556</td>\n",
       "      <td>0.888351</td>\n",
       "      <td>0.989837</td>\n",
       "      <td>0.980020</td>\n",
       "    </tr>\n",
       "    <tr>\n",
       "      <th>8</th>\n",
       "      <td>0.928499</td>\n",
       "      <td>0.881880</td>\n",
       "      <td>0.989837</td>\n",
       "      <td>0.976840</td>\n",
       "    </tr>\n",
       "    <tr>\n",
       "      <th>11</th>\n",
       "      <td>0.926978</td>\n",
       "      <td>0.879454</td>\n",
       "      <td>0.989837</td>\n",
       "      <td>0.974544</td>\n",
       "    </tr>\n",
       "  </tbody>\n",
       "</table>\n",
       "</div>"
      ],
      "text/plain": [
       "    mean_test_accuracy  mean_test_precision  mean_test_recall  \\\n",
       "2             0.940669             0.899772          0.991874   \n",
       "17            0.935598             0.904097          0.974614   \n",
       "5             0.932556             0.888351          0.989837   \n",
       "8             0.928499             0.881880          0.989837   \n",
       "11            0.926978             0.879454          0.989837   \n",
       "\n",
       "    mean_test_roc_auc  \n",
       "2            0.980049  \n",
       "17           0.976535  \n",
       "5            0.980020  \n",
       "8            0.976840  \n",
       "11           0.974544  "
      ]
     },
     "execution_count": 292,
     "metadata": {},
     "output_type": "execute_result"
    }
   ],
   "source": [
    "pd.DataFrame(svc_poly_cv.cv_results_)[['mean_test_accuracy', 'mean_test_precision', 'mean_test_recall', 'mean_test_roc_auc']].sort_values(by='mean_test_accuracy', ascending=False).head()"
   ]
  },
  {
   "cell_type": "code",
   "execution_count": 158,
   "id": "6b769a99",
   "metadata": {},
   "outputs": [
    {
     "name": "stdout",
     "output_type": "stream",
     "text": [
      "Preformance on Train set:\n",
      "\n",
      "Confusion Matrix:\n",
      " [[986   0]\n",
      " [  0 986]]\n",
      "Accuracy: 1.0\n",
      "Precision: 1.0\n",
      "Recall: 1.0\n",
      "F1 Score: 1.0\n",
      "\n",
      "--------------------------------------------------\n",
      "\n",
      "Preformance on Test set:\n",
      "\n",
      "Confusion Matrix:\n",
      " [[228  19]\n",
      " [ 26  21]]\n",
      "Accuracy: 0.8469387755102041\n",
      "Precision: 0.525\n",
      "Recall: 0.44680851063829785\n",
      "F1 Score: 0.48275862068965514\n"
     ]
    }
   ],
   "source": [
    "# Let's evaluate this model and look at it's performance\n",
    "\n",
    "evaluate_model(model=svc_poly_cv.best_estimator_, \n",
    "               X_train=employees_prepared_bal, \n",
    "               y_train=employees_labels_bal, \n",
    "               X_test=employees_test_prepared, \n",
    "               y_test=employees_test_labels)"
   ]
  },
  {
   "cell_type": "code",
   "execution_count": 159,
   "id": "0025f858",
   "metadata": {},
   "outputs": [],
   "source": [
    "# Even after hyperparameter tuning, the model is highly overfitting and the precision and recall are very low on test set"
   ]
  },
  {
   "cell_type": "code",
   "execution_count": 160,
   "id": "d7bb9139",
   "metadata": {},
   "outputs": [
    {
     "name": "stdout",
     "output_type": "stream",
     "text": [
      "Preformance on Train set:\n",
      "\n",
      "Confusion Matrix:\n",
      " [[946  40]\n",
      " [  6 980]]\n",
      "Accuracy: 0.9766734279918864\n",
      "Precision: 0.9607843137254902\n",
      "Recall: 0.9939148073022313\n",
      "F1 Score: 0.9770687936191427\n",
      "\n",
      "--------------------------------------------------\n",
      "\n",
      "Preformance on Test set:\n",
      "\n",
      "Confusion Matrix:\n",
      " [[226  21]\n",
      " [ 22  25]]\n",
      "Accuracy: 0.8537414965986394\n",
      "Precision: 0.5434782608695652\n",
      "Recall: 0.5319148936170213\n",
      "F1 Score: 0.5376344086021505\n"
     ]
    }
   ],
   "source": [
    "svm_clf_poly_trial = SVC(kernel='poly', degree=3, coef0=1, C=0.5)\n",
    "\n",
    "svm_clf_poly_trial.fit(employees_prepared_bal, employees_labels_bal)\n",
    "\n",
    "evaluate_model(model=svm_clf_poly_trial, \n",
    "               X_train=employees_prepared_bal, \n",
    "               y_train=employees_labels_bal, \n",
    "               X_test=employees_test_prepared, \n",
    "               y_test=employees_test_labels)"
   ]
  },
  {
   "cell_type": "markdown",
   "id": "1e1b6bd5",
   "metadata": {},
   "source": [
    "## "
   ]
  },
  {
   "cell_type": "markdown",
   "id": "ab27f647",
   "metadata": {},
   "source": [
    "### 2c. SVM - Gaussian RBF Kernel"
   ]
  },
  {
   "cell_type": "code",
   "execution_count": 161,
   "id": "ead7fd0a",
   "metadata": {},
   "outputs": [],
   "source": [
    "from sklearn.svm import SVC\n",
    "\n",
    "svm_clf_rbf = SVC(kernel='rbf', probability=True, random_state=42)"
   ]
  },
  {
   "cell_type": "code",
   "execution_count": 162,
   "id": "7172328a",
   "metadata": {},
   "outputs": [
    {
     "data": {
      "text/plain": [
       "array([0.89655172, 0.9188641 , 0.93509128, 0.90263692])"
      ]
     },
     "execution_count": 162,
     "metadata": {},
     "output_type": "execute_result"
    }
   ],
   "source": [
    "cross_val_score(estimator=svm_clf_rbf, X=employees_prepared_bal, y=employees_labels_bal, cv=4, scoring='accuracy')"
   ]
  },
  {
   "cell_type": "code",
   "execution_count": 163,
   "id": "f16f3a04",
   "metadata": {},
   "outputs": [
    {
     "data": {
      "text/html": [
       "<style>#sk-container-id-14 {color: black;background-color: white;}#sk-container-id-14 pre{padding: 0;}#sk-container-id-14 div.sk-toggleable {background-color: white;}#sk-container-id-14 label.sk-toggleable__label {cursor: pointer;display: block;width: 100%;margin-bottom: 0;padding: 0.3em;box-sizing: border-box;text-align: center;}#sk-container-id-14 label.sk-toggleable__label-arrow:before {content: \"▸\";float: left;margin-right: 0.25em;color: #696969;}#sk-container-id-14 label.sk-toggleable__label-arrow:hover:before {color: black;}#sk-container-id-14 div.sk-estimator:hover label.sk-toggleable__label-arrow:before {color: black;}#sk-container-id-14 div.sk-toggleable__content {max-height: 0;max-width: 0;overflow: hidden;text-align: left;background-color: #f0f8ff;}#sk-container-id-14 div.sk-toggleable__content pre {margin: 0.2em;color: black;border-radius: 0.25em;background-color: #f0f8ff;}#sk-container-id-14 input.sk-toggleable__control:checked~div.sk-toggleable__content {max-height: 200px;max-width: 100%;overflow: auto;}#sk-container-id-14 input.sk-toggleable__control:checked~label.sk-toggleable__label-arrow:before {content: \"▾\";}#sk-container-id-14 div.sk-estimator input.sk-toggleable__control:checked~label.sk-toggleable__label {background-color: #d4ebff;}#sk-container-id-14 div.sk-label input.sk-toggleable__control:checked~label.sk-toggleable__label {background-color: #d4ebff;}#sk-container-id-14 input.sk-hidden--visually {border: 0;clip: rect(1px 1px 1px 1px);clip: rect(1px, 1px, 1px, 1px);height: 1px;margin: -1px;overflow: hidden;padding: 0;position: absolute;width: 1px;}#sk-container-id-14 div.sk-estimator {font-family: monospace;background-color: #f0f8ff;border: 1px dotted black;border-radius: 0.25em;box-sizing: border-box;margin-bottom: 0.5em;}#sk-container-id-14 div.sk-estimator:hover {background-color: #d4ebff;}#sk-container-id-14 div.sk-parallel-item::after {content: \"\";width: 100%;border-bottom: 1px solid gray;flex-grow: 1;}#sk-container-id-14 div.sk-label:hover label.sk-toggleable__label {background-color: #d4ebff;}#sk-container-id-14 div.sk-serial::before {content: \"\";position: absolute;border-left: 1px solid gray;box-sizing: border-box;top: 0;bottom: 0;left: 50%;z-index: 0;}#sk-container-id-14 div.sk-serial {display: flex;flex-direction: column;align-items: center;background-color: white;padding-right: 0.2em;padding-left: 0.2em;position: relative;}#sk-container-id-14 div.sk-item {position: relative;z-index: 1;}#sk-container-id-14 div.sk-parallel {display: flex;align-items: stretch;justify-content: center;background-color: white;position: relative;}#sk-container-id-14 div.sk-item::before, #sk-container-id-14 div.sk-parallel-item::before {content: \"\";position: absolute;border-left: 1px solid gray;box-sizing: border-box;top: 0;bottom: 0;left: 50%;z-index: -1;}#sk-container-id-14 div.sk-parallel-item {display: flex;flex-direction: column;z-index: 1;position: relative;background-color: white;}#sk-container-id-14 div.sk-parallel-item:first-child::after {align-self: flex-end;width: 50%;}#sk-container-id-14 div.sk-parallel-item:last-child::after {align-self: flex-start;width: 50%;}#sk-container-id-14 div.sk-parallel-item:only-child::after {width: 0;}#sk-container-id-14 div.sk-dashed-wrapped {border: 1px dashed gray;margin: 0 0.4em 0.5em 0.4em;box-sizing: border-box;padding-bottom: 0.4em;background-color: white;}#sk-container-id-14 div.sk-label label {font-family: monospace;font-weight: bold;display: inline-block;line-height: 1.2em;}#sk-container-id-14 div.sk-label-container {text-align: center;}#sk-container-id-14 div.sk-container {/* jupyter's `normalize.less` sets `[hidden] { display: none; }` but bootstrap.min.css set `[hidden] { display: none !important; }` so we also need the `!important` here to be able to override the default hidden behavior on the sphinx rendered scikit-learn.org. See: https://github.com/scikit-learn/scikit-learn/issues/21755 */display: inline-block !important;position: relative;}#sk-container-id-14 div.sk-text-repr-fallback {display: none;}</style><div id=\"sk-container-id-14\" class=\"sk-top-container\"><div class=\"sk-text-repr-fallback\"><pre>SVC(probability=True, random_state=42)</pre><b>In a Jupyter environment, please rerun this cell to show the HTML representation or trust the notebook. <br />On GitHub, the HTML representation is unable to render, please try loading this page with nbviewer.org.</b></div><div class=\"sk-container\" hidden><div class=\"sk-item\"><div class=\"sk-estimator sk-toggleable\"><input class=\"sk-toggleable__control sk-hidden--visually\" id=\"sk-estimator-id-26\" type=\"checkbox\" checked><label for=\"sk-estimator-id-26\" class=\"sk-toggleable__label sk-toggleable__label-arrow\">SVC</label><div class=\"sk-toggleable__content\"><pre>SVC(probability=True, random_state=42)</pre></div></div></div></div></div>"
      ],
      "text/plain": [
       "SVC(probability=True, random_state=42)"
      ]
     },
     "execution_count": 163,
     "metadata": {},
     "output_type": "execute_result"
    }
   ],
   "source": [
    "# Training\n",
    "\n",
    "svm_clf_rbf.fit(employees_prepared_bal, employees_labels_bal)"
   ]
  },
  {
   "cell_type": "code",
   "execution_count": 164,
   "id": "4bc38e9d",
   "metadata": {},
   "outputs": [
    {
     "name": "stdout",
     "output_type": "stream",
     "text": [
      "Preformance on Train set:\n",
      "\n",
      "Confusion Matrix:\n",
      " [[943  43]\n",
      " [ 17 969]]\n",
      "Accuracy: 0.9695740365111561\n",
      "Precision: 0.9575098814229249\n",
      "Recall: 0.9827586206896551\n",
      "F1 Score: 0.96996996996997\n",
      "ROC AUC score: 0.9955996527449197\n",
      "\n",
      "--------------------------------------------------\n",
      "\n",
      "Preformance on Test set:\n",
      "\n",
      "Confusion Matrix:\n",
      " [[235  12]\n",
      " [ 23  24]]\n",
      "Accuracy: 0.8809523809523809\n",
      "Precision: 0.6666666666666666\n",
      "Recall: 0.5106382978723404\n",
      "F1 Score: 0.5783132530120482\n",
      "ROC AUC score: 0.807390817469205\n"
     ]
    }
   ],
   "source": [
    "evaluate_model(model=svm_clf_rbf, \n",
    "               X_train=employees_prepared_bal, \n",
    "               y_train=employees_labels_bal, \n",
    "               X_test=employees_test_prepared, \n",
    "               y_test=employees_test_labels)"
   ]
  },
  {
   "cell_type": "code",
   "execution_count": 165,
   "id": "c32b1dce",
   "metadata": {},
   "outputs": [],
   "source": [
    "# Even the RBF kernel is not giving great results in terms of test precision and recall"
   ]
  },
  {
   "cell_type": "code",
   "execution_count": 166,
   "id": "3028833a",
   "metadata": {},
   "outputs": [],
   "source": [
    "y_scores_svm_rbf = svm_clf_rbf.predict_proba(employees_prepared_bal)[:, 1]"
   ]
  },
  {
   "cell_type": "code",
   "execution_count": 167,
   "id": "3e450961",
   "metadata": {},
   "outputs": [
    {
     "data": {
      "image/png": "[encoded data removed]",
      "text/plain": [
       "<Figure size 800x400 with 1 Axes>"
      ]
     },
     "metadata": {},
     "output_type": "display_data"
    }
   ],
   "source": [
    "# Let's look at the precision recall vs thresholds curve to see if we can improve the f1 score\n",
    "\n",
    "precisions_svm_rbf, recalls_svm_rbf, thresholds_svm_rbf = precision_recall_curve(y_true=employees_labels_bal, probas_pred=y_scores_svm_rbf)\n",
    "\n",
    "plt.figure(figsize=(8,4))\n",
    "plot_precision_recall_vs_thresholds(precisions_svm_rbf, recalls_svm_rbf, thresholds_svm_rbf)\n",
    "plt.show()"
   ]
  },
  {
   "cell_type": "code",
   "execution_count": 168,
   "id": "67278ac9",
   "metadata": {},
   "outputs": [
    {
     "data": {
      "text/plain": [
       "array([0.00925498, 0.01506478, 0.01839208, ..., 0.96080339, 0.96079215,\n",
       "       0.99998828])"
      ]
     },
     "execution_count": 168,
     "metadata": {},
     "output_type": "execute_result"
    }
   ],
   "source": [
    "y_scores_svm_rbf"
   ]
  },
  {
   "cell_type": "code",
   "execution_count": 169,
   "id": "e64466e1",
   "metadata": {},
   "outputs": [
    {
     "data": {
      "text/plain": [
       "array([False, False, False, ...,  True,  True,  True])"
      ]
     },
     "execution_count": 169,
     "metadata": {},
     "output_type": "execute_result"
    }
   ],
   "source": [
    "# Setting the threshold to 0.6\n",
    "\n",
    "threshold_svm_rbf = 0.6\n",
    "\n",
    "y_train_pred_svm_rbf = (y_scores_svm_rbf > threshold_svm_rbf)\n",
    "\n",
    "y_train_pred_svm_rbf"
   ]
  },
  {
   "cell_type": "code",
   "execution_count": 170,
   "id": "90e9758b",
   "metadata": {},
   "outputs": [
    {
     "name": "stdout",
     "output_type": "stream",
     "text": [
      "Preformance on Train set:\n",
      "\n",
      "Confusion Matrix:\n",
      " [[964  22]\n",
      " [ 32 954]]\n",
      "Accuracy: 0.9726166328600405\n",
      "Precision: 0.9774590163934426\n",
      "Recall: 0.9675456389452333\n",
      "F1 Score: 0.9724770642201835\n",
      "ROC AUC score: 0.9955996527449197\n",
      "\n",
      "--------------------------------------------------\n",
      "\n",
      "Preformance on Test set:\n",
      "\n",
      "Confusion Matrix:\n",
      " [[242   5]\n",
      " [ 28  19]]\n",
      "Accuracy: 0.8877551020408163\n",
      "Precision: 0.7916666666666666\n",
      "Recall: 0.40425531914893614\n",
      "F1 Score: 0.5352112676056338\n",
      "ROC AUC score: 0.807390817469205\n"
     ]
    }
   ],
   "source": [
    "# Let's evaluate the performance after changing the threshold\n",
    "\n",
    "evaluate_model_with_threshold(model=svm_clf_rbf, \n",
    "                              X_train=employees_prepared_bal, \n",
    "                              y_train=employees_labels_bal, \n",
    "                              X_test=employees_test_prepared, \n",
    "                              y_test=employees_test_labels,\n",
    "                              threshold=0.6)"
   ]
  },
  {
   "cell_type": "markdown",
   "id": "63d9932d",
   "metadata": {},
   "source": [
    "### CHECKPOINT"
   ]
  },
  {
   "cell_type": "code",
   "execution_count": 171,
   "id": "3c81cf85",
   "metadata": {},
   "outputs": [],
   "source": [
    "# Even after changing the threshold, Accuracy and Precision has improved but still the Recall is very low."
   ]
  },
  {
   "cell_type": "markdown",
   "id": "3241a710",
   "metadata": {},
   "source": [
    "## "
   ]
  },
  {
   "cell_type": "code",
   "execution_count": 172,
   "id": "1e1dbd96",
   "metadata": {},
   "outputs": [],
   "source": [
    "# Now we have to try some other models"
   ]
  },
  {
   "cell_type": "code",
   "execution_count": 173,
   "id": "e2c69c7c",
   "metadata": {},
   "outputs": [
    {
     "data": {
      "text/plain": [
       "array(['scaling__Age', 'scaling__DailyRate', 'scaling__DistanceFromHome',\n",
       "       'scaling__Education', 'scaling__EnvironmentSatisfaction',\n",
       "       'scaling__HourlyRate', 'scaling__JobInvolvement',\n",
       "       'scaling__JobLevel', 'scaling__JobSatisfaction',\n",
       "       'scaling__MonthlyIncome', 'scaling__MonthlyRate',\n",
       "       'scaling__NumCompaniesWorked', 'scaling__PercentSalaryHike',\n",
       "       'scaling__PerformanceRating', 'scaling__RelationshipSatisfaction',\n",
       "       'scaling__StockOptionLevel', 'scaling__TotalWorkingYears',\n",
       "       'scaling__TrainingTimesLastYear', 'scaling__WorkLifeBalance',\n",
       "       'scaling__YearsAtCompany', 'scaling__YearsInCurrentRole',\n",
       "       'scaling__YearsSinceLastPromotion',\n",
       "       'scaling__YearsWithCurrManager',\n",
       "       'one_hot_encoding__BusinessTravel_Non-Travel',\n",
       "       'one_hot_encoding__BusinessTravel_Travel_Frequently',\n",
       "       'one_hot_encoding__BusinessTravel_Travel_Rarely',\n",
       "       'one_hot_encoding__Department_Human Resources',\n",
       "       'one_hot_encoding__Department_Research & Development',\n",
       "       'one_hot_encoding__Department_Sales',\n",
       "       'one_hot_encoding__EducationField_Human Resources',\n",
       "       'one_hot_encoding__EducationField_Life Sciences',\n",
       "       'one_hot_encoding__EducationField_Marketing',\n",
       "       'one_hot_encoding__EducationField_Medical',\n",
       "       'one_hot_encoding__EducationField_Other',\n",
       "       'one_hot_encoding__EducationField_Technical Degree',\n",
       "       'one_hot_encoding__Gender_Female', 'one_hot_encoding__Gender_Male',\n",
       "       'one_hot_encoding__JobRole_Healthcare Representative',\n",
       "       'one_hot_encoding__JobRole_Human Resources',\n",
       "       'one_hot_encoding__JobRole_Laboratory Technician',\n",
       "       'one_hot_encoding__JobRole_Manager',\n",
       "       'one_hot_encoding__JobRole_Manufacturing Director',\n",
       "       'one_hot_encoding__JobRole_Research Director',\n",
       "       'one_hot_encoding__JobRole_Research Scientist',\n",
       "       'one_hot_encoding__JobRole_Sales Executive',\n",
       "       'one_hot_encoding__JobRole_Sales Representative',\n",
       "       'one_hot_encoding__MaritalStatus_Divorced',\n",
       "       'one_hot_encoding__MaritalStatus_Married',\n",
       "       'one_hot_encoding__MaritalStatus_Single',\n",
       "       'one_hot_encoding__OverTime_No', 'one_hot_encoding__OverTime_Yes'],\n",
       "      dtype=object)"
      ]
     },
     "execution_count": 173,
     "metadata": {},
     "output_type": "execute_result"
    }
   ],
   "source": [
    "# Getting the feature names from the pipeline\n",
    "\n",
    "full_pipeline[:-1].get_feature_names_out()"
   ]
  },
  {
   "cell_type": "markdown",
   "id": "0c7fad26",
   "metadata": {},
   "source": [
    "### 3. Decision Tree"
   ]
  },
  {
   "cell_type": "code",
   "execution_count": 174,
   "id": "d2f6bd79",
   "metadata": {},
   "outputs": [],
   "source": [
    "# Now let's train the decision tree classifier and see how it performs\n",
    "\n",
    "from sklearn.tree import DecisionTreeClassifier\n",
    "\n",
    "dtree_clf = DecisionTreeClassifier(max_depth=5, random_state=42)"
   ]
  },
  {
   "cell_type": "code",
   "execution_count": 175,
   "id": "f0b13d34",
   "metadata": {},
   "outputs": [
    {
     "data": {
      "text/plain": [
       "array([0.72819473, 0.87018256, 0.86612576, 0.84178499])"
      ]
     },
     "execution_count": 175,
     "metadata": {},
     "output_type": "execute_result"
    }
   ],
   "source": [
    "cross_val_score(estimator=dtree_clf, X=employees_prepared_bal, y=employees_labels_bal, cv=4, scoring='accuracy')"
   ]
  },
  {
   "cell_type": "code",
   "execution_count": 176,
   "id": "30697261",
   "metadata": {},
   "outputs": [],
   "source": [
    "# With max_depth=5 we are able to get atleast more than 8% accuracy but in one case we are getting 74. Let's investigate this\n",
    "# further"
   ]
  },
  {
   "cell_type": "code",
   "execution_count": 177,
   "id": "bd7a9866",
   "metadata": {},
   "outputs": [
    {
     "data": {
      "text/html": [
       "<style>#sk-container-id-15 {color: black;background-color: white;}#sk-container-id-15 pre{padding: 0;}#sk-container-id-15 div.sk-toggleable {background-color: white;}#sk-container-id-15 label.sk-toggleable__label {cursor: pointer;display: block;width: 100%;margin-bottom: 0;padding: 0.3em;box-sizing: border-box;text-align: center;}#sk-container-id-15 label.sk-toggleable__label-arrow:before {content: \"▸\";float: left;margin-right: 0.25em;color: #696969;}#sk-container-id-15 label.sk-toggleable__label-arrow:hover:before {color: black;}#sk-container-id-15 div.sk-estimator:hover label.sk-toggleable__label-arrow:before {color: black;}#sk-container-id-15 div.sk-toggleable__content {max-height: 0;max-width: 0;overflow: hidden;text-align: left;background-color: #f0f8ff;}#sk-container-id-15 div.sk-toggleable__content pre {margin: 0.2em;color: black;border-radius: 0.25em;background-color: #f0f8ff;}#sk-container-id-15 input.sk-toggleable__control:checked~div.sk-toggleable__content {max-height: 200px;max-width: 100%;overflow: auto;}#sk-container-id-15 input.sk-toggleable__control:checked~label.sk-toggleable__label-arrow:before {content: \"▾\";}#sk-container-id-15 div.sk-estimator input.sk-toggleable__control:checked~label.sk-toggleable__label {background-color: #d4ebff;}#sk-container-id-15 div.sk-label input.sk-toggleable__control:checked~label.sk-toggleable__label {background-color: #d4ebff;}#sk-container-id-15 input.sk-hidden--visually {border: 0;clip: rect(1px 1px 1px 1px);clip: rect(1px, 1px, 1px, 1px);height: 1px;margin: -1px;overflow: hidden;padding: 0;position: absolute;width: 1px;}#sk-container-id-15 div.sk-estimator {font-family: monospace;background-color: #f0f8ff;border: 1px dotted black;border-radius: 0.25em;box-sizing: border-box;margin-bottom: 0.5em;}#sk-container-id-15 div.sk-estimator:hover {background-color: #d4ebff;}#sk-container-id-15 div.sk-parallel-item::after {content: \"\";width: 100%;border-bottom: 1px solid gray;flex-grow: 1;}#sk-container-id-15 div.sk-label:hover label.sk-toggleable__label {background-color: #d4ebff;}#sk-container-id-15 div.sk-serial::before {content: \"\";position: absolute;border-left: 1px solid gray;box-sizing: border-box;top: 0;bottom: 0;left: 50%;z-index: 0;}#sk-container-id-15 div.sk-serial {display: flex;flex-direction: column;align-items: center;background-color: white;padding-right: 0.2em;padding-left: 0.2em;position: relative;}#sk-container-id-15 div.sk-item {position: relative;z-index: 1;}#sk-container-id-15 div.sk-parallel {display: flex;align-items: stretch;justify-content: center;background-color: white;position: relative;}#sk-container-id-15 div.sk-item::before, #sk-container-id-15 div.sk-parallel-item::before {content: \"\";position: absolute;border-left: 1px solid gray;box-sizing: border-box;top: 0;bottom: 0;left: 50%;z-index: -1;}#sk-container-id-15 div.sk-parallel-item {display: flex;flex-direction: column;z-index: 1;position: relative;background-color: white;}#sk-container-id-15 div.sk-parallel-item:first-child::after {align-self: flex-end;width: 50%;}#sk-container-id-15 div.sk-parallel-item:last-child::after {align-self: flex-start;width: 50%;}#sk-container-id-15 div.sk-parallel-item:only-child::after {width: 0;}#sk-container-id-15 div.sk-dashed-wrapped {border: 1px dashed gray;margin: 0 0.4em 0.5em 0.4em;box-sizing: border-box;padding-bottom: 0.4em;background-color: white;}#sk-container-id-15 div.sk-label label {font-family: monospace;font-weight: bold;display: inline-block;line-height: 1.2em;}#sk-container-id-15 div.sk-label-container {text-align: center;}#sk-container-id-15 div.sk-container {/* jupyter's `normalize.less` sets `[hidden] { display: none; }` but bootstrap.min.css set `[hidden] { display: none !important; }` so we also need the `!important` here to be able to override the default hidden behavior on the sphinx rendered scikit-learn.org. See: https://github.com/scikit-learn/scikit-learn/issues/21755 */display: inline-block !important;position: relative;}#sk-container-id-15 div.sk-text-repr-fallback {display: none;}</style><div id=\"sk-container-id-15\" class=\"sk-top-container\"><div class=\"sk-text-repr-fallback\"><pre>DecisionTreeClassifier(max_depth=5, random_state=42)</pre><b>In a Jupyter environment, please rerun this cell to show the HTML representation or trust the notebook. <br />On GitHub, the HTML representation is unable to render, please try loading this page with nbviewer.org.</b></div><div class=\"sk-container\" hidden><div class=\"sk-item\"><div class=\"sk-estimator sk-toggleable\"><input class=\"sk-toggleable__control sk-hidden--visually\" id=\"sk-estimator-id-27\" type=\"checkbox\" checked><label for=\"sk-estimator-id-27\" class=\"sk-toggleable__label sk-toggleable__label-arrow\">DecisionTreeClassifier</label><div class=\"sk-toggleable__content\"><pre>DecisionTreeClassifier(max_depth=5, random_state=42)</pre></div></div></div></div></div>"
      ],
      "text/plain": [
       "DecisionTreeClassifier(max_depth=5, random_state=42)"
      ]
     },
     "execution_count": 177,
     "metadata": {},
     "output_type": "execute_result"
    }
   ],
   "source": [
    "# Training\n",
    "\n",
    "dtree_clf.fit(employees_prepared_bal, employees_labels_bal)"
   ]
  },
  {
   "cell_type": "code",
   "execution_count": 178,
   "id": "8a8b1b62",
   "metadata": {},
   "outputs": [
    {
     "name": "stdout",
     "output_type": "stream",
     "text": [
      "Preformance on Train set:\n",
      "\n",
      "Confusion Matrix:\n",
      " [[861 125]\n",
      " [158 828]]\n",
      "Accuracy: 0.8564908722109533\n",
      "Precision: 0.8688352570828961\n",
      "Recall: 0.8397565922920892\n",
      "F1 Score: 0.8540484785972151\n",
      "ROC AUC score: 0.9187128932848931\n",
      "\n",
      "--------------------------------------------------\n",
      "\n",
      "Preformance on Test set:\n",
      "\n",
      "Confusion Matrix:\n",
      " [[220  27]\n",
      " [ 24  23]]\n",
      "Accuracy: 0.826530612244898\n",
      "Precision: 0.46\n",
      "Recall: 0.48936170212765956\n",
      "F1 Score: 0.4742268041237113\n",
      "ROC AUC score: 0.7466620725299337\n"
     ]
    }
   ],
   "source": [
    "# Let's evaluate this model\n",
    "\n",
    "evaluate_model(model=dtree_clf, \n",
    "               X_train=employees_prepared_bal, \n",
    "               y_train=employees_labels_bal, \n",
    "               X_test=employees_test_prepared, \n",
    "               y_test=employees_test_labels)"
   ]
  },
  {
   "cell_type": "code",
   "execution_count": 179,
   "id": "b9d22e5a",
   "metadata": {},
   "outputs": [],
   "source": [
    "# Performance on the test set is very low. Model is overfitting"
   ]
  },
  {
   "cell_type": "code",
   "execution_count": 180,
   "id": "1dc58e6e",
   "metadata": {},
   "outputs": [
    {
     "name": "stdout",
     "output_type": "stream",
     "text": [
      "Fitting 5 folds for each of 120 candidates, totalling 600 fits\n"
     ]
    },
    {
     "data": {
      "text/html": [
       "<style>#sk-container-id-16 {color: black;background-color: white;}#sk-container-id-16 pre{padding: 0;}#sk-container-id-16 div.sk-toggleable {background-color: white;}#sk-container-id-16 label.sk-toggleable__label {cursor: pointer;display: block;width: 100%;margin-bottom: 0;padding: 0.3em;box-sizing: border-box;text-align: center;}#sk-container-id-16 label.sk-toggleable__label-arrow:before {content: \"▸\";float: left;margin-right: 0.25em;color: #696969;}#sk-container-id-16 label.sk-toggleable__label-arrow:hover:before {color: black;}#sk-container-id-16 div.sk-estimator:hover label.sk-toggleable__label-arrow:before {color: black;}#sk-container-id-16 div.sk-toggleable__content {max-height: 0;max-width: 0;overflow: hidden;text-align: left;background-color: #f0f8ff;}#sk-container-id-16 div.sk-toggleable__content pre {margin: 0.2em;color: black;border-radius: 0.25em;background-color: #f0f8ff;}#sk-container-id-16 input.sk-toggleable__control:checked~div.sk-toggleable__content {max-height: 200px;max-width: 100%;overflow: auto;}#sk-container-id-16 input.sk-toggleable__control:checked~label.sk-toggleable__label-arrow:before {content: \"▾\";}#sk-container-id-16 div.sk-estimator input.sk-toggleable__control:checked~label.sk-toggleable__label {background-color: #d4ebff;}#sk-container-id-16 div.sk-label input.sk-toggleable__control:checked~label.sk-toggleable__label {background-color: #d4ebff;}#sk-container-id-16 input.sk-hidden--visually {border: 0;clip: rect(1px 1px 1px 1px);clip: rect(1px, 1px, 1px, 1px);height: 1px;margin: -1px;overflow: hidden;padding: 0;position: absolute;width: 1px;}#sk-container-id-16 div.sk-estimator {font-family: monospace;background-color: #f0f8ff;border: 1px dotted black;border-radius: 0.25em;box-sizing: border-box;margin-bottom: 0.5em;}#sk-container-id-16 div.sk-estimator:hover {background-color: #d4ebff;}#sk-container-id-16 div.sk-parallel-item::after {content: \"\";width: 100%;border-bottom: 1px solid gray;flex-grow: 1;}#sk-container-id-16 div.sk-label:hover label.sk-toggleable__label {background-color: #d4ebff;}#sk-container-id-16 div.sk-serial::before {content: \"\";position: absolute;border-left: 1px solid gray;box-sizing: border-box;top: 0;bottom: 0;left: 50%;z-index: 0;}#sk-container-id-16 div.sk-serial {display: flex;flex-direction: column;align-items: center;background-color: white;padding-right: 0.2em;padding-left: 0.2em;position: relative;}#sk-container-id-16 div.sk-item {position: relative;z-index: 1;}#sk-container-id-16 div.sk-parallel {display: flex;align-items: stretch;justify-content: center;background-color: white;position: relative;}#sk-container-id-16 div.sk-item::before, #sk-container-id-16 div.sk-parallel-item::before {content: \"\";position: absolute;border-left: 1px solid gray;box-sizing: border-box;top: 0;bottom: 0;left: 50%;z-index: -1;}#sk-container-id-16 div.sk-parallel-item {display: flex;flex-direction: column;z-index: 1;position: relative;background-color: white;}#sk-container-id-16 div.sk-parallel-item:first-child::after {align-self: flex-end;width: 50%;}#sk-container-id-16 div.sk-parallel-item:last-child::after {align-self: flex-start;width: 50%;}#sk-container-id-16 div.sk-parallel-item:only-child::after {width: 0;}#sk-container-id-16 div.sk-dashed-wrapped {border: 1px dashed gray;margin: 0 0.4em 0.5em 0.4em;box-sizing: border-box;padding-bottom: 0.4em;background-color: white;}#sk-container-id-16 div.sk-label label {font-family: monospace;font-weight: bold;display: inline-block;line-height: 1.2em;}#sk-container-id-16 div.sk-label-container {text-align: center;}#sk-container-id-16 div.sk-container {/* jupyter's `normalize.less` sets `[hidden] { display: none; }` but bootstrap.min.css set `[hidden] { display: none !important; }` so we also need the `!important` here to be able to override the default hidden behavior on the sphinx rendered scikit-learn.org. See: https://github.com/scikit-learn/scikit-learn/issues/21755 */display: inline-block !important;position: relative;}#sk-container-id-16 div.sk-text-repr-fallback {display: none;}</style><div id=\"sk-container-id-16\" class=\"sk-top-container\"><div class=\"sk-text-repr-fallback\"><pre>GridSearchCV(cv=StratifiedKFold(n_splits=5, random_state=None, shuffle=False),\n",
       "             estimator=DecisionTreeClassifier(random_state=42), n_jobs=-1,\n",
       "             param_grid={&#x27;criterion&#x27;: [&#x27;gini&#x27;, &#x27;entropy&#x27;],\n",
       "                         &#x27;max_depth&#x27;: [5, 7, 9, 11],\n",
       "                         &#x27;min_samples_leaf&#x27;: [5, 10, 15],\n",
       "                         &#x27;min_samples_split&#x27;: [5, 10, 15, 20, 25]},\n",
       "             refit=&#x27;accuracy&#x27;,\n",
       "             scoring=[&#x27;accuracy&#x27;, &#x27;precision&#x27;, &#x27;recall&#x27;, &#x27;roc_auc&#x27;], verbose=2)</pre><b>In a Jupyter environment, please rerun this cell to show the HTML representation or trust the notebook. <br />On GitHub, the HTML representation is unable to render, please try loading this page with nbviewer.org.</b></div><div class=\"sk-container\" hidden><div class=\"sk-item sk-dashed-wrapped\"><div class=\"sk-label-container\"><div class=\"sk-label sk-toggleable\"><input class=\"sk-toggleable__control sk-hidden--visually\" id=\"sk-estimator-id-28\" type=\"checkbox\" ><label for=\"sk-estimator-id-28\" class=\"sk-toggleable__label sk-toggleable__label-arrow\">GridSearchCV</label><div class=\"sk-toggleable__content\"><pre>GridSearchCV(cv=StratifiedKFold(n_splits=5, random_state=None, shuffle=False),\n",
       "             estimator=DecisionTreeClassifier(random_state=42), n_jobs=-1,\n",
       "             param_grid={&#x27;criterion&#x27;: [&#x27;gini&#x27;, &#x27;entropy&#x27;],\n",
       "                         &#x27;max_depth&#x27;: [5, 7, 9, 11],\n",
       "                         &#x27;min_samples_leaf&#x27;: [5, 10, 15],\n",
       "                         &#x27;min_samples_split&#x27;: [5, 10, 15, 20, 25]},\n",
       "             refit=&#x27;accuracy&#x27;,\n",
       "             scoring=[&#x27;accuracy&#x27;, &#x27;precision&#x27;, &#x27;recall&#x27;, &#x27;roc_auc&#x27;], verbose=2)</pre></div></div></div><div class=\"sk-parallel\"><div class=\"sk-parallel-item\"><div class=\"sk-item\"><div class=\"sk-label-container\"><div class=\"sk-label sk-toggleable\"><input class=\"sk-toggleable__control sk-hidden--visually\" id=\"sk-estimator-id-29\" type=\"checkbox\" ><label for=\"sk-estimator-id-29\" class=\"sk-toggleable__label sk-toggleable__label-arrow\">estimator: DecisionTreeClassifier</label><div class=\"sk-toggleable__content\"><pre>DecisionTreeClassifier(random_state=42)</pre></div></div></div><div class=\"sk-serial\"><div class=\"sk-item\"><div class=\"sk-estimator sk-toggleable\"><input class=\"sk-toggleable__control sk-hidden--visually\" id=\"sk-estimator-id-30\" type=\"checkbox\" ><label for=\"sk-estimator-id-30\" class=\"sk-toggleable__label sk-toggleable__label-arrow\">DecisionTreeClassifier</label><div class=\"sk-toggleable__content\"><pre>DecisionTreeClassifier(random_state=42)</pre></div></div></div></div></div></div></div></div></div></div>"
      ],
      "text/plain": [
       "GridSearchCV(cv=StratifiedKFold(n_splits=5, random_state=None, shuffle=False),\n",
       "             estimator=DecisionTreeClassifier(random_state=42), n_jobs=-1,\n",
       "             param_grid={'criterion': ['gini', 'entropy'],\n",
       "                         'max_depth': [5, 7, 9, 11],\n",
       "                         'min_samples_leaf': [5, 10, 15],\n",
       "                         'min_samples_split': [5, 10, 15, 20, 25]},\n",
       "             refit='accuracy',\n",
       "             scoring=['accuracy', 'precision', 'recall', 'roc_auc'], verbose=2)"
      ]
     },
     "execution_count": 180,
     "metadata": {},
     "output_type": "execute_result"
    }
   ],
   "source": [
    "# Let's try hyperparameter tuning\n",
    "\n",
    "from sklearn.model_selection import GridSearchCV, StratifiedKFold\n",
    "\n",
    "model_dtree_clf = DecisionTreeClassifier(random_state=42)\n",
    "\n",
    "param_grid = {\n",
    "    'criterion': ['gini', 'entropy'],\n",
    "    'max_depth': [5, 7, 9, 11],\n",
    "    'min_samples_split': [5, 10, 15, 20, 25],\n",
    "    'min_samples_leaf': [5, 10, 15],\n",
    "}\n",
    "\n",
    "skf = StratifiedKFold(n_splits=5)\n",
    "\n",
    "dtree_clf_cv = GridSearchCV(estimator=model_dtree_clf, \n",
    "                            param_grid=param_grid, \n",
    "                            cv=skf, \n",
    "                            scoring=['accuracy', 'precision', 'recall', 'roc_auc'],\n",
    "                            refit='accuracy',\n",
    "                            verbose=2,\n",
    "                            n_jobs=-1)\n",
    "\n",
    "dtree_clf_cv.fit(employees_prepared_bal, employees_labels_bal)"
   ]
  },
  {
   "cell_type": "code",
   "execution_count": 181,
   "id": "fbb77874",
   "metadata": {},
   "outputs": [
    {
     "data": {
      "text/plain": [
       "{'criterion': 'entropy',\n",
       " 'max_depth': 9,\n",
       " 'min_samples_leaf': 5,\n",
       " 'min_samples_split': 25}"
      ]
     },
     "execution_count": 181,
     "metadata": {},
     "output_type": "execute_result"
    }
   ],
   "source": [
    "dtree_clf_cv.best_params_"
   ]
  },
  {
   "cell_type": "code",
   "execution_count": 182,
   "id": "b1567a94",
   "metadata": {},
   "outputs": [
    {
     "data": {
      "text/plain": [
       "0.8469151191929576"
      ]
     },
     "execution_count": 182,
     "metadata": {},
     "output_type": "execute_result"
    }
   ],
   "source": [
    "dtree_clf_cv.best_score_"
   ]
  },
  {
   "cell_type": "code",
   "execution_count": 183,
   "id": "2e21bfc8",
   "metadata": {},
   "outputs": [
    {
     "name": "stdout",
     "output_type": "stream",
     "text": [
      "Preformance on Train set:\n",
      "\n",
      "Confusion Matrix:\n",
      " [[941  45]\n",
      " [125 861]]\n",
      "Accuracy: 0.9137931034482759\n",
      "Precision: 0.9503311258278145\n",
      "Recall: 0.8732251521298174\n",
      "F1 Score: 0.9101479915433404\n",
      "ROC AUC score: 0.9788802875140403\n",
      "\n",
      "--------------------------------------------------\n",
      "\n",
      "Preformance on Test set:\n",
      "\n",
      "Confusion Matrix:\n",
      " [[236  11]\n",
      " [ 33  14]]\n",
      "Accuracy: 0.8503401360544217\n",
      "Precision: 0.56\n",
      "Recall: 0.2978723404255319\n",
      "F1 Score: 0.3888888888888889\n",
      "ROC AUC score: 0.7024722198294426\n"
     ]
    }
   ],
   "source": [
    "evaluate_model(model=dtree_clf_cv.best_estimator_, \n",
    "               X_train=employees_prepared_bal, \n",
    "               y_train=employees_labels_bal, \n",
    "               X_test=employees_test_prepared, \n",
    "               y_test=employees_test_labels)"
   ]
  },
  {
   "cell_type": "code",
   "execution_count": 184,
   "id": "b9413db8",
   "metadata": {},
   "outputs": [],
   "source": [
    "def compute_and_plot_precision_recall_vs_thresholds(model, X_train, y_train):\n",
    "    y_scores = model.predict_proba(X_train)[:, 1]\n",
    "    precisions, recalls, thresholds = precision_recall_curve(y_train, y_scores)\n",
    "    plt.figure(figsize=(8,4))\n",
    "    plot_precision_recall_vs_thresholds(precisions, recalls, thresholds)\n",
    "    plt.show()"
   ]
  },
  {
   "cell_type": "code",
   "execution_count": 185,
   "id": "f9f3b23f",
   "metadata": {},
   "outputs": [
    {
     "data": {
      "image/png": "[encoded data removed]",
      "text/plain": [
       "<Figure size 800x400 with 1 Axes>"
      ]
     },
     "metadata": {},
     "output_type": "display_data"
    }
   ],
   "source": [
    "compute_and_plot_precision_recall_vs_thresholds(model=dtree_clf_cv.best_estimator_, \n",
    "                                                X_train=employees_prepared_bal, \n",
    "                                                y_train=employees_labels_bal)"
   ]
  },
  {
   "cell_type": "code",
   "execution_count": 186,
   "id": "04e8ba11",
   "metadata": {},
   "outputs": [
    {
     "name": "stdout",
     "output_type": "stream",
     "text": [
      "Preformance on Train set:\n",
      "\n",
      "Confusion Matrix:\n",
      " [[972  14]\n",
      " [185 801]]\n",
      "Accuracy: 0.8990872210953347\n",
      "Precision: 0.9828220858895705\n",
      "Recall: 0.8123732251521298\n",
      "F1 Score: 0.889505830094392\n",
      "ROC AUC score: 0.9788802875140403\n",
      "\n",
      "--------------------------------------------------\n",
      "\n",
      "Preformance on Test set:\n",
      "\n",
      "Confusion Matrix:\n",
      " [[240   7]\n",
      " [ 37  10]]\n",
      "Accuracy: 0.8503401360544217\n",
      "Precision: 0.5882352941176471\n",
      "Recall: 0.2127659574468085\n",
      "F1 Score: 0.3125\n",
      "ROC AUC score: 0.7024722198294426\n"
     ]
    }
   ],
   "source": [
    "evaluate_model_with_threshold(model=dtree_clf_cv.best_estimator_, \n",
    "                           X_train=employees_prepared_bal, \n",
    "                           y_train=employees_labels_bal, \n",
    "                           X_test=employees_test_prepared, \n",
    "                           y_test=employees_test_labels,\n",
    "                           threshold=0.8)"
   ]
  },
  {
   "cell_type": "code",
   "execution_count": 187,
   "id": "e200ecc1",
   "metadata": {},
   "outputs": [],
   "source": [
    "# Even after adjusting various thresholds, the model is not performing well on the test set "
   ]
  },
  {
   "cell_type": "code",
   "execution_count": 191,
   "id": "394556a3",
   "metadata": {},
   "outputs": [
    {
     "data": {
      "text/plain": [
       "array([0.01727736, 0.        , 0.02684309, 0.00507594, 0.02193428,\n",
       "       0.00942674, 0.02101808, 0.04309269, 0.07095931, 0.01913513,\n",
       "       0.00193296, 0.02515821, 0.        , 0.        , 0.0111971 ,\n",
       "       0.03191882, 0.        , 0.        , 0.01151651, 0.01840328,\n",
       "       0.        , 0.00507583, 0.01102922, 0.        , 0.01389376,\n",
       "       0.01116718, 0.        , 0.        , 0.00947996, 0.        ,\n",
       "       0.        , 0.02622017, 0.        , 0.        , 0.00893323,\n",
       "       0.        , 0.        , 0.        , 0.        , 0.06692233,\n",
       "       0.        , 0.02344754, 0.        , 0.01805605, 0.        ,\n",
       "       0.08262905, 0.        , 0.        , 0.07478628, 0.        ,\n",
       "       0.2738125 , 0.0396574 ])"
      ]
     },
     "execution_count": 191,
     "metadata": {},
     "output_type": "execute_result"
    }
   ],
   "source": [
    "dtree_clf_cv.best_estimator_.feature_importances_"
   ]
  },
  {
   "cell_type": "code",
   "execution_count": 197,
   "id": "42598ef1",
   "metadata": {},
   "outputs": [
    {
     "data": {
      "text/plain": [
       "one_hot_encoding__OverTime_Yes                         0.273813\n",
       "one_hot_encoding__JobRole_Sales Representative         0.082629\n",
       "one_hot_encoding__MaritalStatus_Single                 0.074786\n",
       "scaling__JobSatisfaction                               0.070959\n",
       "one_hot_encoding__JobRole_Laboratory Technician        0.066922\n",
       "scaling__JobLevel                                      0.043093\n",
       "scaling__StockOptionLevel                              0.031919\n",
       "scaling__DistanceFromHome                              0.026843\n",
       "one_hot_encoding__EducationField_Marketing             0.026220\n",
       "scaling__NumCompaniesWorked                            0.025158\n",
       "one_hot_encoding__JobRole_Manufacturing Director       0.023448\n",
       "scaling__EnvironmentSatisfaction                       0.021934\n",
       "scaling__JobInvolvement                                0.021018\n",
       "scaling__MonthlyIncome                                 0.019135\n",
       "scaling__YearsAtCompany                                0.018403\n",
       "one_hot_encoding__JobRole_Research Scientist           0.018056\n",
       "scaling__Age                                           0.017277\n",
       "one_hot_encoding__BusinessTravel_Travel_Frequently     0.013894\n",
       "scaling__WorkLifeBalance                               0.011517\n",
       "scaling__RelationshipSatisfaction                      0.011197\n",
       "one_hot_encoding__BusinessTravel_Travel_Rarely         0.011167\n",
       "scaling__YearsWithCurrManager                          0.011029\n",
       "one_hot_encoding__Department_Sales                     0.009480\n",
       "scaling__HourlyRate                                    0.009427\n",
       "one_hot_encoding__EducationField_Technical Degree      0.008933\n",
       "scaling__Education                                     0.005076\n",
       "scaling__YearsSinceLastPromotion                       0.005076\n",
       "scaling__MonthlyRate                                   0.001933\n",
       "scaling__DailyRate                                     0.000000\n",
       "scaling__PerformanceRating                             0.000000\n",
       "one_hot_encoding__OverTime_No                          0.000000\n",
       "one_hot_encoding__MaritalStatus_Married                0.000000\n",
       "one_hot_encoding__MaritalStatus_Divorced               0.000000\n",
       "scaling__TotalWorkingYears                             0.000000\n",
       "one_hot_encoding__JobRole_Sales Executive              0.000000\n",
       "one_hot_encoding__JobRole_Research Director            0.000000\n",
       "scaling__PercentSalaryHike                             0.000000\n",
       "one_hot_encoding__JobRole_Manager                      0.000000\n",
       "one_hot_encoding__JobRole_Human Resources              0.000000\n",
       "one_hot_encoding__Department_Human Resources           0.000000\n",
       "one_hot_encoding__JobRole_Healthcare Representative    0.000000\n",
       "one_hot_encoding__Gender_Male                          0.000000\n",
       "one_hot_encoding__Gender_Female                        0.000000\n",
       "scaling__YearsInCurrentRole                            0.000000\n",
       "one_hot_encoding__EducationField_Other                 0.000000\n",
       "one_hot_encoding__EducationField_Medical               0.000000\n",
       "one_hot_encoding__EducationField_Life Sciences         0.000000\n",
       "one_hot_encoding__EducationField_Human Resources       0.000000\n",
       "one_hot_encoding__BusinessTravel_Non-Travel            0.000000\n",
       "one_hot_encoding__Department_Research & Development    0.000000\n",
       "scaling__TrainingTimesLastYear                         0.000000\n",
       "dtype: float64"
      ]
     },
     "execution_count": 197,
     "metadata": {},
     "output_type": "execute_result"
    }
   ],
   "source": [
    "feature_names = full_pipeline[:-1].get_feature_names_out()\n",
    "\n",
    "pd.Series(data=dtree_clf_cv.best_estimator_.feature_importances_[:-1], index=full_pipeline[:-1].get_feature_names_out()).sort_values(ascending=False)"
   ]
  },
  {
   "cell_type": "code",
   "execution_count": null,
   "id": "62f0f8a8",
   "metadata": {},
   "outputs": [],
   "source": [
    "# According to decision tree classifier OverTime is a very important feature for attrition"
   ]
  },
  {
   "cell_type": "code",
   "execution_count": null,
   "id": "e644e515",
   "metadata": {},
   "outputs": [],
   "source": [
    "# Let's move further and try some other models"
   ]
  },
  {
   "cell_type": "markdown",
   "id": "f345d00c",
   "metadata": {},
   "source": [
    "## "
   ]
  },
  {
   "cell_type": "markdown",
   "id": "aef45457",
   "metadata": {},
   "source": [
    "### 4a. Ensemble - Voting Classifier "
   ]
  },
  {
   "cell_type": "code",
   "execution_count": 279,
   "id": "808604c5",
   "metadata": {},
   "outputs": [],
   "source": [
    "# Lets now try the voting classifer which is an ensemle technique\n",
    "# Let's combine Logistic Regression, SVM and Random Forest classifiers into one ensemble\n",
    "\n",
    "from sklearn.ensemble import VotingClassifier, RandomForestClassifier\n",
    "from sklearn.linear_model import LogisticRegression\n",
    "from sklearn.svm import SVC\n",
    "from sklearn.tree import DecisionTreeClassifier\n",
    "\n",
    "log_reg_clf_ens = LogisticRegression()\n",
    "svm_clf_rbf_ens = SVC(kernel='rbf', probability=True)\n",
    "svm_clf_poly_ens = SVC(kernel='poly', degree=3, coef0=1, C=0.5, probability=True)\n",
    "rf_clf_ens = RandomForestClassifier()\n",
    "\n",
    "voting_clf = VotingClassifier(estimators=[('log_reg', log_reg_clf_ens), \n",
    "                                          ('rf', rf_clf_ens), \n",
    "                                          ('svc_rbf', svm_clf_rbf_ens),\n",
    "                                          ('svc_poly', svm_clf_poly_ens)], \n",
    "                              voting='soft')"
   ]
  },
  {
   "cell_type": "code",
   "execution_count": 280,
   "id": "8a407383",
   "metadata": {},
   "outputs": [
    {
     "data": {
      "text/plain": [
       "array([0.89858012, 0.94523327, 0.93914807, 0.93103448])"
      ]
     },
     "execution_count": 280,
     "metadata": {},
     "output_type": "execute_result"
    }
   ],
   "source": [
    "cross_val_score(estimator=voting_clf, X=employees_prepared_bal, y=employees_labels_bal, cv=4, scoring='accuracy')"
   ]
  },
  {
   "cell_type": "code",
   "execution_count": 281,
   "id": "b88c5437",
   "metadata": {},
   "outputs": [
    {
     "data": {
      "text/html": [
       "<style>#sk-container-id-31 {color: black;background-color: white;}#sk-container-id-31 pre{padding: 0;}#sk-container-id-31 div.sk-toggleable {background-color: white;}#sk-container-id-31 label.sk-toggleable__label {cursor: pointer;display: block;width: 100%;margin-bottom: 0;padding: 0.3em;box-sizing: border-box;text-align: center;}#sk-container-id-31 label.sk-toggleable__label-arrow:before {content: \"▸\";float: left;margin-right: 0.25em;color: #696969;}#sk-container-id-31 label.sk-toggleable__label-arrow:hover:before {color: black;}#sk-container-id-31 div.sk-estimator:hover label.sk-toggleable__label-arrow:before {color: black;}#sk-container-id-31 div.sk-toggleable__content {max-height: 0;max-width: 0;overflow: hidden;text-align: left;background-color: #f0f8ff;}#sk-container-id-31 div.sk-toggleable__content pre {margin: 0.2em;color: black;border-radius: 0.25em;background-color: #f0f8ff;}#sk-container-id-31 input.sk-toggleable__control:checked~div.sk-toggleable__content {max-height: 200px;max-width: 100%;overflow: auto;}#sk-container-id-31 input.sk-toggleable__control:checked~label.sk-toggleable__label-arrow:before {content: \"▾\";}#sk-container-id-31 div.sk-estimator input.sk-toggleable__control:checked~label.sk-toggleable__label {background-color: #d4ebff;}#sk-container-id-31 div.sk-label input.sk-toggleable__control:checked~label.sk-toggleable__label {background-color: #d4ebff;}#sk-container-id-31 input.sk-hidden--visually {border: 0;clip: rect(1px 1px 1px 1px);clip: rect(1px, 1px, 1px, 1px);height: 1px;margin: -1px;overflow: hidden;padding: 0;position: absolute;width: 1px;}#sk-container-id-31 div.sk-estimator {font-family: monospace;background-color: #f0f8ff;border: 1px dotted black;border-radius: 0.25em;box-sizing: border-box;margin-bottom: 0.5em;}#sk-container-id-31 div.sk-estimator:hover {background-color: #d4ebff;}#sk-container-id-31 div.sk-parallel-item::after {content: \"\";width: 100%;border-bottom: 1px solid gray;flex-grow: 1;}#sk-container-id-31 div.sk-label:hover label.sk-toggleable__label {background-color: #d4ebff;}#sk-container-id-31 div.sk-serial::before {content: \"\";position: absolute;border-left: 1px solid gray;box-sizing: border-box;top: 0;bottom: 0;left: 50%;z-index: 0;}#sk-container-id-31 div.sk-serial {display: flex;flex-direction: column;align-items: center;background-color: white;padding-right: 0.2em;padding-left: 0.2em;position: relative;}#sk-container-id-31 div.sk-item {position: relative;z-index: 1;}#sk-container-id-31 div.sk-parallel {display: flex;align-items: stretch;justify-content: center;background-color: white;position: relative;}#sk-container-id-31 div.sk-item::before, #sk-container-id-31 div.sk-parallel-item::before {content: \"\";position: absolute;border-left: 1px solid gray;box-sizing: border-box;top: 0;bottom: 0;left: 50%;z-index: -1;}#sk-container-id-31 div.sk-parallel-item {display: flex;flex-direction: column;z-index: 1;position: relative;background-color: white;}#sk-container-id-31 div.sk-parallel-item:first-child::after {align-self: flex-end;width: 50%;}#sk-container-id-31 div.sk-parallel-item:last-child::after {align-self: flex-start;width: 50%;}#sk-container-id-31 div.sk-parallel-item:only-child::after {width: 0;}#sk-container-id-31 div.sk-dashed-wrapped {border: 1px dashed gray;margin: 0 0.4em 0.5em 0.4em;box-sizing: border-box;padding-bottom: 0.4em;background-color: white;}#sk-container-id-31 div.sk-label label {font-family: monospace;font-weight: bold;display: inline-block;line-height: 1.2em;}#sk-container-id-31 div.sk-label-container {text-align: center;}#sk-container-id-31 div.sk-container {/* jupyter's `normalize.less` sets `[hidden] { display: none; }` but bootstrap.min.css set `[hidden] { display: none !important; }` so we also need the `!important` here to be able to override the default hidden behavior on the sphinx rendered scikit-learn.org. See: https://github.com/scikit-learn/scikit-learn/issues/21755 */display: inline-block !important;position: relative;}#sk-container-id-31 div.sk-text-repr-fallback {display: none;}</style><div id=\"sk-container-id-31\" class=\"sk-top-container\"><div class=\"sk-text-repr-fallback\"><pre>VotingClassifier(estimators=[(&#x27;log_reg&#x27;, LogisticRegression()),\n",
       "                             (&#x27;rf&#x27;, RandomForestClassifier()),\n",
       "                             (&#x27;svc_rbf&#x27;, SVC(probability=True)),\n",
       "                             (&#x27;svc_poly&#x27;,\n",
       "                              SVC(C=0.5, coef0=1, kernel=&#x27;poly&#x27;,\n",
       "                                  probability=True))],\n",
       "                 voting=&#x27;soft&#x27;)</pre><b>In a Jupyter environment, please rerun this cell to show the HTML representation or trust the notebook. <br />On GitHub, the HTML representation is unable to render, please try loading this page with nbviewer.org.</b></div><div class=\"sk-container\" hidden><div class=\"sk-item sk-dashed-wrapped\"><div class=\"sk-label-container\"><div class=\"sk-label sk-toggleable\"><input class=\"sk-toggleable__control sk-hidden--visually\" id=\"sk-estimator-id-95\" type=\"checkbox\" ><label for=\"sk-estimator-id-95\" class=\"sk-toggleable__label sk-toggleable__label-arrow\">VotingClassifier</label><div class=\"sk-toggleable__content\"><pre>VotingClassifier(estimators=[(&#x27;log_reg&#x27;, LogisticRegression()),\n",
       "                             (&#x27;rf&#x27;, RandomForestClassifier()),\n",
       "                             (&#x27;svc_rbf&#x27;, SVC(probability=True)),\n",
       "                             (&#x27;svc_poly&#x27;,\n",
       "                              SVC(C=0.5, coef0=1, kernel=&#x27;poly&#x27;,\n",
       "                                  probability=True))],\n",
       "                 voting=&#x27;soft&#x27;)</pre></div></div></div><div class=\"sk-parallel\"><div class=\"sk-parallel-item\"><div class=\"sk-item\"><div class=\"sk-label-container\"><div class=\"sk-label sk-toggleable\"><label>log_reg</label></div></div><div class=\"sk-serial\"><div class=\"sk-item\"><div class=\"sk-estimator sk-toggleable\"><input class=\"sk-toggleable__control sk-hidden--visually\" id=\"sk-estimator-id-96\" type=\"checkbox\" ><label for=\"sk-estimator-id-96\" class=\"sk-toggleable__label sk-toggleable__label-arrow\">LogisticRegression</label><div class=\"sk-toggleable__content\"><pre>LogisticRegression()</pre></div></div></div></div></div></div><div class=\"sk-parallel-item\"><div class=\"sk-item\"><div class=\"sk-label-container\"><div class=\"sk-label sk-toggleable\"><label>rf</label></div></div><div class=\"sk-serial\"><div class=\"sk-item\"><div class=\"sk-estimator sk-toggleable\"><input class=\"sk-toggleable__control sk-hidden--visually\" id=\"sk-estimator-id-97\" type=\"checkbox\" ><label for=\"sk-estimator-id-97\" class=\"sk-toggleable__label sk-toggleable__label-arrow\">RandomForestClassifier</label><div class=\"sk-toggleable__content\"><pre>RandomForestClassifier()</pre></div></div></div></div></div></div><div class=\"sk-parallel-item\"><div class=\"sk-item\"><div class=\"sk-label-container\"><div class=\"sk-label sk-toggleable\"><label>svc_rbf</label></div></div><div class=\"sk-serial\"><div class=\"sk-item\"><div class=\"sk-estimator sk-toggleable\"><input class=\"sk-toggleable__control sk-hidden--visually\" id=\"sk-estimator-id-98\" type=\"checkbox\" ><label for=\"sk-estimator-id-98\" class=\"sk-toggleable__label sk-toggleable__label-arrow\">SVC</label><div class=\"sk-toggleable__content\"><pre>SVC(probability=True)</pre></div></div></div></div></div></div><div class=\"sk-parallel-item\"><div class=\"sk-item\"><div class=\"sk-label-container\"><div class=\"sk-label sk-toggleable\"><label>svc_poly</label></div></div><div class=\"sk-serial\"><div class=\"sk-item\"><div class=\"sk-estimator sk-toggleable\"><input class=\"sk-toggleable__control sk-hidden--visually\" id=\"sk-estimator-id-99\" type=\"checkbox\" ><label for=\"sk-estimator-id-99\" class=\"sk-toggleable__label sk-toggleable__label-arrow\">SVC</label><div class=\"sk-toggleable__content\"><pre>SVC(C=0.5, coef0=1, kernel=&#x27;poly&#x27;, probability=True)</pre></div></div></div></div></div></div></div></div></div></div>"
      ],
      "text/plain": [
       "VotingClassifier(estimators=[('log_reg', LogisticRegression()),\n",
       "                             ('rf', RandomForestClassifier()),\n",
       "                             ('svc_rbf', SVC(probability=True)),\n",
       "                             ('svc_poly',\n",
       "                              SVC(C=0.5, coef0=1, kernel='poly',\n",
       "                                  probability=True))],\n",
       "                 voting='soft')"
      ]
     },
     "execution_count": 281,
     "metadata": {},
     "output_type": "execute_result"
    }
   ],
   "source": [
    "voting_clf.fit(employees_prepared_bal, employees_labels_bal)"
   ]
  },
  {
   "cell_type": "code",
   "execution_count": 282,
   "id": "d2c32051",
   "metadata": {},
   "outputs": [
    {
     "name": "stdout",
     "output_type": "stream",
     "text": [
      "Preformance on Train set:\n",
      "\n",
      "Confusion Matrix:\n",
      " [[959  27]\n",
      " [ 13 973]]\n",
      "Accuracy: 0.9797160243407708\n",
      "Precision: 0.973\n",
      "Recall: 0.986815415821501\n",
      "F1 Score: 0.9798590130916414\n",
      "ROC AUC score: 0.9986936790523722\n",
      "\n",
      "--------------------------------------------------\n",
      "\n",
      "Preformance on Test set:\n",
      "\n",
      "Confusion Matrix:\n",
      " [[241   6]\n",
      " [ 22  25]]\n",
      "Accuracy: 0.9047619047619048\n",
      "Precision: 0.8064516129032258\n",
      "Recall: 0.5319148936170213\n",
      "F1 Score: 0.641025641025641\n",
      "ROC AUC score: 0.8392626410543544\n"
     ]
    }
   ],
   "source": [
    "evaluate_model(model=voting_clf, \n",
    "               X_train=employees_prepared_bal, \n",
    "               y_train=employees_labels_bal, \n",
    "               X_test=employees_test_prepared, \n",
    "               y_test=employees_test_labels)"
   ]
  },
  {
   "cell_type": "code",
   "execution_count": 340,
   "id": "43ac43f5",
   "metadata": {},
   "outputs": [
    {
     "data": {
      "text/html": [
       "<div>\n",
       "<style scoped>\n",
       "    .dataframe tbody tr th:only-of-type {\n",
       "        vertical-align: middle;\n",
       "    }\n",
       "\n",
       "    .dataframe tbody tr th {\n",
       "        vertical-align: top;\n",
       "    }\n",
       "\n",
       "    .dataframe thead th {\n",
       "        text-align: right;\n",
       "    }\n",
       "</style>\n",
       "<table border=\"1\" class=\"dataframe\">\n",
       "  <thead>\n",
       "    <tr style=\"text-align: right;\">\n",
       "      <th></th>\n",
       "      <th>fit_time</th>\n",
       "      <th>score_time</th>\n",
       "      <th>test_accuracy</th>\n",
       "      <th>test_precision</th>\n",
       "      <th>test_recall</th>\n",
       "      <th>test_f1</th>\n",
       "      <th>test_roc_auc</th>\n",
       "    </tr>\n",
       "  </thead>\n",
       "  <tbody>\n",
       "    <tr>\n",
       "      <th>0</th>\n",
       "      <td>1.439152</td>\n",
       "      <td>0.149853</td>\n",
       "      <td>0.881013</td>\n",
       "      <td>0.898936</td>\n",
       "      <td>0.857868</td>\n",
       "      <td>0.877922</td>\n",
       "      <td>0.940676</td>\n",
       "    </tr>\n",
       "    <tr>\n",
       "      <th>1</th>\n",
       "      <td>1.448062</td>\n",
       "      <td>0.158576</td>\n",
       "      <td>0.956962</td>\n",
       "      <td>0.950249</td>\n",
       "      <td>0.964646</td>\n",
       "      <td>0.957393</td>\n",
       "      <td>0.990335</td>\n",
       "    </tr>\n",
       "    <tr>\n",
       "      <th>2</th>\n",
       "      <td>1.423969</td>\n",
       "      <td>0.154634</td>\n",
       "      <td>0.936548</td>\n",
       "      <td>0.913462</td>\n",
       "      <td>0.964467</td>\n",
       "      <td>0.938272</td>\n",
       "      <td>0.991265</td>\n",
       "    </tr>\n",
       "    <tr>\n",
       "      <th>3</th>\n",
       "      <td>1.487030</td>\n",
       "      <td>0.153925</td>\n",
       "      <td>0.941624</td>\n",
       "      <td>0.910377</td>\n",
       "      <td>0.979695</td>\n",
       "      <td>0.943765</td>\n",
       "      <td>0.992064</td>\n",
       "    </tr>\n",
       "    <tr>\n",
       "      <th>4</th>\n",
       "      <td>1.458419</td>\n",
       "      <td>0.157579</td>\n",
       "      <td>0.934010</td>\n",
       "      <td>0.909091</td>\n",
       "      <td>0.964467</td>\n",
       "      <td>0.935961</td>\n",
       "      <td>0.984591</td>\n",
       "    </tr>\n",
       "  </tbody>\n",
       "</table>\n",
       "</div>"
      ],
      "text/plain": [
       "   fit_time  score_time  test_accuracy  test_precision  test_recall   test_f1  \\\n",
       "0  1.439152    0.149853       0.881013        0.898936     0.857868  0.877922   \n",
       "1  1.448062    0.158576       0.956962        0.950249     0.964646  0.957393   \n",
       "2  1.423969    0.154634       0.936548        0.913462     0.964467  0.938272   \n",
       "3  1.487030    0.153925       0.941624        0.910377     0.979695  0.943765   \n",
       "4  1.458419    0.157579       0.934010        0.909091     0.964467  0.935961   \n",
       "\n",
       "   test_roc_auc  \n",
       "0      0.940676  \n",
       "1      0.990335  \n",
       "2      0.991265  \n",
       "3      0.992064  \n",
       "4      0.984591  "
      ]
     },
     "execution_count": 340,
     "metadata": {},
     "output_type": "execute_result"
    }
   ],
   "source": [
    "from sklearn.model_selection import cross_validate, StratifiedKFold\n",
    "\n",
    "skf = StratifiedKFold(n_splits=5)\n",
    "\n",
    "voting_clf_cv = cross_validate(estimator=voting_clf, \n",
    "                               X=employees_prepared_bal, \n",
    "                               y=employees_labels_bal, \n",
    "                               cv=skf, \n",
    "                               scoring=['accuracy', 'precision', 'recall', 'f1', 'roc_auc'])\n",
    "\n",
    "pd.DataFrame(voting_clf_cv)"
   ]
  },
  {
   "cell_type": "markdown",
   "id": "f20c8f0d",
   "metadata": {},
   "source": [
    "### CHECKPOINT"
   ]
  },
  {
   "cell_type": "markdown",
   "id": "dfee8ce4",
   "metadata": {},
   "source": [
    "## "
   ]
  },
  {
   "cell_type": "markdown",
   "id": "86d21a20",
   "metadata": {},
   "source": [
    "### 4b. Ensemble - Bagging Classifier"
   ]
  },
  {
   "cell_type": "code",
   "execution_count": 311,
   "id": "7fb4e592",
   "metadata": {},
   "outputs": [],
   "source": [
    "# Let's now try the Bagging Classifier with SVC\n",
    "\n",
    "from sklearn.ensemble import BaggingClassifier\n",
    "from sklearn.tree import DecisionTreeClassifier\n",
    "from sklearn.svm import SVC\n",
    "\n",
    "bag_clf = BaggingClassifier(base_estimator=SVC(kernel='rbf', probability=True), n_estimators=100, oob_score=True)"
   ]
  },
  {
   "cell_type": "code",
   "execution_count": 312,
   "id": "61d5ef25",
   "metadata": {},
   "outputs": [
    {
     "data": {
      "text/plain": [
       "array([0.89046653, 0.93306288, 0.93306288, 0.91075051])"
      ]
     },
     "execution_count": 312,
     "metadata": {},
     "output_type": "execute_result"
    }
   ],
   "source": [
    "cross_val_score(estimator=bag_clf, X=employees_prepared_bal, y=employees_labels_bal, cv=4, scoring='accuracy')"
   ]
  },
  {
   "cell_type": "code",
   "execution_count": 313,
   "id": "fb405cda",
   "metadata": {},
   "outputs": [
    {
     "data": {
      "text/html": [
       "<style>#sk-container-id-34 {color: black;background-color: white;}#sk-container-id-34 pre{padding: 0;}#sk-container-id-34 div.sk-toggleable {background-color: white;}#sk-container-id-34 label.sk-toggleable__label {cursor: pointer;display: block;width: 100%;margin-bottom: 0;padding: 0.3em;box-sizing: border-box;text-align: center;}#sk-container-id-34 label.sk-toggleable__label-arrow:before {content: \"▸\";float: left;margin-right: 0.25em;color: #696969;}#sk-container-id-34 label.sk-toggleable__label-arrow:hover:before {color: black;}#sk-container-id-34 div.sk-estimator:hover label.sk-toggleable__label-arrow:before {color: black;}#sk-container-id-34 div.sk-toggleable__content {max-height: 0;max-width: 0;overflow: hidden;text-align: left;background-color: #f0f8ff;}#sk-container-id-34 div.sk-toggleable__content pre {margin: 0.2em;color: black;border-radius: 0.25em;background-color: #f0f8ff;}#sk-container-id-34 input.sk-toggleable__control:checked~div.sk-toggleable__content {max-height: 200px;max-width: 100%;overflow: auto;}#sk-container-id-34 input.sk-toggleable__control:checked~label.sk-toggleable__label-arrow:before {content: \"▾\";}#sk-container-id-34 div.sk-estimator input.sk-toggleable__control:checked~label.sk-toggleable__label {background-color: #d4ebff;}#sk-container-id-34 div.sk-label input.sk-toggleable__control:checked~label.sk-toggleable__label {background-color: #d4ebff;}#sk-container-id-34 input.sk-hidden--visually {border: 0;clip: rect(1px 1px 1px 1px);clip: rect(1px, 1px, 1px, 1px);height: 1px;margin: -1px;overflow: hidden;padding: 0;position: absolute;width: 1px;}#sk-container-id-34 div.sk-estimator {font-family: monospace;background-color: #f0f8ff;border: 1px dotted black;border-radius: 0.25em;box-sizing: border-box;margin-bottom: 0.5em;}#sk-container-id-34 div.sk-estimator:hover {background-color: #d4ebff;}#sk-container-id-34 div.sk-parallel-item::after {content: \"\";width: 100%;border-bottom: 1px solid gray;flex-grow: 1;}#sk-container-id-34 div.sk-label:hover label.sk-toggleable__label {background-color: #d4ebff;}#sk-container-id-34 div.sk-serial::before {content: \"\";position: absolute;border-left: 1px solid gray;box-sizing: border-box;top: 0;bottom: 0;left: 50%;z-index: 0;}#sk-container-id-34 div.sk-serial {display: flex;flex-direction: column;align-items: center;background-color: white;padding-right: 0.2em;padding-left: 0.2em;position: relative;}#sk-container-id-34 div.sk-item {position: relative;z-index: 1;}#sk-container-id-34 div.sk-parallel {display: flex;align-items: stretch;justify-content: center;background-color: white;position: relative;}#sk-container-id-34 div.sk-item::before, #sk-container-id-34 div.sk-parallel-item::before {content: \"\";position: absolute;border-left: 1px solid gray;box-sizing: border-box;top: 0;bottom: 0;left: 50%;z-index: -1;}#sk-container-id-34 div.sk-parallel-item {display: flex;flex-direction: column;z-index: 1;position: relative;background-color: white;}#sk-container-id-34 div.sk-parallel-item:first-child::after {align-self: flex-end;width: 50%;}#sk-container-id-34 div.sk-parallel-item:last-child::after {align-self: flex-start;width: 50%;}#sk-container-id-34 div.sk-parallel-item:only-child::after {width: 0;}#sk-container-id-34 div.sk-dashed-wrapped {border: 1px dashed gray;margin: 0 0.4em 0.5em 0.4em;box-sizing: border-box;padding-bottom: 0.4em;background-color: white;}#sk-container-id-34 div.sk-label label {font-family: monospace;font-weight: bold;display: inline-block;line-height: 1.2em;}#sk-container-id-34 div.sk-label-container {text-align: center;}#sk-container-id-34 div.sk-container {/* jupyter's `normalize.less` sets `[hidden] { display: none; }` but bootstrap.min.css set `[hidden] { display: none !important; }` so we also need the `!important` here to be able to override the default hidden behavior on the sphinx rendered scikit-learn.org. See: https://github.com/scikit-learn/scikit-learn/issues/21755 */display: inline-block !important;position: relative;}#sk-container-id-34 div.sk-text-repr-fallback {display: none;}</style><div id=\"sk-container-id-34\" class=\"sk-top-container\"><div class=\"sk-text-repr-fallback\"><pre>BaggingClassifier(base_estimator=SVC(probability=True), n_estimators=100,\n",
       "                  oob_score=True)</pre><b>In a Jupyter environment, please rerun this cell to show the HTML representation or trust the notebook. <br />On GitHub, the HTML representation is unable to render, please try loading this page with nbviewer.org.</b></div><div class=\"sk-container\" hidden><div class=\"sk-item sk-dashed-wrapped\"><div class=\"sk-label-container\"><div class=\"sk-label sk-toggleable\"><input class=\"sk-toggleable__control sk-hidden--visually\" id=\"sk-estimator-id-106\" type=\"checkbox\" ><label for=\"sk-estimator-id-106\" class=\"sk-toggleable__label sk-toggleable__label-arrow\">BaggingClassifier</label><div class=\"sk-toggleable__content\"><pre>BaggingClassifier(base_estimator=SVC(probability=True), n_estimators=100,\n",
       "                  oob_score=True)</pre></div></div></div><div class=\"sk-parallel\"><div class=\"sk-parallel-item\"><div class=\"sk-item\"><div class=\"sk-label-container\"><div class=\"sk-label sk-toggleable\"><input class=\"sk-toggleable__control sk-hidden--visually\" id=\"sk-estimator-id-107\" type=\"checkbox\" ><label for=\"sk-estimator-id-107\" class=\"sk-toggleable__label sk-toggleable__label-arrow\">base_estimator: SVC</label><div class=\"sk-toggleable__content\"><pre>SVC(probability=True)</pre></div></div></div><div class=\"sk-serial\"><div class=\"sk-item\"><div class=\"sk-estimator sk-toggleable\"><input class=\"sk-toggleable__control sk-hidden--visually\" id=\"sk-estimator-id-108\" type=\"checkbox\" ><label for=\"sk-estimator-id-108\" class=\"sk-toggleable__label sk-toggleable__label-arrow\">SVC</label><div class=\"sk-toggleable__content\"><pre>SVC(probability=True)</pre></div></div></div></div></div></div></div></div></div></div>"
      ],
      "text/plain": [
       "BaggingClassifier(base_estimator=SVC(probability=True), n_estimators=100,\n",
       "                  oob_score=True)"
      ]
     },
     "execution_count": 313,
     "metadata": {},
     "output_type": "execute_result"
    }
   ],
   "source": [
    "bag_clf.fit(employees_prepared_bal, employees_labels_bal)"
   ]
  },
  {
   "cell_type": "code",
   "execution_count": 314,
   "id": "6918e5b8",
   "metadata": {},
   "outputs": [
    {
     "name": "stdout",
     "output_type": "stream",
     "text": [
      "Preformance on Train set:\n",
      "\n",
      "Confusion Matrix:\n",
      " [[955  31]\n",
      " [ 22 964]]\n",
      "Accuracy: 0.9731237322515213\n",
      "Precision: 0.9688442211055276\n",
      "Recall: 0.9776876267748479\n",
      "F1 Score: 0.9732458354366481\n",
      "ROC AUC score: 0.9967002538582755\n",
      "\n",
      "--------------------------------------------------\n",
      "\n",
      "Preformance on Test set:\n",
      "\n",
      "Confusion Matrix:\n",
      " [[238   9]\n",
      " [ 24  23]]\n",
      "Accuracy: 0.8877551020408163\n",
      "Precision: 0.71875\n",
      "Recall: 0.48936170212765956\n",
      "F1 Score: 0.5822784810126582\n",
      "ROC AUC score: 0.8055818761305884\n"
     ]
    }
   ],
   "source": [
    "evaluate_model(model=bag_clf, \n",
    "               X_train=employees_prepared_bal, \n",
    "               y_train=employees_labels_bal, \n",
    "               X_test=employees_test_prepared, \n",
    "               y_test=employees_test_labels)"
   ]
  },
  {
   "cell_type": "code",
   "execution_count": 315,
   "id": "b2825e55",
   "metadata": {},
   "outputs": [
    {
     "data": {
      "text/plain": [
       "0.9320486815415822"
      ]
     },
     "execution_count": 315,
     "metadata": {},
     "output_type": "execute_result"
    }
   ],
   "source": [
    "bag_clf.oob_score_"
   ]
  },
  {
   "cell_type": "markdown",
   "id": "42878f11",
   "metadata": {},
   "source": [
    "## "
   ]
  },
  {
   "cell_type": "markdown",
   "id": "8b8b37e5",
   "metadata": {},
   "source": [
    "### 4c. Ensemble - Random Forest"
   ]
  },
  {
   "cell_type": "code",
   "execution_count": 320,
   "id": "6ee38281",
   "metadata": {},
   "outputs": [],
   "source": [
    "# Now let's try with the Random Forest Classifier\n",
    "\n",
    "from sklearn.ensemble import RandomForestClassifier\n",
    "\n",
    "rf_clf = RandomForestClassifier(n_estimators=200, max_depth=3, random_state=42)"
   ]
  },
  {
   "cell_type": "code",
   "execution_count": 321,
   "id": "f0422e65",
   "metadata": {},
   "outputs": [
    {
     "data": {
      "text/plain": [
       "array([0.76470588, 0.89249493, 0.88438134, 0.86612576])"
      ]
     },
     "execution_count": 321,
     "metadata": {},
     "output_type": "execute_result"
    }
   ],
   "source": [
    "cross_val_score(estimator=rf_clf, X=employees_prepared_bal, y=employees_labels_bal, cv=4, scoring='accuracy')"
   ]
  },
  {
   "cell_type": "code",
   "execution_count": 322,
   "id": "6a0000a6",
   "metadata": {},
   "outputs": [
    {
     "data": {
      "text/html": [
       "<style>#sk-container-id-36 {color: black;background-color: white;}#sk-container-id-36 pre{padding: 0;}#sk-container-id-36 div.sk-toggleable {background-color: white;}#sk-container-id-36 label.sk-toggleable__label {cursor: pointer;display: block;width: 100%;margin-bottom: 0;padding: 0.3em;box-sizing: border-box;text-align: center;}#sk-container-id-36 label.sk-toggleable__label-arrow:before {content: \"▸\";float: left;margin-right: 0.25em;color: #696969;}#sk-container-id-36 label.sk-toggleable__label-arrow:hover:before {color: black;}#sk-container-id-36 div.sk-estimator:hover label.sk-toggleable__label-arrow:before {color: black;}#sk-container-id-36 div.sk-toggleable__content {max-height: 0;max-width: 0;overflow: hidden;text-align: left;background-color: #f0f8ff;}#sk-container-id-36 div.sk-toggleable__content pre {margin: 0.2em;color: black;border-radius: 0.25em;background-color: #f0f8ff;}#sk-container-id-36 input.sk-toggleable__control:checked~div.sk-toggleable__content {max-height: 200px;max-width: 100%;overflow: auto;}#sk-container-id-36 input.sk-toggleable__control:checked~label.sk-toggleable__label-arrow:before {content: \"▾\";}#sk-container-id-36 div.sk-estimator input.sk-toggleable__control:checked~label.sk-toggleable__label {background-color: #d4ebff;}#sk-container-id-36 div.sk-label input.sk-toggleable__control:checked~label.sk-toggleable__label {background-color: #d4ebff;}#sk-container-id-36 input.sk-hidden--visually {border: 0;clip: rect(1px 1px 1px 1px);clip: rect(1px, 1px, 1px, 1px);height: 1px;margin: -1px;overflow: hidden;padding: 0;position: absolute;width: 1px;}#sk-container-id-36 div.sk-estimator {font-family: monospace;background-color: #f0f8ff;border: 1px dotted black;border-radius: 0.25em;box-sizing: border-box;margin-bottom: 0.5em;}#sk-container-id-36 div.sk-estimator:hover {background-color: #d4ebff;}#sk-container-id-36 div.sk-parallel-item::after {content: \"\";width: 100%;border-bottom: 1px solid gray;flex-grow: 1;}#sk-container-id-36 div.sk-label:hover label.sk-toggleable__label {background-color: #d4ebff;}#sk-container-id-36 div.sk-serial::before {content: \"\";position: absolute;border-left: 1px solid gray;box-sizing: border-box;top: 0;bottom: 0;left: 50%;z-index: 0;}#sk-container-id-36 div.sk-serial {display: flex;flex-direction: column;align-items: center;background-color: white;padding-right: 0.2em;padding-left: 0.2em;position: relative;}#sk-container-id-36 div.sk-item {position: relative;z-index: 1;}#sk-container-id-36 div.sk-parallel {display: flex;align-items: stretch;justify-content: center;background-color: white;position: relative;}#sk-container-id-36 div.sk-item::before, #sk-container-id-36 div.sk-parallel-item::before {content: \"\";position: absolute;border-left: 1px solid gray;box-sizing: border-box;top: 0;bottom: 0;left: 50%;z-index: -1;}#sk-container-id-36 div.sk-parallel-item {display: flex;flex-direction: column;z-index: 1;position: relative;background-color: white;}#sk-container-id-36 div.sk-parallel-item:first-child::after {align-self: flex-end;width: 50%;}#sk-container-id-36 div.sk-parallel-item:last-child::after {align-self: flex-start;width: 50%;}#sk-container-id-36 div.sk-parallel-item:only-child::after {width: 0;}#sk-container-id-36 div.sk-dashed-wrapped {border: 1px dashed gray;margin: 0 0.4em 0.5em 0.4em;box-sizing: border-box;padding-bottom: 0.4em;background-color: white;}#sk-container-id-36 div.sk-label label {font-family: monospace;font-weight: bold;display: inline-block;line-height: 1.2em;}#sk-container-id-36 div.sk-label-container {text-align: center;}#sk-container-id-36 div.sk-container {/* jupyter's `normalize.less` sets `[hidden] { display: none; }` but bootstrap.min.css set `[hidden] { display: none !important; }` so we also need the `!important` here to be able to override the default hidden behavior on the sphinx rendered scikit-learn.org. See: https://github.com/scikit-learn/scikit-learn/issues/21755 */display: inline-block !important;position: relative;}#sk-container-id-36 div.sk-text-repr-fallback {display: none;}</style><div id=\"sk-container-id-36\" class=\"sk-top-container\"><div class=\"sk-text-repr-fallback\"><pre>RandomForestClassifier(max_depth=3, n_estimators=200, random_state=42)</pre><b>In a Jupyter environment, please rerun this cell to show the HTML representation or trust the notebook. <br />On GitHub, the HTML representation is unable to render, please try loading this page with nbviewer.org.</b></div><div class=\"sk-container\" hidden><div class=\"sk-item\"><div class=\"sk-estimator sk-toggleable\"><input class=\"sk-toggleable__control sk-hidden--visually\" id=\"sk-estimator-id-110\" type=\"checkbox\" checked><label for=\"sk-estimator-id-110\" class=\"sk-toggleable__label sk-toggleable__label-arrow\">RandomForestClassifier</label><div class=\"sk-toggleable__content\"><pre>RandomForestClassifier(max_depth=3, n_estimators=200, random_state=42)</pre></div></div></div></div></div>"
      ],
      "text/plain": [
       "RandomForestClassifier(max_depth=3, n_estimators=200, random_state=42)"
      ]
     },
     "execution_count": 322,
     "metadata": {},
     "output_type": "execute_result"
    }
   ],
   "source": [
    "rf_clf.fit(employees_prepared_bal, employees_labels_bal)"
   ]
  },
  {
   "cell_type": "code",
   "execution_count": 323,
   "id": "1c1dd697",
   "metadata": {},
   "outputs": [
    {
     "name": "stdout",
     "output_type": "stream",
     "text": [
      "Preformance on Train set:\n",
      "\n",
      "Confusion Matrix:\n",
      " [[890  96]\n",
      " [163 823]]\n",
      "Accuracy: 0.8686612576064908\n",
      "Precision: 0.8955386289445049\n",
      "Recall: 0.834685598377282\n",
      "F1 Score: 0.8640419947506561\n",
      "ROC AUC score: 0.9358082115129048\n",
      "\n",
      "--------------------------------------------------\n",
      "\n",
      "Preformance on Test set:\n",
      "\n",
      "Confusion Matrix:\n",
      " [[222  25]\n",
      " [ 21  26]]\n",
      "Accuracy: 0.8435374149659864\n",
      "Precision: 0.5098039215686274\n",
      "Recall: 0.5531914893617021\n",
      "F1 Score: 0.5306122448979591\n",
      "ROC AUC score: 0.8167800844172625\n"
     ]
    }
   ],
   "source": [
    "evaluate_model(model=rf_clf, \n",
    "               X_train=employees_prepared_bal, \n",
    "               y_train=employees_labels_bal, \n",
    "               X_test=employees_test_prepared, \n",
    "               y_test=employees_test_labels)"
   ]
  },
  {
   "cell_type": "code",
   "execution_count": 327,
   "id": "4b1e5966",
   "metadata": {},
   "outputs": [
    {
     "name": "stdout",
     "output_type": "stream",
     "text": [
      "Fitting 5 folds for each of 648 candidates, totalling 3240 fits\n"
     ]
    },
    {
     "data": {
      "text/html": [
       "<style>#sk-container-id-37 {color: black;background-color: white;}#sk-container-id-37 pre{padding: 0;}#sk-container-id-37 div.sk-toggleable {background-color: white;}#sk-container-id-37 label.sk-toggleable__label {cursor: pointer;display: block;width: 100%;margin-bottom: 0;padding: 0.3em;box-sizing: border-box;text-align: center;}#sk-container-id-37 label.sk-toggleable__label-arrow:before {content: \"▸\";float: left;margin-right: 0.25em;color: #696969;}#sk-container-id-37 label.sk-toggleable__label-arrow:hover:before {color: black;}#sk-container-id-37 div.sk-estimator:hover label.sk-toggleable__label-arrow:before {color: black;}#sk-container-id-37 div.sk-toggleable__content {max-height: 0;max-width: 0;overflow: hidden;text-align: left;background-color: #f0f8ff;}#sk-container-id-37 div.sk-toggleable__content pre {margin: 0.2em;color: black;border-radius: 0.25em;background-color: #f0f8ff;}#sk-container-id-37 input.sk-toggleable__control:checked~div.sk-toggleable__content {max-height: 200px;max-width: 100%;overflow: auto;}#sk-container-id-37 input.sk-toggleable__control:checked~label.sk-toggleable__label-arrow:before {content: \"▾\";}#sk-container-id-37 div.sk-estimator input.sk-toggleable__control:checked~label.sk-toggleable__label {background-color: #d4ebff;}#sk-container-id-37 div.sk-label input.sk-toggleable__control:checked~label.sk-toggleable__label {background-color: #d4ebff;}#sk-container-id-37 input.sk-hidden--visually {border: 0;clip: rect(1px 1px 1px 1px);clip: rect(1px, 1px, 1px, 1px);height: 1px;margin: -1px;overflow: hidden;padding: 0;position: absolute;width: 1px;}#sk-container-id-37 div.sk-estimator {font-family: monospace;background-color: #f0f8ff;border: 1px dotted black;border-radius: 0.25em;box-sizing: border-box;margin-bottom: 0.5em;}#sk-container-id-37 div.sk-estimator:hover {background-color: #d4ebff;}#sk-container-id-37 div.sk-parallel-item::after {content: \"\";width: 100%;border-bottom: 1px solid gray;flex-grow: 1;}#sk-container-id-37 div.sk-label:hover label.sk-toggleable__label {background-color: #d4ebff;}#sk-container-id-37 div.sk-serial::before {content: \"\";position: absolute;border-left: 1px solid gray;box-sizing: border-box;top: 0;bottom: 0;left: 50%;z-index: 0;}#sk-container-id-37 div.sk-serial {display: flex;flex-direction: column;align-items: center;background-color: white;padding-right: 0.2em;padding-left: 0.2em;position: relative;}#sk-container-id-37 div.sk-item {position: relative;z-index: 1;}#sk-container-id-37 div.sk-parallel {display: flex;align-items: stretch;justify-content: center;background-color: white;position: relative;}#sk-container-id-37 div.sk-item::before, #sk-container-id-37 div.sk-parallel-item::before {content: \"\";position: absolute;border-left: 1px solid gray;box-sizing: border-box;top: 0;bottom: 0;left: 50%;z-index: -1;}#sk-container-id-37 div.sk-parallel-item {display: flex;flex-direction: column;z-index: 1;position: relative;background-color: white;}#sk-container-id-37 div.sk-parallel-item:first-child::after {align-self: flex-end;width: 50%;}#sk-container-id-37 div.sk-parallel-item:last-child::after {align-self: flex-start;width: 50%;}#sk-container-id-37 div.sk-parallel-item:only-child::after {width: 0;}#sk-container-id-37 div.sk-dashed-wrapped {border: 1px dashed gray;margin: 0 0.4em 0.5em 0.4em;box-sizing: border-box;padding-bottom: 0.4em;background-color: white;}#sk-container-id-37 div.sk-label label {font-family: monospace;font-weight: bold;display: inline-block;line-height: 1.2em;}#sk-container-id-37 div.sk-label-container {text-align: center;}#sk-container-id-37 div.sk-container {/* jupyter's `normalize.less` sets `[hidden] { display: none; }` but bootstrap.min.css set `[hidden] { display: none !important; }` so we also need the `!important` here to be able to override the default hidden behavior on the sphinx rendered scikit-learn.org. See: https://github.com/scikit-learn/scikit-learn/issues/21755 */display: inline-block !important;position: relative;}#sk-container-id-37 div.sk-text-repr-fallback {display: none;}</style><div id=\"sk-container-id-37\" class=\"sk-top-container\"><div class=\"sk-text-repr-fallback\"><pre>GridSearchCV(cv=StratifiedKFold(n_splits=5, random_state=None, shuffle=False),\n",
       "             estimator=RandomForestClassifier(oob_score=True, random_state=42),\n",
       "             n_jobs=-1,\n",
       "             param_grid={&#x27;criterion&#x27;: [&#x27;gini&#x27;, &#x27;entropy&#x27;],\n",
       "                         &#x27;max_depth&#x27;: [5, 7, 9],\n",
       "                         &#x27;max_features&#x27;: [&#x27;sqrt&#x27;, &#x27;log2&#x27;, None],\n",
       "                         &#x27;min_samples_leaf&#x27;: [5, 10, 15],\n",
       "                         &#x27;min_samples_split&#x27;: [5, 10, 15],\n",
       "                         &#x27;n_estimators&#x27;: [200, 300, 500, 700]},\n",
       "             refit=&#x27;accuracy&#x27;,\n",
       "             scoring=[&#x27;accuracy&#x27;, &#x27;precision&#x27;, &#x27;recall&#x27;, &#x27;f1&#x27;, &#x27;roc_auc&#x27;],\n",
       "             verbose=1)</pre><b>In a Jupyter environment, please rerun this cell to show the HTML representation or trust the notebook. <br />On GitHub, the HTML representation is unable to render, please try loading this page with nbviewer.org.</b></div><div class=\"sk-container\" hidden><div class=\"sk-item sk-dashed-wrapped\"><div class=\"sk-label-container\"><div class=\"sk-label sk-toggleable\"><input class=\"sk-toggleable__control sk-hidden--visually\" id=\"sk-estimator-id-111\" type=\"checkbox\" ><label for=\"sk-estimator-id-111\" class=\"sk-toggleable__label sk-toggleable__label-arrow\">GridSearchCV</label><div class=\"sk-toggleable__content\"><pre>GridSearchCV(cv=StratifiedKFold(n_splits=5, random_state=None, shuffle=False),\n",
       "             estimator=RandomForestClassifier(oob_score=True, random_state=42),\n",
       "             n_jobs=-1,\n",
       "             param_grid={&#x27;criterion&#x27;: [&#x27;gini&#x27;, &#x27;entropy&#x27;],\n",
       "                         &#x27;max_depth&#x27;: [5, 7, 9],\n",
       "                         &#x27;max_features&#x27;: [&#x27;sqrt&#x27;, &#x27;log2&#x27;, None],\n",
       "                         &#x27;min_samples_leaf&#x27;: [5, 10, 15],\n",
       "                         &#x27;min_samples_split&#x27;: [5, 10, 15],\n",
       "                         &#x27;n_estimators&#x27;: [200, 300, 500, 700]},\n",
       "             refit=&#x27;accuracy&#x27;,\n",
       "             scoring=[&#x27;accuracy&#x27;, &#x27;precision&#x27;, &#x27;recall&#x27;, &#x27;f1&#x27;, &#x27;roc_auc&#x27;],\n",
       "             verbose=1)</pre></div></div></div><div class=\"sk-parallel\"><div class=\"sk-parallel-item\"><div class=\"sk-item\"><div class=\"sk-label-container\"><div class=\"sk-label sk-toggleable\"><input class=\"sk-toggleable__control sk-hidden--visually\" id=\"sk-estimator-id-112\" type=\"checkbox\" ><label for=\"sk-estimator-id-112\" class=\"sk-toggleable__label sk-toggleable__label-arrow\">estimator: RandomForestClassifier</label><div class=\"sk-toggleable__content\"><pre>RandomForestClassifier(oob_score=True, random_state=42)</pre></div></div></div><div class=\"sk-serial\"><div class=\"sk-item\"><div class=\"sk-estimator sk-toggleable\"><input class=\"sk-toggleable__control sk-hidden--visually\" id=\"sk-estimator-id-113\" type=\"checkbox\" ><label for=\"sk-estimator-id-113\" class=\"sk-toggleable__label sk-toggleable__label-arrow\">RandomForestClassifier</label><div class=\"sk-toggleable__content\"><pre>RandomForestClassifier(oob_score=True, random_state=42)</pre></div></div></div></div></div></div></div></div></div></div>"
      ],
      "text/plain": [
       "GridSearchCV(cv=StratifiedKFold(n_splits=5, random_state=None, shuffle=False),\n",
       "             estimator=RandomForestClassifier(oob_score=True, random_state=42),\n",
       "             n_jobs=-1,\n",
       "             param_grid={'criterion': ['gini', 'entropy'],\n",
       "                         'max_depth': [5, 7, 9],\n",
       "                         'max_features': ['sqrt', 'log2', None],\n",
       "                         'min_samples_leaf': [5, 10, 15],\n",
       "                         'min_samples_split': [5, 10, 15],\n",
       "                         'n_estimators': [200, 300, 500, 700]},\n",
       "             refit='accuracy',\n",
       "             scoring=['accuracy', 'precision', 'recall', 'f1', 'roc_auc'],\n",
       "             verbose=1)"
      ]
     },
     "execution_count": 327,
     "metadata": {},
     "output_type": "execute_result"
    }
   ],
   "source": [
    "# Let's try hyperparameter tuning\n",
    "\n",
    "from sklearn.model_selection import GridSearchCV, StratifiedKFold\n",
    "\n",
    "model_rf_clf = RandomForestClassifier(oob_score=True, random_state=42)\n",
    "\n",
    "param_grid = {\n",
    "    'n_estimators': [200, 300, 500, 700],\n",
    "    'criterion': ['gini', 'entropy'],\n",
    "    'max_depth': [5, 7, 9],\n",
    "    'min_samples_split': [5, 10, 15],\n",
    "    'min_samples_leaf': [5, 10, 15],\n",
    "    'max_features': ['sqrt', 'log2', None]\n",
    "}\n",
    "\n",
    "skf = StratifiedKFold(n_splits=5)\n",
    "\n",
    "rf_clf_cv = GridSearchCV(estimator=model_rf_clf, \n",
    "                         param_grid=param_grid, \n",
    "                         scoring=['accuracy', 'precision', 'recall', 'f1', 'roc_auc'], \n",
    "                         refit='accuracy', \n",
    "                         cv=skf, \n",
    "                         verbose=1, \n",
    "                         n_jobs=-1)\n",
    "\n",
    "rf_clf_cv.fit(employees_prepared_bal, employees_labels_bal)"
   ]
  },
  {
   "cell_type": "code",
   "execution_count": 328,
   "id": "5d646eb3",
   "metadata": {},
   "outputs": [
    {
     "data": {
      "text/plain": [
       "{'criterion': 'entropy',\n",
       " 'max_depth': 9,\n",
       " 'max_features': None,\n",
       " 'min_samples_leaf': 5,\n",
       " 'min_samples_split': 5,\n",
       " 'n_estimators': 200}"
      ]
     },
     "execution_count": 328,
     "metadata": {},
     "output_type": "execute_result"
    }
   ],
   "source": [
    "rf_clf_cv.best_params_"
   ]
  },
  {
   "cell_type": "code",
   "execution_count": 329,
   "id": "77f4f7bb",
   "metadata": {},
   "outputs": [
    {
     "data": {
      "text/plain": [
       "0.9199524513268651"
      ]
     },
     "execution_count": 329,
     "metadata": {},
     "output_type": "execute_result"
    }
   ],
   "source": [
    "rf_clf_cv.best_score_"
   ]
  },
  {
   "cell_type": "code",
   "execution_count": 332,
   "id": "05debcbb",
   "metadata": {},
   "outputs": [
    {
     "data": {
      "text/plain": [
       "0.9249492900608519"
      ]
     },
     "execution_count": 332,
     "metadata": {},
     "output_type": "execute_result"
    }
   ],
   "source": [
    "rf_clf_cv.best_estimator_.oob_score_"
   ]
  },
  {
   "cell_type": "code",
   "execution_count": 330,
   "id": "32d0d0be",
   "metadata": {},
   "outputs": [
    {
     "data": {
      "text/html": [
       "<div>\n",
       "<style scoped>\n",
       "    .dataframe tbody tr th:only-of-type {\n",
       "        vertical-align: middle;\n",
       "    }\n",
       "\n",
       "    .dataframe tbody tr th {\n",
       "        vertical-align: top;\n",
       "    }\n",
       "\n",
       "    .dataframe thead th {\n",
       "        text-align: right;\n",
       "    }\n",
       "</style>\n",
       "<table border=\"1\" class=\"dataframe\">\n",
       "  <thead>\n",
       "    <tr style=\"text-align: right;\">\n",
       "      <th></th>\n",
       "      <th>mean_test_accuracy</th>\n",
       "      <th>mean_test_precision</th>\n",
       "      <th>mean_test_recall</th>\n",
       "      <th>mean_test_f1</th>\n",
       "      <th>mean_test_roc_auc</th>\n",
       "    </tr>\n",
       "  </thead>\n",
       "  <tbody>\n",
       "    <tr>\n",
       "      <th>612</th>\n",
       "      <td>0.919952</td>\n",
       "      <td>0.953958</td>\n",
       "      <td>0.879198</td>\n",
       "      <td>0.900030</td>\n",
       "      <td>0.976003</td>\n",
       "    </tr>\n",
       "    <tr>\n",
       "      <th>616</th>\n",
       "      <td>0.919952</td>\n",
       "      <td>0.953958</td>\n",
       "      <td>0.879198</td>\n",
       "      <td>0.900030</td>\n",
       "      <td>0.976003</td>\n",
       "    </tr>\n",
       "    <tr>\n",
       "      <th>613</th>\n",
       "      <td>0.918432</td>\n",
       "      <td>0.954593</td>\n",
       "      <td>0.876152</td>\n",
       "      <td>0.897085</td>\n",
       "      <td>0.976055</td>\n",
       "    </tr>\n",
       "    <tr>\n",
       "      <th>617</th>\n",
       "      <td>0.918432</td>\n",
       "      <td>0.954593</td>\n",
       "      <td>0.876152</td>\n",
       "      <td>0.897085</td>\n",
       "      <td>0.976055</td>\n",
       "    </tr>\n",
       "    <tr>\n",
       "      <th>618</th>\n",
       "      <td>0.917925</td>\n",
       "      <td>0.951846</td>\n",
       "      <td>0.877168</td>\n",
       "      <td>0.897170</td>\n",
       "      <td>0.976234</td>\n",
       "    </tr>\n",
       "  </tbody>\n",
       "</table>\n",
       "</div>"
      ],
      "text/plain": [
       "     mean_test_accuracy  mean_test_precision  mean_test_recall  mean_test_f1  \\\n",
       "612            0.919952             0.953958          0.879198      0.900030   \n",
       "616            0.919952             0.953958          0.879198      0.900030   \n",
       "613            0.918432             0.954593          0.876152      0.897085   \n",
       "617            0.918432             0.954593          0.876152      0.897085   \n",
       "618            0.917925             0.951846          0.877168      0.897170   \n",
       "\n",
       "     mean_test_roc_auc  \n",
       "612           0.976003  \n",
       "616           0.976003  \n",
       "613           0.976055  \n",
       "617           0.976055  \n",
       "618           0.976234  "
      ]
     },
     "execution_count": 330,
     "metadata": {},
     "output_type": "execute_result"
    }
   ],
   "source": [
    "pd.DataFrame(rf_clf_cv.cv_results_)[['mean_test_accuracy', 'mean_test_precision', 'mean_test_recall', 'mean_test_f1', \n",
    "                                     'mean_test_roc_auc']].sort_values(by='mean_test_accuracy', ascending=False).head()"
   ]
  },
  {
   "cell_type": "code",
   "execution_count": 331,
   "id": "d81aa384",
   "metadata": {},
   "outputs": [
    {
     "name": "stdout",
     "output_type": "stream",
     "text": [
      "Preformance on Train set:\n",
      "\n",
      "Confusion Matrix:\n",
      " [[979   7]\n",
      " [ 39 947]]\n",
      "Accuracy: 0.9766734279918864\n",
      "Precision: 0.9926624737945493\n",
      "Recall: 0.960446247464503\n",
      "F1 Score: 0.9762886597938144\n",
      "ROC AUC score: 0.9992120930347378\n",
      "\n",
      "--------------------------------------------------\n",
      "\n",
      "Preformance on Test set:\n",
      "\n",
      "Confusion Matrix:\n",
      " [[243   4]\n",
      " [ 31  16]]\n",
      "Accuracy: 0.8809523809523809\n",
      "Precision: 0.8\n",
      "Recall: 0.3404255319148936\n",
      "F1 Score: 0.47761194029850745\n",
      "ROC AUC score: 0.8079937979154104\n"
     ]
    }
   ],
   "source": [
    "evaluate_model(model=rf_clf_cv, \n",
    "               X_train=employees_prepared_bal, \n",
    "               y_train=employees_labels_bal, \n",
    "               X_test=employees_test_prepared, \n",
    "               y_test=employees_test_labels)"
   ]
  },
  {
   "cell_type": "code",
   "execution_count": 333,
   "id": "579b54d1",
   "metadata": {},
   "outputs": [
    {
     "data": {
      "text/plain": [
       "one_hot_encoding__OverTime_No                          0.102365\n",
       "one_hot_encoding__OverTime_Yes                         0.097657\n",
       "scaling__StockOptionLevel                              0.061468\n",
       "one_hot_encoding__MaritalStatus_Single                 0.055210\n",
       "scaling__JobSatisfaction                               0.050912\n",
       "scaling__JobLevel                                      0.036967\n",
       "scaling__DistanceFromHome                              0.032816\n",
       "one_hot_encoding__BusinessTravel_Travel_Frequently     0.030276\n",
       "scaling__Age                                           0.029800\n",
       "scaling__EnvironmentSatisfaction                       0.028716\n",
       "scaling__DailyRate                                     0.026472\n",
       "scaling__MonthlyIncome                                 0.025214\n",
       "one_hot_encoding__EducationField_Life Sciences         0.023865\n",
       "scaling__YearsAtCompany                                0.021764\n",
       "scaling__NumCompaniesWorked                            0.021108\n",
       "scaling__YearsInCurrentRole                            0.020036\n",
       "scaling__TotalWorkingYears                             0.019374\n",
       "scaling__RelationshipSatisfaction                      0.018797\n",
       "scaling__MonthlyRate                                   0.017101\n",
       "one_hot_encoding__JobRole_Sales Representative         0.016224\n",
       "one_hot_encoding__EducationField_Medical               0.016191\n",
       "one_hot_encoding__JobRole_Sales Executive              0.016137\n",
       "scaling__YearsSinceLastPromotion                       0.015356\n",
       "scaling__YearsWithCurrManager                          0.015139\n",
       "one_hot_encoding__JobRole_Laboratory Technician        0.014578\n",
       "one_hot_encoding__JobRole_Research Scientist           0.014350\n",
       "scaling__PercentSalaryHike                             0.013948\n",
       "scaling__JobInvolvement                                0.013791\n",
       "scaling__HourlyRate                                    0.013107\n",
       "scaling__WorkLifeBalance                               0.012529\n",
       "scaling__TrainingTimesLastYear                         0.011765\n",
       "scaling__Education                                     0.010974\n",
       "one_hot_encoding__Department_Sales                     0.010823\n",
       "one_hot_encoding__Department_Research & Development    0.007576\n",
       "one_hot_encoding__Gender_Female                        0.005588\n",
       "one_hot_encoding__Gender_Male                          0.005508\n",
       "one_hot_encoding__BusinessTravel_Travel_Rarely         0.005490\n",
       "one_hot_encoding__EducationField_Marketing             0.004952\n",
       "one_hot_encoding__MaritalStatus_Married                0.004142\n",
       "one_hot_encoding__EducationField_Technical Degree      0.004074\n",
       "one_hot_encoding__MaritalStatus_Divorced               0.003800\n",
       "one_hot_encoding__JobRole_Manufacturing Director       0.003772\n",
       "one_hot_encoding__JobRole_Healthcare Representative    0.000875\n",
       "scaling__PerformanceRating                             0.000702\n",
       "one_hot_encoding__EducationField_Other                 0.000500\n",
       "one_hot_encoding__BusinessTravel_Non-Travel            0.000477\n",
       "one_hot_encoding__JobRole_Manager                      0.000453\n",
       "one_hot_encoding__JobRole_Human Resources              0.000354\n",
       "one_hot_encoding__JobRole_Research Director            0.000113\n",
       "one_hot_encoding__Department_Human Resources           0.000099\n",
       "one_hot_encoding__EducationField_Human Resources       0.000093\n",
       "dtype: float64"
      ]
     },
     "execution_count": 333,
     "metadata": {},
     "output_type": "execute_result"
    }
   ],
   "source": [
    "feature_names = full_pipeline[:-1].get_feature_names_out()\n",
    "\n",
    "pd.Series(data=rf_clf_cv.best_estimator_.feature_importances_[:-1], index=full_pipeline[:-1].get_feature_names_out()).sort_values(ascending=False)"
   ]
  },
  {
   "cell_type": "code",
   "execution_count": null,
   "id": "9ed4d190",
   "metadata": {},
   "outputs": [],
   "source": []
  }
 ],
 "metadata": {
  "kernelspec": {
   "display_name": "Python 3 (ipykernel)",
   "language": "python",
   "name": "python3"
  },
  "language_info": {
   "codemirror_mode": {
    "name": "ipython",
    "version": 3
   },
   "file_extension": ".py",
   "mimetype": "text/x-python",
   "name": "python",
   "nbconvert_exporter": "python",
   "pygments_lexer": "ipython3",
   "version": "3.8.2"
  },
  "varInspector": {
   "cols": {
    "lenName": 16,
    "lenType": 16,
    "lenVar": 40
   },
   "kernels_config": {
    "python": {
     "delete_cmd_postfix": "",
     "delete_cmd_prefix": "del ",
     "library": "var_list.py",
     "varRefreshCmd": "print(var_dic_list())"
    },
    "r": {
     "delete_cmd_postfix": ") ",
     "delete_cmd_prefix": "rm(",
     "library": "var_list.r",
     "varRefreshCmd": "cat(var_dic_list()) "
    }
   },
   "types_to_exclude": [
    "module",
    "function",
    "builtin_function_or_method",
    "instance",
    "_Feature"
   ],
   "window_display": false
  }
 },
 "nbformat": 4,
 "nbformat_minor": 5
}
